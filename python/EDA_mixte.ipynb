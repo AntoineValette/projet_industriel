{
 "cells": [
  {
   "cell_type": "code",
   "execution_count": 1,
   "id": "bfafcddc-43c5-4f41-b141-322509721f19",
   "metadata": {},
   "outputs": [],
   "source": [
    "import pandas as pda\n",
    "import matplotlib.pyplot as plt\n",
    "import numpy as np"
   ]
  },
  {
   "cell_type": "code",
   "execution_count": 6,
   "id": "894b38fb-1027-46a4-9455-31f3563231f3",
   "metadata": {},
   "outputs": [],
   "source": [
    "logs_err = pda.read_csv('../Data/241016_LogETLError.csv', sep=';', dtype={'Program_Id': str, 'Schedules_Id': str, 'Schedules_Name': str})\n",
    "logs = pda.read_csv('../Data/241016_LogETL.csv',sep=';')"
   ]
  },
  {
   "cell_type": "code",
   "execution_count": null,
   "id": "a285c856-1576-468a-8539-a911b078dac6",
   "metadata": {},
   "outputs": [],
   "source": []
  }
 ],
 "metadata": {
  "kernelspec": {
   "display_name": "Python 3 (ipykernel)",
   "language": "python",
   "name": "python3"
  },
  "language_info": {
   "codemirror_mode": {
    "name": "ipython",
    "version": 3
   },
   "file_extension": ".py",
   "mimetype": "text/x-python",
   "name": "python",
   "nbconvert_exporter": "python",
   "pygments_lexer": "ipython3",
   "version": "3.9.20"
  }
 },
 "nbformat": 4,
 "nbformat_minor": 5
}
