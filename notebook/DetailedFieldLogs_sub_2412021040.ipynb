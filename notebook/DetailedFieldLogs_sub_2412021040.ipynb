{
 "cells": [
  {
   "cell_type": "markdown",
   "metadata": {},
   "source": [
    "# Exploration des données de Field"
   ]
  },
  {
   "cell_type": "code",
   "execution_count": 1,
   "metadata": {},
   "outputs": [],
   "source": [
    "import matplotlib.pyplot as plt\n",
    "import pandas as pd\n",
    "import seaborn as sns"
   ]
  },
  {
   "cell_type": "code",
   "execution_count": 3,
   "metadata": {},
   "outputs": [
    {
     "name": "stdout",
     "output_type": "stream",
     "text": [
      "          Id                  DatetimeLog                     ModelId  \\\n",
      "0  144816932    2024-09-10 03:01:56.62439  DW/MyPrimever/Exploitation   \n",
      "1  144816933   2024-09-10 03:01:56.624398  DW/MyPrimever/Exploitation   \n",
      "2  144816934  2024-09-10 03:01:56.6244006  DW/MyPrimever/Exploitation   \n",
      "3  144816935  2024-09-10 03:01:56.6244018  DW/MyPrimever/Exploitation   \n",
      "4  144816936  2024-09-10 03:01:56.6244028  DW/MyPrimever/Exploitation   \n",
      "\n",
      "         ModelName TableId TableName    RangeAddress            FieldId  \\\n",
      "0  DW/Exploitation    None      None  'Retours'!$A$1  REFERENCECOMMANDE   \n",
      "1  DW/Exploitation    None      None  'Retours'!$A$1             DATE_0   \n",
      "2  DW/Exploitation    None      None  'Retours'!$A$1    DATE__LIVRAISON   \n",
      "3  DW/Exploitation    None      None  'Retours'!$A$1     RAISONSOCIALE1   \n",
      "4  DW/Exploitation    None      None  'Retours'!$A$1     RAISONSOCIALE0   \n",
      "\n",
      "                                 FieldName          Login          FirstName  \\\n",
      "0      Quoi ?/Commandes/Référence Commande  Login_sub_257  FirstName_sub_357   \n",
      "1  Quand ?/Date Enlèvement/Date Enlèvement  Login_sub_257  FirstName_sub_357   \n",
      "2    Quand ?/Date Livraison/Date Livraison  Login_sub_257  FirstName_sub_357   \n",
      "3              Qui ?/Expéditeur/Expéditeur  Login_sub_257  FirstName_sub_357   \n",
      "4  Qui ?/Point Enlèvement/Point Enlèvement  Login_sub_257  FirstName_sub_357   \n",
      "\n",
      "           LastName  ExecutionType                         ExecutionGuid  \\\n",
      "0  LastName_sub_190              4  FC96BBA5-F84E-45FF-BB0F-5285992DCA74   \n",
      "1  LastName_sub_190              4  FC96BBA5-F84E-45FF-BB0F-5285992DCA74   \n",
      "2  LastName_sub_190              4  FC96BBA5-F84E-45FF-BB0F-5285992DCA74   \n",
      "3  LastName_sub_190              4  FC96BBA5-F84E-45FF-BB0F-5285992DCA74   \n",
      "4  LastName_sub_190              4  FC96BBA5-F84E-45FF-BB0F-5285992DCA74   \n",
      "\n",
      "               WorkbookName  \\\n",
      "0  Tableau des Retours.xlsx   \n",
      "1  Tableau des Retours.xlsx   \n",
      "2  Tableau des Retours.xlsx   \n",
      "3  Tableau des Retours.xlsx   \n",
      "4  Tableau des Retours.xlsx   \n",
      "\n",
      "                                        WorkbookPath     MachineName  \\\n",
      "0  C:\\MySystem BE\\Distribution\\Diffusion\\01_TMS\\T...  VDRREPORTFRONT   \n",
      "1  C:\\MySystem BE\\Distribution\\Diffusion\\01_TMS\\T...  VDRREPORTFRONT   \n",
      "2  C:\\MySystem BE\\Distribution\\Diffusion\\01_TMS\\T...  VDRREPORTFRONT   \n",
      "3  C:\\MySystem BE\\Distribution\\Diffusion\\01_TMS\\T...  VDRREPORTFRONT   \n",
      "4  C:\\MySystem BE\\Distribution\\Diffusion\\01_TMS\\T...  VDRREPORTFRONT   \n",
      "\n",
      "                                      DistributionId     DistributionName  \\\n",
      "0  Distribution_62504cc0-a240-41f6-92d7-2db5a130032f  Tableau des retours   \n",
      "1  Distribution_62504cc0-a240-41f6-92d7-2db5a130032f  Tableau des retours   \n",
      "2  Distribution_62504cc0-a240-41f6-92d7-2db5a130032f  Tableau des retours   \n",
      "3  Distribution_62504cc0-a240-41f6-92d7-2db5a130032f  Tableau des retours   \n",
      "4  Distribution_62504cc0-a240-41f6-92d7-2db5a130032f  Tableau des retours   \n",
      "\n",
      "               ScheduleId                    ScheduleName DashboardId  \\\n",
      "0  ETLPROGRAMMATIONWQ0FX3  Messenger Quotidien Lun-Dim 3h        None   \n",
      "1  ETLPROGRAMMATIONWQ0FX3  Messenger Quotidien Lun-Dim 3h        None   \n",
      "2  ETLPROGRAMMATIONWQ0FX3  Messenger Quotidien Lun-Dim 3h        None   \n",
      "3  ETLPROGRAMMATIONWQ0FX3  Messenger Quotidien Lun-Dim 3h        None   \n",
      "4  ETLPROGRAMMATIONWQ0FX3  Messenger Quotidien Lun-Dim 3h        None   \n",
      "\n",
      "  DashboardName TabName  IsEmbedded      SessionName  \n",
      "0          None    None         0.0  VDRREPORTFRONT$  \n",
      "1          None    None         0.0  VDRREPORTFRONT$  \n",
      "2          None    None         0.0  VDRREPORTFRONT$  \n",
      "3          None    None         0.0  VDRREPORTFRONT$  \n",
      "4          None    None         0.0  VDRREPORTFRONT$  \n"
     ]
    }
   ],
   "source": [
    "import pandas as pd\n",
    "\n",
    "# Lire un fichier Parquet\n",
    "df = pd.read_parquet('../data/logParquet/DetailedFieldLogs_sub_2412021040.parquet')\n",
    "\n",
    "pd.set_option('display.max_columns', None)\n",
    "\n",
    "# Afficher les premières lignes\n",
    "print(df.head())"
   ]
  }
 ],
 "metadata": {
  "kernelspec": {
   "display_name": "DORenv",
   "language": "python",
   "name": "python3"
  },
  "language_info": {
   "codemirror_mode": {
    "name": "ipython",
    "version": 3
   },
   "file_extension": ".py",
   "mimetype": "text/x-python",
   "name": "python",
   "nbconvert_exporter": "python",
   "pygments_lexer": "ipython3",
   "version": "3.13.1"
  }
 },
 "nbformat": 4,
 "nbformat_minor": 2
}
