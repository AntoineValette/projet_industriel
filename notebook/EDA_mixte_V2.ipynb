{
 "cells": [
  {
   "cell_type": "markdown",
   "metadata": {},
   "source": [
    "Création d'un dataframe reprenant les deux fichiers de logs"
   ]
  },
  {
   "cell_type": "code",
   "metadata": {},
   "source": [
    "import pandas as pd\n",
    "import matplotlib.pyplot as plt"
   ],
   "outputs": [],
   "execution_count": null
  },
  {
   "cell_type": "code",
   "metadata": {},
   "source": [
    "df_err = pd.read_csv('../Data/logEtl/241016_LogETLError.csv', sep=';', dtype={'Program_Id': str, 'Schedules_Id': str, 'Schedules_Name': str})"
   ],
   "outputs": [],
   "execution_count": null
  },
  {
   "cell_type": "code",
   "metadata": {},
   "source": [
    "df = pd.read_csv('../data/logEtl/241016_LogETL.csv',sep=';')"
   ],
   "outputs": [],
   "execution_count": null
  },
  {
   "cell_type": "code",
   "metadata": {},
   "source": [
    "df.columns"
   ],
   "outputs": [],
   "execution_count": null
  },
  {
   "cell_type": "code",
   "metadata": {},
   "source": [
    "df_filtered = df.drop(columns=['Server version', 'Client version'])"
   ],
   "outputs": [],
   "execution_count": null
  },
  {
   "cell_type": "code",
   "metadata": {},
   "source": [
    "df_filtered.columns"
   ],
   "outputs": [],
   "execution_count": null
  },
  {
   "cell_type": "code",
   "metadata": {},
   "source": [
    "df_err.columns"
   ],
   "outputs": [],
   "execution_count": null
  },
  {
   "cell_type": "code",
   "metadata": {},
   "source": [
    "df_err_filtered = df_err.drop(columns=['Server version', 'Client version'])"
   ],
   "outputs": [],
   "execution_count": null
  },
  {
   "cell_type": "code",
   "metadata": {},
   "source": [
    "#df_err_filtered.columns = [col + \"_err\" for col in df_err_filtered.columns]"
   ],
   "outputs": [],
   "execution_count": null
  },
  {
   "cell_type": "code",
   "metadata": {},
   "source": [
    "df_err_filtered.columns"
   ],
   "outputs": [],
   "execution_count": null
  },
  {
   "cell_type": "code",
   "metadata": {},
   "source": [
    "def categorize_message(message):\n",
    "    message = message.lower()\n",
    "    if \"Guidez Atelier\".lower() in message or \"Guidez Social\".lower()  in message:\n",
    "        return \"Guidez Atelier Error\"\n",
    "    elif \"La taille du champ\".lower()  in message:\n",
    "        return \"Field Size Error\" \n",
    "    elif \"Un incident est survenu Object reference not set to an instance of an object.\".lower()  in message:\n",
    "        return \"Object Reference Error\"\n",
    "    elif \"La valeur #REF!\".lower()  in message:\n",
    "        return \"Value #REF! Error\"\n",
    "    elif \"La valeur #VALUE!\".lower()  in message:\n",
    "        return \"Value #VALUE! Error\"\n",
    "    elif \"La valeur #N/A!\".lower()  in message:\n",
    "        return \"Value #N/A! Error\"\n",
    "    elif \"La valeur #DIV/0!\".lower()  in message:\n",
    "        return \"Value #DIV/0! Error\"\n",
    "    elif \"La valeur #NAME?\".lower()  in message:\n",
    "        return \"Value #NAME? Error\"\n",
    "    elif \"Connection Timeout Expired.  The timeout period elapsed during the post-login phase.\".lower()  in message:\n",
    "        return \"Connection Timeout Error\"\n",
    "    elif \"an error occurred during the pre-login handshake.\".lower()  in message:\n",
    "        return \"Pre-Login Error\"\n",
    "    elif \"Un incident est survenu L'instruction CREATE UNIQUE INDEX a été interrompue, car une clé dupliquée a été trouvée pour l'objet\".lower()  in message:\n",
    "        return \"Unique Index Error\"\n",
    "    elif \"Impossible de créer la table\".lower()  in message:\n",
    "        return \"Create TABLE Error\"\n",
    "    elif \"Un incident est survenu Échec de l'opération car un index ou des statistiques portant le nom\".lower()  in message:\n",
    "        return \"Index Error (similar to unique index error)\"\n",
    "    elif \"utilisé dans la clé primaire, sa valeur ne doit pas être vide\".lower()  in message:\n",
    "        return \"Primary Key Error\"\n",
    "    elif \"pas convertible en Heure\".lower()  in message:\n",
    "        return \"Time Format Error\"\n",
    "    elif \"Not a legal OleAut date.\".lower()  in message or (\"La date\".lower()  in message and \"est pas valide\".lower()  in message):\n",
    "        return \"Date Format Error\"\n",
    "    elif \"connexion au web service impossible\".lower()  in message:\n",
    "        return \"Web Service Error\"\n",
    "    elif \"impossible d'ouvrir la requête\".lower()  in message and \"Un incident est survenu\".lower()  in message and \"non valide\".lower()  in message:\n",
    "        return \"SQL Invalid Query Error\"\n",
    "    elif \"Impossible d\\'ouvrir la requête SQL sur la connexion\".lower()  in message and \"Le délai d\\'attente a été dépassé\".lower()  in message:\n",
    "        return \"SQL Query Timeout Error\"\n",
    "    #elif \"Le filtre de suppression n'est pas compatible SQL\".lower()  in message:\n",
    "    #    return \"SQL Delete Filter Error\"\n",
    "    #elif \"impossible d'ouvrir la requête sql\".lower()  in message:\n",
    "     #   return \"SQL Other Error\"\n",
    "    elif \"Le nom de colonne\".lower()  in message and \"n'existe pas dans la table ou la vue cible\".lower()  in message:\n",
    "        return \"Column Name Error\"\n",
    "    else:\n",
    "        return \"Other Error\"\n",
    "\n",
    "df_err_filtered = df_err_filtered.assign(\n",
    "    Message_Category=df_err_filtered[\"Message\"].apply(categorize_message)\n",
    ")"
   ],
   "outputs": [],
   "execution_count": null
  },
  {
   "cell_type": "code",
   "metadata": {},
   "source": [
    "colonnes_communes = list(set(df_filtered.columns) & set(df_err_filtered.columns))\n",
    "print(colonnes_communes)"
   ],
   "outputs": [],
   "execution_count": null
  },
  {
   "cell_type": "code",
   "metadata": {},
   "source": [
    "# Ajouter les colonnes manquantes dans chaque DataFrame pour les aligner\n",
    "for col in df_filtered.columns:\n",
    "    if col not in df_err_filtered.columns:\n",
    "        df_err_filtered[col] = None  # Ajout d'une colonne vide\n",
    "\n",
    "for col in df_err_filtered.columns:\n",
    "    if col not in df_filtered.columns:\n",
    "        df_filtered[col] = None  # Ajout d'une colonne vide\n",
    "\n",
    "# Concaténer les deux DataFrame tout en conservant la cohérence des colonnes\n",
    "df_final = pd.concat([df_filtered, df_err_filtered], ignore_index=True)\n",
    "\n",
    "df_final.head()  # Affiche les 5 premières lignes"
   ],
   "outputs": [],
   "execution_count": null
  },
  {
   "cell_type": "code",
   "metadata": {},
   "source": [
    "# Assurer que ETL_StartDateTime est bien au format datetime\n",
    "df_final[\"ETL_StartDateTime\"] = pd.to_datetime(df_final[\"ETL_StartDateTime\"], errors='coerce')\n",
    "\n",
    "# Trier le DataFrame par ETL_StartDateTime\n",
    "df_final = df_final.sort_values(by=\"ETL_StartDateTime\")\n",
    "\n",
    "# Afficher les premières lignes pour vérifier\n",
    "df_final.head()"
   ],
   "outputs": [],
   "execution_count": null
  },
  {
   "cell_type": "code",
   "metadata": {},
   "source": [
    "# Définir les bornes\n",
    "date_min = \"2024-08-24 23:32:03\"\n",
    "date_max = \"2024-10-15 23:31:49\"\n",
    "\n",
    "# Filtrer les lignes entre les deux dates\n",
    "df_borne = df_final[(df_final[\"ETL_StartDateTime\"] >= date_min) & (df_final[\"ETL_StartDateTime\"] <= date_max)]\n",
    "\n",
    "# Afficher les premières lignes pour vérifier\n",
    "df_borne.head()"
   ],
   "outputs": [],
   "execution_count": null
  },
  {
   "cell_type": "code",
   "metadata": {},
   "source": [
    "df_borne.to_csv(\"fusion_dataframe.csv\", index=False)\n",
    "print(\"Fichier exporté : fusion_dataframe.csv\")"
   ],
   "outputs": [],
   "execution_count": null
  },
  {
   "cell_type": "code",
   "metadata": {},
   "source": [
    "df_borne.columns"
   ],
   "outputs": [],
   "execution_count": null
  }
 ],
 "metadata": {
  "kernelspec": {
   "display_name": "DORenv",
   "language": "python",
   "name": "python3"
  },
  "language_info": {
   "codemirror_mode": {
    "name": "ipython",
    "version": 3
   },
   "file_extension": ".py",
   "mimetype": "text/x-python",
   "name": "python",
   "nbconvert_exporter": "python",
   "pygments_lexer": "ipython3",
   "version": "3.13.1"
  }
 },
 "nbformat": 4,
 "nbformat_minor": 2
}
