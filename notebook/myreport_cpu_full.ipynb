{
 "cells": [
  {
   "cell_type": "markdown",
   "id": "58705255-372a-4c0d-8725-4e24e97d04df",
   "metadata": {},
   "source": [
    "# Analyse Exploratoire du fichier myreport_cpu_full.csv"
   ]
  },
  {
   "cell_type": "markdown",
   "id": "e17ab80f-7197-4063-a8b9-1f9e42b9d75c",
   "metadata": {},
   "source": [
    "### Imports (fichier & modules)"
   ]
  },
  {
   "cell_type": "code",
   "execution_count": null,
   "id": "3f5d10ae-f8ab-4651-a142-cc6fb2017403",
   "metadata": {},
   "outputs": [],
   "source": [
    "import pandas as pda\n",
    "import matplotlib.pyplot as plt\n",
    "import numpy as np\n",
    "#import os\n",
    "#print(os.getcwd())\n",
    "#print(os.listdir('241016_LogETL'))"
   ]
  },
  {
   "cell_type": "code",
   "execution_count": null,
   "id": "093f2159-38cf-49e0-adb1-6b1af8ee222a",
   "metadata": {},
   "outputs": [],
   "source": [
    "# pour connaitre le repertoire dans lequelle on est\n",
    "!pwd"
   ]
  },
  {
   "cell_type": "code",
   "execution_count": null,
   "id": "af43f6a9-1456-4b02-bff7-5aaeb5a9efc7",
   "metadata": {},
   "outputs": [],
   "source": [
    "tab = pda.read_csv('../data/logServer/myreport_cpu_full.csv',sep=',')"
   ]
  },
  {
   "cell_type": "markdown",
   "id": "ea46cfca-50ad-446f-ab1d-9b652c920009",
   "metadata": {},
   "source": [
    "### Le fichier myreport_cpu_full.csv : taille, colonnes"
   ]
  },
  {
   "cell_type": "code",
   "execution_count": null,
   "id": "0b1590ea-42ef-43e1-b74e-416312a20dcc",
   "metadata": {},
   "outputs": [],
   "source": [
    "print(\"il y a \",tab.shape[0],\" lignes et \",tab.shape[1],\" colonnes dans le data frame\")"
   ]
  },
  {
   "cell_type": "code",
   "execution_count": null,
   "id": "b592af3f-84fe-43ee-be6a-15c7735f1f58",
   "metadata": {
    "scrolled": true
   },
   "outputs": [],
   "source": [
    "tab.columns"
   ]
  },
  {
   "cell_type": "code",
   "execution_count": null,
   "id": "f3d6719b-bdfb-4c39-8791-a2e91bc0859e",
   "metadata": {
    "scrolled": true
   },
   "outputs": [],
   "source": [
    "tab.info()"
   ]
  },
  {
   "cell_type": "code",
   "execution_count": null,
   "id": "aecf413c-4659-46be-afa9-4637621c0dcb",
   "metadata": {
    "scrolled": true
   },
   "outputs": [],
   "source": [
    "tab.info()"
   ]
  },
  {
   "cell_type": "markdown",
   "id": "53429984-1b06-48bc-9e17-86636b8fc304",
   "metadata": {},
   "source": []
  },
  {
   "cell_type": "code",
   "execution_count": null,
   "id": "bb7809d9-d2fc-4486-a920-128db6e2b15e",
   "metadata": {
    "scrolled": true
   },
   "outputs": [],
   "source": [
    "# Calculer le nombre de valeurs uniques pour chaque colonne\n",
    "nb_valeurs_uniques = tab.nunique()\n",
    "\n",
    "# Afficher les résultats\n",
    "print(nb_valeurs_uniques)"
   ]
  },
  {
   "cell_type": "markdown",
   "id": "d8834160-09d5-4e9d-8c16-59bed1282159",
   "metadata": {},
   "source": []
  },
  {
   "cell_type": "code",
   "execution_count": null,
   "id": "4b14c57d-f9ee-4fbf-8294-1208620d494d",
   "metadata": {},
   "outputs": [],
   "source": [
    "tab.head()\n"
   ]
  },
  {
   "cell_type": "markdown",
   "id": "6665de3d-f731-4da1-ad44-c3c12c5dc988",
   "metadata": {},
   "source": [
    "## Regardons le détail par colonne"
   ]
  },
  {
   "cell_type": "code",
   "execution_count": null,
   "id": "ddb40e16-62e7-4964-b6fd-24debc0ae5a9",
   "metadata": {},
   "outputs": [],
   "source": [
    "col= tab.columns[17]\n",
    "print('Distribution de : '+col)\n",
    "tab[col].value_counts()"
   ]
  },
  {
   "cell_type": "markdown",
   "id": "4f881cbf-2efe-4bc5-a98b-d347ef7451e9",
   "metadata": {},
   "source": [
    "Inutile de conserver cette colonne."
   ]
  }
 ],
 "metadata": {
  "kernelspec": {
   "display_name": "Python 3 (ipykernel)",
   "language": "python",
   "name": "python3"
  },
  "language_info": {
   "codemirror_mode": {
    "name": "ipython",
    "version": 3
   },
   "file_extension": ".py",
   "mimetype": "text/x-python",
   "name": "python",
   "nbconvert_exporter": "python",
   "pygments_lexer": "ipython3",
   "version": "3.12.2"
  }
 },
 "nbformat": 4,
 "nbformat_minor": 5
}
