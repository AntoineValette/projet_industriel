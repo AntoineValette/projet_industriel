{
 "cells": [
  {
   "cell_type": "markdown",
   "id": "58705255-372a-4c0d-8725-4e24e97d04df",
   "metadata": {},
   "source": [
    "# Analyse Exploratoire du fichier myreport_sql_lock_full.csv"
   ]
  },
  {
   "cell_type": "markdown",
   "id": "e17ab80f-7197-4063-a8b9-1f9e42b9d75c",
   "metadata": {},
   "source": [
    "### Imports (fichier & modules)"
   ]
  },
  {
   "cell_type": "code",
   "execution_count": null,
   "id": "3f5d10ae-f8ab-4651-a142-cc6fb2017403",
   "metadata": {},
   "outputs": [],
   "source": [
    "import pandas as pda\n",
    "import matplotlib.pyplot as plt\n",
    "import numpy as np\n",
    "#import os\n",
    "#print(os.getcwd())\n",
    "#print(os.listdir('241016_LogETL'))"
   ]
  },
  {
   "cell_type": "code",
   "execution_count": null,
   "id": "af43f6a9-1456-4b02-bff7-5aaeb5a9efc7",
   "metadata": {},
   "outputs": [],
   "source": [
    "tab = pda.read_csv('../data/logServer/myreport_sql_lock_full.csv', sep=',', dtype={'Program_Id': str, 'Schedules_Id': str, 'Schedules_Name': str})"
   ]
  },
  {
   "cell_type": "markdown",
   "id": "ea46cfca-50ad-446f-ab1d-9b652c920009",
   "metadata": {},
   "source": [
    "### Le fichier myreport_sql_lock_full.csv"
   ]
  },
  {
   "cell_type": "code",
   "execution_count": null,
   "id": "0b1590ea-42ef-43e1-b74e-416312a20dcc",
   "metadata": {},
   "outputs": [],
   "source": [
    "print(\"il y a \",tab.shape[0],\" lignes et \",tab.shape[1],\" colonnes dans le data frame\")"
   ]
  },
  {
   "cell_type": "code",
   "execution_count": null,
   "id": "b592af3f-84fe-43ee-be6a-15c7735f1f58",
   "metadata": {},
   "outputs": [],
   "source": [
    "tab.columns"
   ]
  },
  {
   "cell_type": "code",
   "execution_count": null,
   "id": "f3d6719b-bdfb-4c39-8791-a2e91bc0859e",
   "metadata": {},
   "outputs": [],
   "source": [
    "tab.info()"
   ]
  },
  {
   "cell_type": "code",
   "execution_count": null,
   "id": "bb7809d9-d2fc-4486-a920-128db6e2b15e",
   "metadata": {},
   "outputs": [],
   "source": [
    "# Calculer le nombre de valeurs uniques pour chaque colonne\n",
    "nb_valeurs_uniques = tab.nunique()\n",
    "\n",
    "# Afficher les résultats\n",
    "print(nb_valeurs_uniques)"
   ]
  },
  {
   "cell_type": "markdown",
   "id": "d8834160-09d5-4e9d-8c16-59bed1282159",
   "metadata": {},
   "source": []
  },
  {
   "cell_type": "code",
   "execution_count": null,
   "id": "4b14c57d-f9ee-4fbf-8294-1208620d494d",
   "metadata": {},
   "outputs": [],
   "source": [
    "tab.head()\n"
   ]
  },
  {
   "cell_type": "markdown",
   "id": "6665de3d-f731-4da1-ad44-c3c12c5dc988",
   "metadata": {},
   "source": [
    "## Regardons le détail par colonne"
   ]
  },
  {
   "cell_type": "code",
   "execution_count": null,
   "id": "971d3cc0-0c5b-4d62-b757-d1a8fe8c27bb",
   "metadata": {},
   "outputs": [],
   "source": [
    "df=tab.copy()\n",
    "\n",
    "# Boucle pour générer les graphiques\n",
    "for col in df.columns:\n",
    "    if col != 'Date et heure(RAW)' and \"RAW\" in col:  # Exclure la colonne 'Date et heure(RAW)'\n",
    "        plt.figure(figsize=(10, 6))\n",
    "        df[col].plot(kind='line', title=f'Évolution de : {col}')\n",
    "        plt.xlabel('Date et heure')\n",
    "        plt.ylabel(col)\n",
    "        plt.grid(True)\n",
    "        plt.tight_layout()\n",
    "        plt.show()"
   ]
  }
 ],
 "metadata": {
  "kernelspec": {
   "display_name": "Python 3 (ipykernel)",
   "language": "python",
   "name": "python3"
  },
  "language_info": {
   "codemirror_mode": {
    "name": "ipython",
    "version": 3
   },
   "file_extension": ".py",
   "mimetype": "text/x-python",
   "name": "python",
   "nbconvert_exporter": "python",
   "pygments_lexer": "ipython3",
   "version": "3.12.2"
  }
 },
 "nbformat": 4,
 "nbformat_minor": 5
}
