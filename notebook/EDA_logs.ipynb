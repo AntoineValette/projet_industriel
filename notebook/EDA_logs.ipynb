{
 "cells": [
  {
   "cell_type": "markdown",
   "id": "58705255-372a-4c0d-8725-4e24e97d04df",
   "metadata": {},
   "source": [
    "# Analyse Exploratoire des logs sans erreur"
   ]
  },
  {
   "cell_type": "markdown",
   "id": "e17ab80f-7197-4063-a8b9-1f9e42b9d75c",
   "metadata": {},
   "source": [
    "### Imports (fichier & modules)"
   ]
  },
  {
   "cell_type": "code",
   "id": "3f5d10ae-f8ab-4651-a142-cc6fb2017403",
   "metadata": {},
   "source": [
    "import pandas as pda\n",
    "import matplotlib.pyplot as plt\n",
    "import numpy as np\n",
    "#import os\n",
    "#print(os.getcwd())\n",
    "#print(os.listdir('241016_LogETL'))"
   ],
   "outputs": [],
   "execution_count": null
  },
  {
   "cell_type": "code",
   "id": "af43f6a9-1456-4b02-bff7-5aaeb5a9efc7",
   "metadata": {},
   "source": [
    "tab = pda.read_csv('../data/logEtl/241016_LogETL.csv',sep=';')"
   ],
   "outputs": [],
   "execution_count": null
  },
  {
   "cell_type": "markdown",
   "id": "ea46cfca-50ad-446f-ab1d-9b652c920009",
   "metadata": {},
   "source": [
    "### Le fichier 241016_LogETL.csv : taille, colonnes"
   ]
  },
  {
   "cell_type": "code",
   "id": "0b1590ea-42ef-43e1-b74e-416312a20dcc",
   "metadata": {},
   "source": [
    "print(\"il y a \",tab.shape[0],\" lignes et \",tab.shape[1],\" colonnes dans le data frame\")"
   ],
   "outputs": [],
   "execution_count": null
  },
  {
   "cell_type": "code",
   "id": "b592af3f-84fe-43ee-be6a-15c7735f1f58",
   "metadata": {},
   "source": [
    "tab.columns"
   ],
   "outputs": [],
   "execution_count": null
  },
  {
   "cell_type": "code",
   "id": "f3d6719b-bdfb-4c39-8791-a2e91bc0859e",
   "metadata": {},
   "source": [
    "tab.info()"
   ],
   "outputs": [],
   "execution_count": null
  },
  {
   "cell_type": "markdown",
   "id": "53429984-1b06-48bc-9e17-86636b8fc304",
   "metadata": {},
   "source": [
    "On peut déjà voir que :\n",
    "- faudra supprimer les colonnes 8 et 9 car elles sont vides\n",
    "- colonnes 21, 23, 25, 26 contiennent certains élements vides"
   ]
  },
  {
   "cell_type": "code",
   "id": "bb7809d9-d2fc-4486-a920-128db6e2b15e",
   "metadata": {},
   "source": [
    "# Calculer le nombre de valeurs uniques pour chaque colonne\n",
    "nb_valeurs_uniques = tab.nunique()\n",
    "\n",
    "# Afficher les résultats\n",
    "print(nb_valeurs_uniques)"
   ],
   "outputs": [],
   "execution_count": null
  },
  {
   "cell_type": "markdown",
   "id": "d8834160-09d5-4e9d-8c16-59bed1282159",
   "metadata": {},
   "source": [
    "En plus des colonnes 8 et 9, on pourra supprimer les colonnes 15, 16, 17. "
   ]
  },
  {
   "cell_type": "code",
   "id": "4b14c57d-f9ee-4fbf-8294-1208620d494d",
   "metadata": {},
   "source": [
    "tab.head()\n"
   ],
   "outputs": [],
   "execution_count": null
  },
  {
   "cell_type": "code",
   "id": "2f607fb5-5cbd-4ffb-b5e6-5cbb78f3a2a1",
   "metadata": {},
   "source": [],
   "outputs": [],
   "execution_count": null
  },
  {
   "cell_type": "markdown",
   "id": "6665de3d-f731-4da1-ad44-c3c12c5dc988",
   "metadata": {},
   "source": [
    "## Regardons le détail par colonne"
   ]
  },
  {
   "cell_type": "markdown",
   "id": "b6c23d3f-1493-4d7e-b45d-3f628044a847",
   "metadata": {},
   "source": [
    "### Server version"
   ]
  },
  {
   "cell_type": "code",
   "id": "636d2add-6c74-4aba-8ef8-3f5cf7548e02",
   "metadata": {},
   "source": [
    "col= tab.columns[0]\n",
    "g = tab[col].value_counts().plot.bar()\n",
    "g.set_title('Distribution de : '+col)\n",
    "plt.show()"
   ],
   "outputs": [],
   "execution_count": null
  },
  {
   "cell_type": "markdown",
   "id": "ebe5f529-8c54-4540-a6c6-59e2f78e61d1",
   "metadata": {},
   "source": [
    "On peut supposer que les versions les plus élevées sont les plus récentes."
   ]
  },
  {
   "cell_type": "code",
   "id": "bfd9ff82-c9d2-41bb-8211-036c0a4f579a",
   "metadata": {},
   "source": [],
   "outputs": [],
   "execution_count": null
  },
  {
   "cell_type": "code",
   "id": "3cbfb6c1-ff71-4492-93dd-255839b03575",
   "metadata": {},
   "source": [
    "#plt.figure(figsize=(10, 3), layout='constrained')\n",
    "#plt.plot(tab['Date'], tab['Server version'])\n",
    "#plt.xlabel('date')\n",
    "#plt.ylabel('occurences de server version')\n",
    "\n",
    "##c'est pas la vue que je veux\n",
    "\n",
    "\n",
    "t = np.zeros((len(tab['Date']),5))\n",
    "for l in t:\n",
    "    t[0]=tab['Server version][tab['Server version']=='6.0.2']"
   ],
   "outputs": [],
   "execution_count": null
  },
  {
   "cell_type": "markdown",
   "id": "4e1d6a02-f140-4d16-bb52-d8aacd173c60",
   "metadata": {},
   "source": [
    "### Client version"
   ]
  },
  {
   "cell_type": "code",
   "id": "fd9eae32-b748-4a7a-9aee-3a6e07b3474a",
   "metadata": {},
   "source": [
    "col= tab.columns[1]\n",
    "g = tab[col].value_counts().plot.bar()\n",
    "g.set_title('Distribution de : '+col)\n",
    "plt.show()"
   ],
   "outputs": [],
   "execution_count": null
  },
  {
   "cell_type": "markdown",
   "id": "7df5b1e0-f983-42ea-b68b-57760f6dc5c0",
   "metadata": {},
   "source": [
    "### Model"
   ]
  },
  {
   "cell_type": "code",
   "id": "38e88a99-94a7-4867-8368-821a59fc74d1",
   "metadata": {},
   "source": [
    "col= tab.columns[2]\n",
    "print('Distribution de : '+col)\n",
    "tab[col].value_counts()"
   ],
   "outputs": [],
   "execution_count": null
  },
  {
   "cell_type": "markdown",
   "id": "b71cb43b-ba4d-42dc-82c3-48be95d0fe90",
   "metadata": {},
   "source": [
    "### Type"
   ]
  },
  {
   "cell_type": "code",
   "id": "96c8289d-2e11-4ed2-9e4f-8eab2297a14b",
   "metadata": {},
   "source": [
    "col= tab.columns[3]\n",
    "g = tab[col].value_counts().plot.bar()\n",
    "g.set_title('Distribution de : '+col)\n",
    "plt.show()"
   ],
   "outputs": [],
   "execution_count": null
  },
  {
   "cell_type": "markdown",
   "id": "91662bf9-b910-43cf-8a95-81f6b700ec0f",
   "metadata": {},
   "source": [
    "### Insert mode"
   ]
  },
  {
   "cell_type": "code",
   "id": "b387e4f0-dde7-4118-9806-355dc1029922",
   "metadata": {},
   "source": [
    "col= tab.columns[4]\n",
    "g = tab[col].value_counts().plot.bar()\n",
    "g.set_title('Distribution de : '+col)\n",
    "plt.show()"
   ],
   "outputs": [],
   "execution_count": null
  },
  {
   "cell_type": "markdown",
   "id": "9fcf288d-af91-4348-8106-36c7c34d6a76",
   "metadata": {},
   "source": [
    "### Rows added"
   ]
  },
  {
   "cell_type": "code",
   "id": "2e87fca4-a47b-4646-b47e-948878440157",
   "metadata": {},
   "source": [
    "col= tab.columns[5]\n",
    "print('Distribution de : '+col)\n",
    "tab[col].value_counts()"
   ],
   "outputs": [],
   "execution_count": null
  },
  {
   "cell_type": "markdown",
   "id": "ce16df1c-157e-4684-a110-47c3d670bf2d",
   "metadata": {},
   "source": [
    "### Rows updated"
   ]
  },
  {
   "cell_type": "code",
   "id": "07b13241-64ed-436c-aea3-61c89f944352",
   "metadata": {},
   "source": [
    "col= tab.columns[6]\n",
    "print('Distribution de : '+col)\n",
    "tab[col].value_counts()"
   ],
   "outputs": [],
   "execution_count": null
  },
  {
   "cell_type": "markdown",
   "id": "0f4e240c-75b8-47ef-8371-8f4c1324a749",
   "metadata": {},
   "source": [
    "A regarder"
   ]
  },
  {
   "cell_type": "markdown",
   "id": "1fa5e6e4-29d5-4f2e-96d3-902e97f4f7bf",
   "metadata": {},
   "source": [
    "### Rows deleted"
   ]
  },
  {
   "cell_type": "code",
   "id": "51bf5891-1b34-4a7e-b00c-ca6d55abe958",
   "metadata": {},
   "source": [
    "col= tab.columns[7]\n",
    "print('Distribution de : '+col)\n",
    "tab[col].value_counts()"
   ],
   "outputs": [],
   "execution_count": null
  },
  {
   "cell_type": "code",
   "id": "5664a2d7-716f-4096-be9f-64d1eabd38d8",
   "metadata": {},
   "source": [
    "col = tab.columns[7]\n",
    "g = tab[col].value_counts().plot.hist(bins=100)\n",
    "g.set_title('Distribution de la fréquence de : ' + col)\n",
    "plt.show()\n",
    "\n",
    "#on voit rien donc on filtre les valeurs =100\n",
    "tab_rows_added = tab[col].value_counts()\n",
    "tab_rows_added_not_null=tab_rows_added[tab_rows_added > 100]\n",
    "g = tab_rows_added_not_null.value_counts().plot.hist(bins=100)\n",
    "g.set_title('Distribution de la fréquence de : ' + col+\" (over 100 rows)\")\n",
    "plt.show()\n",
    "\n",
    "print(tab_rows_added[0])"
   ],
   "outputs": [],
   "execution_count": null
  },
  {
   "cell_type": "markdown",
   "id": "3c805631-20c7-4dd8-9683-9a3557c68da6",
   "metadata": {},
   "source": [
    "### Columns"
   ]
  },
  {
   "cell_type": "code",
   "id": "4ef0f0f2-76ba-4dfb-bf3f-12617a62d4e2",
   "metadata": {},
   "source": [
    "col= tab.columns[10]\n",
    "print('Distribution de : '+col)\n",
    "tab[col].value_counts()"
   ],
   "outputs": [],
   "execution_count": null
  },
  {
   "cell_type": "markdown",
   "id": "2ce4dce9-1ca2-4e57-8b78-5fac436af98d",
   "metadata": {},
   "source": [
    "### Date"
   ]
  },
  {
   "cell_type": "code",
   "id": "2c69c29b-1abf-48c6-b97f-6e627db16e45",
   "metadata": {},
   "source": [
    "col= tab.columns[11]\n",
    "print('Distribution de : '+col)\n",
    "tab[col].value_counts()"
   ],
   "outputs": [],
   "execution_count": null
  },
  {
   "cell_type": "markdown",
   "id": "61baa256-1b01-4293-a959-921ffe4c2994",
   "metadata": {},
   "source": [
    "On voit qu'il y a des jours avec beaucoup de processus ETL, faudrait vérifier s'il y a une cadence hebdo/mensuelle"
   ]
  },
  {
   "cell_type": "code",
   "id": "1d2027f7-b675-4a75-9d27-271ab4a8333d",
   "metadata": {},
   "source": [],
   "outputs": [],
   "execution_count": null
  },
  {
   "cell_type": "markdown",
   "id": "46fd2e0e-f0c0-42e2-8e52-7c3715983580",
   "metadata": {},
   "source": [
    "### Start time"
   ]
  },
  {
   "cell_type": "code",
   "id": "4331d230-36ff-4f95-9123-b13ebf313e75",
   "metadata": {},
   "source": [
    "col= tab.columns[12]\n",
    "print('Distribution de : '+col)\n",
    "tab[col].value_counts()"
   ],
   "outputs": [],
   "execution_count": null
  },
  {
   "cell_type": "markdown",
   "id": "f5cad788-36ec-4ee3-83fe-4340a8f7c212",
   "metadata": {},
   "source": [
    "### End  time"
   ]
  },
  {
   "cell_type": "code",
   "id": "85d2b7d0-9d08-42c9-8f40-6404cefbd478",
   "metadata": {},
   "source": [
    "col= tab.columns[13]\n",
    "print('Distribution de : '+col)\n",
    "tab[col].value_counts()"
   ],
   "outputs": [],
   "execution_count": null
  },
  {
   "cell_type": "markdown",
   "id": "45687e9a-6c9a-4455-9c43-7c65bc58da12",
   "metadata": {},
   "source": [
    "### Duration"
   ]
  },
  {
   "cell_type": "code",
   "id": "f1d9ac73-fe34-4ac2-b8bd-a8623628b6fe",
   "metadata": {},
   "source": [
    "col= tab.columns[14]\n",
    "print('Distribution de : '+col)\n",
    "tab[col].value_counts()"
   ],
   "outputs": [],
   "execution_count": null
  },
  {
   "cell_type": "code",
   "id": "1e080bb2-5f01-40b3-b7c3-2dbeb15675cf",
   "metadata": {},
   "source": [],
   "outputs": [],
   "execution_count": null
  },
  {
   "cell_type": "markdown",
   "id": "be2f2867-0bee-40d7-bfee-8be4e1a97898",
   "metadata": {},
   "source": [
    "### Machine"
   ]
  },
  {
   "cell_type": "code",
   "id": "68ac5e58-4d8b-4731-b386-58d8e04fb0e5",
   "metadata": {},
   "source": [
    "col= tab.columns[15]\n",
    "print('Distribution de : '+col)\n",
    "tab[col].value_counts()"
   ],
   "outputs": [],
   "execution_count": null
  },
  {
   "cell_type": "markdown",
   "id": "d9536996-4673-47cb-a703-2363630627d2",
   "metadata": {},
   "source": [
    "Inutile de conserver cette colonne. "
   ]
  },
  {
   "cell_type": "markdown",
   "id": "c949e6a1-3987-4749-ae91-4927b0274e32",
   "metadata": {},
   "source": [
    "### Session"
   ]
  },
  {
   "cell_type": "code",
   "id": "ef6ff634-248d-47d6-8f90-c468e0c34391",
   "metadata": {},
   "source": [
    "col= tab.columns[16]\n",
    "print('Distribution de : '+col)\n",
    "tab[col].value_counts()"
   ],
   "outputs": [],
   "execution_count": null
  },
  {
   "cell_type": "markdown",
   "id": "049e85d8-68ce-4d24-996a-962ee835def8",
   "metadata": {},
   "source": [
    "Inutile de conserver cette colonne."
   ]
  },
  {
   "cell_type": "markdown",
   "id": "090917dd-ac6e-4546-a581-1181f1558119",
   "metadata": {},
   "source": [
    "### Project name"
   ]
  },
  {
   "cell_type": "code",
   "id": "ddb40e16-62e7-4964-b6fd-24debc0ae5a9",
   "metadata": {},
   "source": [
    "col= tab.columns[17]\n",
    "print('Distribution de : '+col)\n",
    "tab[col].value_counts()"
   ],
   "outputs": [],
   "execution_count": null
  },
  {
   "cell_type": "markdown",
   "id": "4f881cbf-2efe-4bc5-a98b-d347ef7451e9",
   "metadata": {},
   "source": [
    "Inutile de conserver cette colonne."
   ]
  },
  {
   "cell_type": "markdown",
   "id": "23df021e-eeed-4314-b1d2-db6e5d58c6b8",
   "metadata": {},
   "source": [
    "### Product"
   ]
  },
  {
   "cell_type": "code",
   "id": "5fb62c7c-36be-44a4-b53c-2406a15de4cd",
   "metadata": {},
   "source": [
    "col= tab.columns[18]\n",
    "g = tab[col].value_counts().plot.bar()\n",
    "g.set_title('Distribution de : '+col)\n",
    "plt.show()"
   ],
   "outputs": [],
   "execution_count": null
  },
  {
   "cell_type": "markdown",
   "id": "0a1aea9d-f29f-480d-a8de-41665719535d",
   "metadata": {},
   "source": [
    "### Result"
   ]
  },
  {
   "cell_type": "code",
   "id": "e8a71df0-6267-4015-8a85-48f45801ff60",
   "metadata": {},
   "source": [
    "col= tab.columns[19]\n",
    "g = tab[col].value_counts().plot.bar()\n",
    "g.set_title('Distribution de : '+col)\n",
    "plt.show()\n",
    "tab[col].value_counts()"
   ],
   "outputs": [],
   "execution_count": null
  },
  {
   "cell_type": "markdown",
   "id": "1c1c360c-2e95-486c-8b16-9e7266c07ee8",
   "metadata": {},
   "source": [
    "### ETL_StartDateTime"
   ]
  },
  {
   "cell_type": "code",
   "id": "c0a4f1da-7253-41b9-b1d3-0c18be221011",
   "metadata": {},
   "source": [
    "col= tab.columns[20]\n",
    "print('Distribution de : '+col)\n",
    "tab[col].value_counts()"
   ],
   "outputs": [],
   "execution_count": null
  },
  {
   "cell_type": "markdown",
   "id": "c741a8e1-d758-4d6b-b011-9cf9eb42423b",
   "metadata": {},
   "source": [
    "### Launcher_Id"
   ]
  },
  {
   "cell_type": "code",
   "id": "deda407e-72c0-49e4-87f0-1c802ea57b1b",
   "metadata": {},
   "source": [
    "col= tab.columns[21]\n",
    "print('Distribution de : '+col)\n",
    "tab[col].value_counts()"
   ],
   "outputs": [],
   "execution_count": null
  },
  {
   "cell_type": "markdown",
   "id": "d8aa7372-dec8-4dd1-a3d9-c17088f2fd24",
   "metadata": {},
   "source": [
    "### Launcher_Name"
   ]
  },
  {
   "cell_type": "code",
   "id": "de25bd26-cec5-4c58-be7c-9e8f4c5770ba",
   "metadata": {},
   "source": [
    "col= tab.columns[22]\n",
    "g = tab[col].value_counts().plot.bar()\n",
    "g.set_title('Distribution de : '+col)\n",
    "plt.show()\n",
    "print('Distribution de : '+col)\n",
    "tab[col].value_counts()"
   ],
   "outputs": [],
   "execution_count": null
  },
  {
   "cell_type": "markdown",
   "id": "e904319b-6830-444d-bc46-c0f602140544",
   "metadata": {},
   "source": [
    "Launcher_Name est identifié par Launcher_Id."
   ]
  },
  {
   "cell_type": "code",
   "id": "2df5b725-65ce-4f76-9891-6326433e1356",
   "metadata": {},
   "source": [],
   "outputs": [],
   "execution_count": null
  },
  {
   "cell_type": "markdown",
   "id": "2426dcfe-02c9-4d17-ad7a-4e049bc09dd6",
   "metadata": {},
   "source": [
    "### Program_Id"
   ]
  },
  {
   "cell_type": "code",
   "id": "4c813a67-68e8-4287-8124-69aeb5741d64",
   "metadata": {},
   "source": [
    "col= tab.columns[23]\n",
    "print('Distribution de : '+col)\n",
    "print(\"nb de prog_ID différents : \"+str(len(tab[col].value_counts())))\n",
    "tab[col].value_counts()"
   ],
   "outputs": [],
   "execution_count": null
  },
  {
   "cell_type": "markdown",
   "id": "4afeb1a9-3d43-466e-b06b-fa8693ed212d",
   "metadata": {},
   "source": [
    "### Program_Name"
   ]
  },
  {
   "cell_type": "code",
   "id": "f1bc2a97-f39d-43c7-aa6f-9d1f67eb16c5",
   "metadata": {},
   "source": [
    "col= tab.columns[24]\n",
    "g = tab[col].value_counts().plot.bar()\n",
    "g.set_title('Distribution de : '+col)\n",
    "plt.show()\n",
    "print('Distribution de : '+col)\n",
    "print(\"nb de prog_Name différents : \"+str(len(tab[col].value_counts())))\n",
    "tab[col].value_counts()"
   ],
   "outputs": [],
   "execution_count": null
  },
  {
   "cell_type": "markdown",
   "id": "1d4d0778-0ee6-4fbb-ae2a-c92d1bd8c2d1",
   "metadata": {},
   "source": [
    "Program_Name est identifié par Program_Id."
   ]
  },
  {
   "cell_type": "markdown",
   "id": "14167f7b-ebc4-4bcf-9002-f4006f04fb2d",
   "metadata": {},
   "source": [
    "### Schedules_Id"
   ]
  },
  {
   "cell_type": "code",
   "id": "217a9c65-63e6-480f-8873-6338f0c4c995",
   "metadata": {},
   "source": [
    "col= tab.columns[25]\n",
    "print(\"nb de Schedules_ID différents : \"+str(len(tab[col].value_counts())))\n",
    "print('Distribution de : '+col)\n",
    "tab[col].value_counts()"
   ],
   "outputs": [],
   "execution_count": null
  },
  {
   "cell_type": "markdown",
   "id": "a7c64f4d-4525-4b29-891f-4d32fc617168",
   "metadata": {},
   "source": [
    "### Schedules_Name"
   ]
  },
  {
   "cell_type": "code",
   "id": "5080fe60-b5c5-439e-8c62-bffe397d2714",
   "metadata": {},
   "source": [
    "col= tab.columns[26]\n",
    "print(\"nb de Schedules_Name différents : \"+str(len(tab[col].value_counts())))\n",
    "print('Distribution de : '+col)\n",
    "tab[col].value_counts()"
   ],
   "outputs": [],
   "execution_count": null
  },
  {
   "cell_type": "markdown",
   "id": "e6d04d29-118e-44d7-89bd-06dd231d4309",
   "metadata": {},
   "source": [
    "### Schedules_StartDateTime"
   ]
  },
  {
   "cell_type": "code",
   "id": "9d3b161a-b376-44ef-8cbe-2d74708d3c6f",
   "metadata": {},
   "source": [
    "col= tab.columns[27]\n",
    "print('Distribution de : '+col)\n",
    "tab[col].value_counts()"
   ],
   "outputs": [],
   "execution_count": null
  },
  {
   "cell_type": "code",
   "id": "02d0893a-2ca4-4fd4-93d0-66746964f857",
   "metadata": {},
   "source": [
    "# Calculer le nombre de valeurs uniques pour chaque colonne\n",
    "nb_valeurs_uniques = tab.nunique()\n",
    "\n",
    "# Afficher les résultats\n",
    "print(nb_valeurs_uniques)"
   ],
   "outputs": [],
   "execution_count": null
  },
  {
   "cell_type": "code",
   "id": "c0a3db9d-2459-42f9-839f-ae34b552137a",
   "metadata": {},
   "source": [],
   "outputs": [],
   "execution_count": null
  }
 ],
 "metadata": {
  "kernelspec": {
   "display_name": "Python [conda env:base] *",
   "language": "python",
   "name": "conda-base-py"
  },
  "language_info": {
   "codemirror_mode": {
    "name": "ipython",
    "version": 3
   },
   "file_extension": ".py",
   "mimetype": "text/x-python",
   "name": "python",
   "nbconvert_exporter": "python",
   "pygments_lexer": "ipython3",
   "version": "3.12.7"
  }
 },
 "nbformat": 4,
 "nbformat_minor": 5
}
