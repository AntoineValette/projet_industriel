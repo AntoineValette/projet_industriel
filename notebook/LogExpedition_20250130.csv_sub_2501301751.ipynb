{
 "cells": [
  {
   "cell_type": "code",
   "execution_count": 1,
   "metadata": {},
   "outputs": [
    {
     "name": "stdout",
     "output_type": "stream",
     "text": [
      "  Server version Client version                Distribution          Type  \\\n",
      "0        5.2.1.2        5.2.1.2           Marges Roussillon     Center BE   \n",
      "1        5.2.1.2        5.2.1.2     Contrôle Satar Agen Log         Email   \n",
      "2        5.2.1.2        5.2.1.2          SBL Samazan 2 Jour         Email   \n",
      "3        5.2.1.2        5.2.1.2    Volumes Jour Cumul Rouss         Email   \n",
      "4        5.2.1.2        5.2.1.2  Pointage Intermarché Local  Réseau Local   \n",
      "\n",
      "         Date       Start time        End  time         Duration  \\\n",
      "0  2023-12-27  7:06:14.8244844  7:34:34.0819233  0:28:19.2574389   \n",
      "1  2023-12-27  7:34:34.5559072  7:35:20.4533017  0:00:45.8973945   \n",
      "2  2023-12-27  7:35:20.9153431   7:35:23.261549  0:00:02.3462059   \n",
      "3  2023-12-27  7:35:23.6898983  7:35:36.1990465  0:00:12.5091482   \n",
      "4  2023-12-27  7:35:37.0371386  7:35:43.9619208  0:00:06.9247822   \n",
      "\n",
      "          Machine                   Session  ... Result  \\\n",
      "0  VDRREPORTFRONT  PRIMEVER\\VDRREPORTFRONT$  ...     OK   \n",
      "1  VDRREPORTFRONT  PRIMEVER\\VDRREPORTFRONT$  ...     OK   \n",
      "2  VDRREPORTFRONT  PRIMEVER\\VDRREPORTFRONT$  ...     OK   \n",
      "3  VDRREPORTFRONT  PRIMEVER\\VDRREPORTFRONT$  ...     OK   \n",
      "4  VDRREPORTFRONT  PRIMEVER\\VDRREPORTFRONT$  ...     OK   \n",
      "\n",
      "  Expedition_StartDateTime Launcher_Id        Launcher_Name  \\\n",
      "0      2023-12-27 07:06:14              Launcher_Name_sub_8   \n",
      "1      2023-12-27 07:34:34              Launcher_Name_sub_8   \n",
      "2      2023-12-27 07:35:20              Launcher_Name_sub_8   \n",
      "3      2023-12-27 07:35:23              Launcher_Name_sub_8   \n",
      "4      2023-12-27 07:35:37              Launcher_Name_sub_8   \n",
      "\n",
      "                                          Program_Id  \\\n",
      "0  Distribution_16e4a92c-ba4a-49e8-a855-a797dee6a1de   \n",
      "1  Distribution_5dd66358-0340-495f-8aee-5fc142ee130c   \n",
      "2  Distribution_f8e77f23-e1d6-4d11-91fc-c3b84be77dc9   \n",
      "3  Distribution_66e2b4ca-15a5-4041-ab01-28a681d784c1   \n",
      "4  Distribution_d759847b-c53c-4db9-a405-9ab93fce2ca0   \n",
      "\n",
      "                 Program_Name            Schedules_Id  \\\n",
      "0           Marges Roussillon  ETLPROGRAMMATIONFTTD8A   \n",
      "1     Contrôle Satar Agen Log  ETLPROGRAMMATION16XIS3   \n",
      "2          SBL Samazan 2 Jour  ETLPROGRAMMATIONFDHY2F   \n",
      "3    Volumes Jour Cumul Rouss  ETLPROGRAMMATIONMKA8KX   \n",
      "4  Pointage Intermarché Local  ETLPROGRAMMATION72H0KT   \n",
      "\n",
      "                                      Schedules_Name Schedules_StartDateTime  \\\n",
      "0         Messenger Quotidien Mer-Sam 04h MARGES TMS     2023-12-27 04:00:50   \n",
      "1    Messenger Quotidien Lun-Ven 05h30 ANOMALIES TMS     2023-12-27 05:30:53   \n",
      "2                    Messenger Quotidien Lun-Sam 07h     2023-12-27 07:01:00   \n",
      "3                    Messenger Quotidien Mar-Sam 07h     2023-12-27 07:01:04   \n",
      "4  ETL - Messenger Quotidien Lun-Sam Intermarché ...     2023-12-27 07:20:53   \n",
      "\n",
      "           Recipients  \n",
      "0  Recipients_sub_810  \n",
      "1  Recipients_sub_223  \n",
      "2  Recipients_sub_509  \n",
      "3  Recipients_sub_590  \n",
      "4  Recipients_sub_632  \n",
      "\n",
      "[5 rows x 22 columns]\n"
     ]
    }
   ],
   "source": [
    "import pandas as pd\n",
    "\n",
    "# Lire un fichier Parquet\n",
    "df = pd.read_parquet(\"/Users/guillaumeramirez/OneDrive - CentraleSupelec/Smart ETL - DOR/data/parquet/LogExpedition_20250130.csv_sub_2501301751.parquet\")\n",
    "\n",
    "# Afficher les premières lignes\n",
    "print(df.head())"
   ]
  },
  {
   "cell_type": "code",
   "execution_count": 2,
   "metadata": {},
   "outputs": [
    {
     "name": "stdout",
     "output_type": "stream",
     "text": [
      "(78584, 22)\n"
     ]
    }
   ],
   "source": [
    "print(df.shape)"
   ]
  }
 ],
 "metadata": {
  "kernelspec": {
   "display_name": "DORenv",
   "language": "python",
   "name": "python3"
  },
  "language_info": {
   "codemirror_mode": {
    "name": "ipython",
    "version": 3
   },
   "file_extension": ".py",
   "mimetype": "text/x-python",
   "name": "python",
   "nbconvert_exporter": "python",
   "pygments_lexer": "ipython3",
   "version": "3.13.1"
  }
 },
 "nbformat": 4,
 "nbformat_minor": 2
}
