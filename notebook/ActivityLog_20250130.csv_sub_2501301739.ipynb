{
 "cells": [
  {
   "cell_type": "code",
   "execution_count": 1,
   "metadata": {},
   "outputs": [
    {
     "name": "stdout",
     "output_type": "stream",
     "text": [
      "                  Type Detail                    Product      Project  \\\n",
      "0  LicenseConnectionOk   None           MyReport Data BE  MySystem BE   \n",
      "1  LicenseDeconnection   None           MyReport Data BE  MySystem BE   \n",
      "2  ProjectDeconnection   None           MyReport Data BE  MySystem BE   \n",
      "3  ProjectDeconnection   None  MyReport Administrator BE  MySystem BE   \n",
      "4  LicenseDeconnection   None  MyReport Administrator BE  MySystem BE   \n",
      "\n",
      "          User          Machine         Session       ServerName  \\\n",
      "0  User_sub_17  VDRMYREPORT2016  Session_sub_24  VDRMYREPORT2016   \n",
      "1  User_sub_17  VDRMYREPORT2016  Session_sub_24  VDRMYREPORT2016   \n",
      "2  User_sub_17  VDRMYREPORT2016  Session_sub_24  VDRMYREPORT2016   \n",
      "3  User_sub_17  VDRMYREPORT2016  Session_sub_24  VDRMYREPORT2016   \n",
      "4  User_sub_17  VDRMYREPORT2016  Session_sub_24  VDRMYREPORT2016   \n",
      "\n",
      "  ServerVersion ClientVersion        Date          Time        \n",
      "0       5.0.0.3       5.0.0.3  31/05/2022  21:36:13:455  None  \n",
      "1       5.0.0.3       5.0.0.3  31/05/2022  21:36:42:866  None  \n",
      "2       5.0.0.3       5.0.0.3  31/05/2022  21:36:43:021  None  \n",
      "3       5.0.0.3       5.0.0.3  31/05/2022  21:36:55:844  None  \n",
      "4       5.0.0.3       5.0.0.3  31/05/2022  21:36:55:844  None  \n"
     ]
    }
   ],
   "source": [
    "import pandas as pd\n",
    "\n",
    "# Lire un fichier Parquet\n",
    "df = pd.read_parquet(\"/Users/guillaumeramirez/OneDrive - CentraleSupelec/Smart ETL - DOR/data/parquet/ActivityLog_20250130.csv_sub_2501301739.parquet\")\n",
    "\n",
    "# Afficher les premières lignes\n",
    "print(df.head())"
   ]
  }
 ],
 "metadata": {
  "kernelspec": {
   "display_name": "DORenv",
   "language": "python",
   "name": "python3"
  },
  "language_info": {
   "codemirror_mode": {
    "name": "ipython",
    "version": 3
   },
   "file_extension": ".py",
   "mimetype": "text/x-python",
   "name": "python",
   "nbconvert_exporter": "python",
   "pygments_lexer": "ipython3",
   "version": "3.13.1"
  }
 },
 "nbformat": 4,
 "nbformat_minor": 2
}
