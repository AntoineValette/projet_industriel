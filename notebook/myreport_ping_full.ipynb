{
 "cells": [
  {
   "cell_type": "markdown",
   "id": "58705255-372a-4c0d-8725-4e24e97d04df",
   "metadata": {},
   "source": [
    "# Analyse Exploratoire du fichier myreport_ping_full.csv"
   ]
  },
  {
   "cell_type": "markdown",
   "id": "e17ab80f-7197-4063-a8b9-1f9e42b9d75c",
   "metadata": {},
   "source": [
    "### Imports (fichier & modules)"
   ]
  },
  {
   "cell_type": "code",
   "id": "3f5d10ae-f8ab-4651-a142-cc6fb2017403",
   "metadata": {},
   "source": [
    "import pandas as pd\n",
    "import matplotlib.pyplot as plt\n",
    "import numpy as np\n",
    "import seaborn as sns\n",
    "import math\n",
    "\n",
    "#import os\n",
    "#print(os.getcwd())\n",
    "#print(os.listdir('241016_LogETL'))"
   ],
   "outputs": [],
   "execution_count": null
  },
  {
   "cell_type": "code",
   "id": "af43f6a9-1456-4b02-bff7-5aaeb5a9efc7",
   "metadata": {},
   "source": [
    "tab = pd.read_csv('../data/logServer/myreport_ping_full.csv',sep=',')"
   ],
   "outputs": [],
   "execution_count": null
  },
  {
   "cell_type": "markdown",
   "id": "ea46cfca-50ad-446f-ab1d-9b652c920009",
   "metadata": {},
   "source": [
    "### Le fichier myreport_ping_full.csv : taille, colonnes"
   ]
  },
  {
   "cell_type": "code",
   "id": "0b1590ea-42ef-43e1-b74e-416312a20dcc",
   "metadata": {},
   "source": [
    "print(\"il y a \",tab.shape[0],\" lignes et \",tab.shape[1],\" colonnes dans le data frame\")"
   ],
   "outputs": [],
   "execution_count": null
  },
  {
   "cell_type": "code",
   "id": "b592af3f-84fe-43ee-be6a-15c7735f1f58",
   "metadata": {},
   "source": [
    "tab.columns"
   ],
   "outputs": [],
   "execution_count": null
  },
  {
   "cell_type": "code",
   "id": "f3d6719b-bdfb-4c39-8791-a2e91bc0859e",
   "metadata": {},
   "source": [
    "tab.info()"
   ],
   "outputs": [],
   "execution_count": null
  },
  {
   "cell_type": "markdown",
   "id": "53429984-1b06-48bc-9e17-86636b8fc304",
   "metadata": {},
   "source": [
    "On peut déjà voir que :\n",
    "- faudra supprimer les colonnes 8 et 9 car elles sont vides\n",
    "- colonnes 21, 23, 25, 26 contiennent certains élements vides"
   ]
  },
  {
   "cell_type": "code",
   "id": "bb7809d9-d2fc-4486-a920-128db6e2b15e",
   "metadata": {},
   "source": [
    "# Calculer le nombre de valeurs uniques pour chaque colonne\n",
    "nb_valeurs_uniques = tab.nunique()\n",
    "\n",
    "# Afficher les résultats\n",
    "print(nb_valeurs_uniques)"
   ],
   "outputs": [],
   "execution_count": null
  },
  {
   "cell_type": "markdown",
   "id": "d8834160-09d5-4e9d-8c16-59bed1282159",
   "metadata": {},
   "source": [
    "En plus des colonnes 8 et 9, on pourra supprimer les colonnes 15, 16, 17. "
   ]
  },
  {
   "cell_type": "code",
   "id": "4b14c57d-f9ee-4fbf-8294-1208620d494d",
   "metadata": {},
   "source": [
    "tab.head()\n"
   ],
   "outputs": [],
   "execution_count": null
  },
  {
   "cell_type": "code",
   "id": "aa7046f2",
   "metadata": {},
   "source": [
    "tab[\"Date et heure\"] = tab[\"Date et heure\"].str.split(\" - \").str[0]\n",
    "tab = tab.iloc[:-5]\n",
    "tab['Date et heure'] = pd.to_datetime(tab['Date et heure'], format=\"%d/%m/%Y %H:%M:%S\")\n",
    "start_date = '2024-08-24 23:32:03'\n",
    "end_date = '2024-10-15 23:31:49'\n",
    "tab = tab[(tab['Date et heure'] >= start_date) & (tab['Date et heure'] <= end_date)]"
   ],
   "outputs": [],
   "execution_count": null
  },
  {
   "cell_type": "markdown",
   "id": "ddee9cad-37ce-4897-9ab6-464ae9d02719",
   "metadata": {},
   "source": [
    "### Réagencement et Suppression des colonnes"
   ]
  },
  {
   "cell_type": "code",
   "id": "34c6c060-c58c-4d13-8e51-9959542f07f1",
   "metadata": {},
   "source": [
    "# renommage des colonnes\n",
    "tab.rename(columns={\"Temps du ping(RAW)\": \"Temps du ping(ms)\"}, inplace=True)\n",
    "tab.rename(columns={\"Minimum(RAW)\": \"Minimum ping (ms)\"}, inplace=True)\n",
    "tab.rename(columns={\"Maximum(RAW)\": \"Maximum ping (ms)\"}, inplace=True)\n",
    "tab.rename(columns={\"Perte de paquets(RAW)\": \"Perte de paquets (ping)(%)\"}, inplace=True)\n",
    "tab.rename(columns={\"Temps mort(RAW)\": \"Temps mort ping (%)\"}, inplace=True)\n",
    "tab.rename(columns={\"Couverture(RAW)\": \"Couverture ping(%)\"}, inplace=True)\n",
    "\n",
    "# suppression des colonnes inutiles\n",
    "tab = tab.drop(columns=[\"Date et heure(RAW)\"])\n",
    "tab = tab.drop(columns=[\"Temps du ping\"])\n",
    "tab = tab.drop(columns=[\"Minimum\"])\n",
    "tab = tab.drop(columns=[\"Maximum\"])\n",
    "tab = tab.drop(columns=[\"Perte de paquets\"])\n",
    "tab = tab.drop(columns=[\"Temps mort\"])\n",
    "tab = tab.drop(columns=[\"Couverture\"])\n"
   ],
   "outputs": [],
   "execution_count": null
  },
  {
   "cell_type": "code",
   "id": "9c2e4ccc-f762-49f3-8e39-07488923dcbd",
   "metadata": {},
   "source": [
    "tab.head()"
   ],
   "outputs": [],
   "execution_count": null
  },
  {
   "cell_type": "code",
   "id": "4f294232",
   "metadata": {},
   "source": [
    "tab.shape"
   ],
   "outputs": [],
   "execution_count": null
  },
  {
   "cell_type": "markdown",
   "id": "6665de3d-f731-4da1-ad44-c3c12c5dc988",
   "metadata": {},
   "source": [
    "## Analyse temporelle"
   ]
  },
  {
   "cell_type": "code",
   "id": "b2b4486c-92d9-4818-952f-d41ee372630d",
   "metadata": {},
   "source": [
    "# Vérifier que 'Date et heure' est bien au format datetime\n",
    "tab[\"Date et heure\"] = pd.to_datetime(tab[\"Date et heure\"])\n",
    "\n",
    "# Liste des colonnes à exclure\n",
    "excluded_cols = [\"Date et heure\"]\n",
    "\n",
    "# Tracer chaque colonne en fonction du temps\n",
    "for col in tab.columns:\n",
    "    if col not in excluded_cols:  # Exclure les colonnes non pertinentes\n",
    "        plt.figure(figsize=(10, 5))\n",
    "\n",
    "        plt.plot(tab[\"Date et heure\"], tab[col], marker='o', linestyle='-')\n",
    "\n",
    "        plt.xlabel(\"Date et heure\")\n",
    "        plt.ylabel(f\"{col}\")  # Correction de la syntaxe\n",
    "        plt.title(f\"Évolution de {col} en fonction du temps\")\n",
    "        plt.legend([col])  # Correction de la légende\n",
    "        plt.xticks(rotation=45)\n",
    "        plt.grid()\n",
    "\n",
    "        plt.show()"
   ],
   "outputs": [],
   "execution_count": null
  },
  {
   "cell_type": "code",
   "id": "c897fd21-302c-4c91-ac25-b99e69fbc830",
   "metadata": {},
   "source": [
    "# Exclure les colonnes non numériques\n",
    "numerical_cols = tab.select_dtypes(include=['number']).columns\n",
    "\n",
    "# Tracer un boxplot pour chaque colonne\n",
    "for col in numerical_cols:\n",
    "    if col not in excluded_cols:  # Exclure les colonnes non pertinentes\n",
    "        plt.figure(figsize=(8, 5))\n",
    "        sns.boxplot(y=tab[col])\n",
    "        plt.title(f\"Boxplot de {col}\")\n",
    "        plt.grid()\n",
    "        plt.show()"
   ],
   "outputs": [],
   "execution_count": null
  },
  {
   "cell_type": "code",
   "id": "c1cc997f-dd1c-439f-ba2a-b2843f6eb414",
   "metadata": {},
   "source": [
    "# Sélection des colonnes numériques\n",
    "numerical_cols = tab.select_dtypes(include=['number']).columns\n",
    "\n",
    "# Filtre pour exclure les colonnes non pertinentes\n",
    "cols_to_plot = [col for col in numerical_cols if col not in excluded_cols]\n",
    "\n",
    "rows=(math.ceil(len(cols_to_plot)/3))\n",
    "# Créer une figure avec 2 lignes et 3 colonnes de sous-graphiques (axes)\n",
    "fig, axes = plt.subplots(nrows=rows, ncols=3, figsize=(15, rows*5))\n",
    "\n",
    "# Convertir \"axes\" en un tableau 1D pour plus de flexibilité\n",
    "axes = axes.flatten()\n",
    "\n",
    "# Boucler sur les colonnes et tracer un boxplot dans chaque sous-graphique\n",
    "for i, col in enumerate(cols_to_plot):\n",
    "    sns.boxplot(y=tab[col], ax=axes[i])\n",
    "    axes[i].set_title(f\"Boxplot de {col}\")\n",
    "    axes[i].grid()\n",
    "\n",
    "# Ajuster l'espacement entre les sous-graphiques\n",
    "plt.tight_layout()\n",
    "\n",
    "# Afficher la figure\n",
    "plt.show()"
   ],
   "outputs": [],
   "execution_count": null
  },
  {
   "cell_type": "markdown",
   "id": "d5d8a509-b2ef-4a10-8f42-101943691046",
   "metadata": {},
   "source": [
    "### drop des colonnes inutiles"
   ]
  },
  {
   "cell_type": "code",
   "id": "f14a1896-0990-4f68-be03-c3ca0a850991",
   "metadata": {},
   "source": [
    "tab = tab.drop(columns=[\"Couverture ping(%)\"])\n",
    "tab = tab.drop(columns=[\"Temps mort ping (%)\"])\n",
    "tab = tab.drop(columns=[\"Minimum ping (ms)\"])"
   ],
   "outputs": [],
   "execution_count": null
  },
  {
   "cell_type": "markdown",
   "id": "c0d6c283-9373-4588-a067-015c4a550cd9",
   "metadata": {},
   "source": [
    "### Enregistrement du nouveau dataframe dans un nouveau csv"
   ]
  },
  {
   "cell_type": "code",
   "id": "18dd639a-d7ef-48c5-8cb5-2bed540e9a9b",
   "metadata": {},
   "source": [
    "#### ATTENTION au path et nom de fichier\n",
    "tab.to_csv(\"../data/logServer/filtered/myreport_ping_filtered.csv\", index=False, encoding='utf-8')"
   ],
   "outputs": [],
   "execution_count": null
  },
  {
   "cell_type": "code",
   "id": "b9b6818f-94cd-480b-a08c-2bd79e682ec9",
   "metadata": {},
   "source": [],
   "outputs": [],
   "execution_count": null
  }
 ],
 "metadata": {
  "kernelspec": {
   "display_name": "DORenv",
   "language": "python",
   "name": "python3"
  },
  "language_info": {
   "codemirror_mode": {
    "name": "ipython",
    "version": 3
   },
   "file_extension": ".py",
   "mimetype": "text/x-python",
   "name": "python",
   "nbconvert_exporter": "python",
   "pygments_lexer": "ipython3",
   "version": "3.13.1"
  }
 },
 "nbformat": 4,
 "nbformat_minor": 5
}
