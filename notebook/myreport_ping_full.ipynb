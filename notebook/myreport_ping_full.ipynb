{
 "cells": [
  {
   "cell_type": "markdown",
   "id": "58705255-372a-4c0d-8725-4e24e97d04df",
   "metadata": {},
   "source": [
    "# Analyse Exploratoire du fichier myreport_ping_full.csv"
   ]
  },
  {
   "cell_type": "markdown",
   "id": "e17ab80f-7197-4063-a8b9-1f9e42b9d75c",
   "metadata": {},
   "source": [
    "### Imports (fichier & modules)"
   ]
  },
  {
   "cell_type": "code",
   "execution_count": null,
   "id": "3f5d10ae-f8ab-4651-a142-cc6fb2017403",
   "metadata": {},
   "outputs": [],
   "source": [
    "import pandas as pda\n",
    "import matplotlib.pyplot as plt\n",
    "import numpy as np\n",
    "#import os\n",
    "#print(os.getcwd())\n",
    "#print(os.listdir('241016_LogETL'))"
   ]
  },
  {
   "cell_type": "code",
   "execution_count": null,
   "id": "af43f6a9-1456-4b02-bff7-5aaeb5a9efc7",
   "metadata": {},
   "outputs": [],
   "source": [
    "tab = pda.read_csv('../data/logServer/myreport_ping_full.csv',sep=',')"
   ]
  },
  {
   "cell_type": "markdown",
   "id": "ea46cfca-50ad-446f-ab1d-9b652c920009",
   "metadata": {},
   "source": [
    "### Le fichier myreport_ping_full.csv : taille, colonnes"
   ]
  },
  {
   "cell_type": "code",
   "execution_count": null,
   "id": "0b1590ea-42ef-43e1-b74e-416312a20dcc",
   "metadata": {},
   "outputs": [],
   "source": [
    "print(\"il y a \",tab.shape[0],\" lignes et \",tab.shape[1],\" colonnes dans le data frame\")"
   ]
  },
  {
   "cell_type": "code",
   "execution_count": null,
   "id": "b592af3f-84fe-43ee-be6a-15c7735f1f58",
   "metadata": {},
   "outputs": [],
   "source": [
    "tab.columns"
   ]
  },
  {
   "cell_type": "code",
   "execution_count": null,
   "id": "f3d6719b-bdfb-4c39-8791-a2e91bc0859e",
   "metadata": {},
   "outputs": [],
   "source": [
    "tab.info()"
   ]
  },
  {
   "cell_type": "markdown",
   "id": "53429984-1b06-48bc-9e17-86636b8fc304",
   "metadata": {},
   "source": [
    "On peut déjà voir que :\n",
    "- faudra supprimer les colonnes 8 et 9 car elles sont vides\n",
    "- colonnes 21, 23, 25, 26 contiennent certains élements vides"
   ]
  },
  {
   "cell_type": "code",
   "execution_count": null,
   "id": "bb7809d9-d2fc-4486-a920-128db6e2b15e",
   "metadata": {},
   "outputs": [],
   "source": [
    "# Calculer le nombre de valeurs uniques pour chaque colonne\n",
    "nb_valeurs_uniques = tab.nunique()\n",
    "\n",
    "# Afficher les résultats\n",
    "print(nb_valeurs_uniques)"
   ]
  },
  {
   "cell_type": "markdown",
   "id": "d8834160-09d5-4e9d-8c16-59bed1282159",
   "metadata": {},
   "source": [
    "En plus des colonnes 8 et 9, on pourra supprimer les colonnes 15, 16, 17. "
   ]
  },
  {
   "cell_type": "code",
   "execution_count": null,
   "id": "4b14c57d-f9ee-4fbf-8294-1208620d494d",
   "metadata": {},
   "outputs": [],
   "source": [
    "tab.head()\n"
   ]
  },
  {
   "cell_type": "code",
   "execution_count": null,
   "id": "2f607fb5-5cbd-4ffb-b5e6-5cbb78f3a2a1",
   "metadata": {},
   "outputs": [],
   "source": []
  },
  {
   "cell_type": "markdown",
   "id": "6665de3d-f731-4da1-ad44-c3c12c5dc988",
   "metadata": {},
   "source": [
    "## Regardons le détail par colonne"
   ]
  },
  {
   "cell_type": "code",
   "execution_count": null,
   "id": "2ed04787-9b7c-4e78-a46a-bcf3c4805d91",
   "metadata": {},
   "outputs": [],
   "source": []
  }
 ],
 "metadata": {
  "kernelspec": {
   "display_name": "Python 3 (ipykernel)",
   "language": "python",
   "name": "python3"
  },
  "language_info": {
   "codemirror_mode": {
    "name": "ipython",
    "version": 3
   },
   "file_extension": ".py",
   "mimetype": "text/x-python",
   "name": "python",
   "nbconvert_exporter": "python",
   "pygments_lexer": "ipython3",
   "version": "3.12.2"
  }
 },
 "nbformat": 4,
 "nbformat_minor": 5
}
