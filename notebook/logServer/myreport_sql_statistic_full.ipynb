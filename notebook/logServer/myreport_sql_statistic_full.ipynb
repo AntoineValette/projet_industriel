{
 "cells": [
  {
   "cell_type": "markdown",
   "id": "161931c7-6057-4727-955f-d846991ee475",
   "metadata": {},
   "source": [
    "### Analyse Exploratoire du fichier myreport_sql_statistic_full.csv"
   ]
  },
  {
   "cell_type": "markdown",
   "id": "89729cc3-2d63-4f18-95a8-7d82625286f1",
   "metadata": {},
   "source": [
    "####  Imports (fichier & modules)"
   ]
  },
  {
   "cell_type": "code",
   "id": "eb5cded0-2e4b-40da-b22b-0155c5b4e9ba",
   "metadata": {},
   "source": [
    "import pandas as pd\n",
    "import matplotlib.pyplot as plt\n",
    "import numpy as np\n",
    "import seaborn as sns\n",
    "import math"
   ],
   "outputs": [],
   "execution_count": null
  },
  {
   "cell_type": "code",
   "id": "6be59aae-8aa3-48eb-9b4c-2c2f05392ce4",
   "metadata": {},
   "source": "tab = pd.read_csv('../../data/logServer/myreport_sql_statistic_full.csv', sep=',')",
   "outputs": [],
   "execution_count": null
  },
  {
   "cell_type": "markdown",
   "id": "a84ceac4-7109-4032-989e-1931ef024730",
   "metadata": {},
   "source": [
    "####  Le fichier myreport_ping_full.csv : taille, colonnes"
   ]
  },
  {
   "cell_type": "code",
   "id": "6dc5d10f-7819-4e90-9952-9d9f0e2ccd7d",
   "metadata": {},
   "source": [
    "print(\"Il y a \",tab.shape[0],\" lignes et \",tab.shape[1],\" colonnes dans le data frame\")"
   ],
   "outputs": [],
   "execution_count": null
  },
  {
   "cell_type": "code",
   "id": "4e933bb6-3aea-419e-a3d4-ecefd3d1cc4d",
   "metadata": {},
   "source": [
    "lst=list(tab.columns)\n",
    "lst"
   ],
   "outputs": [],
   "execution_count": null
  },
  {
   "cell_type": "code",
   "id": "6fbc458a-5351-4947-bb2b-8c091381b797",
   "metadata": {},
   "source": [
    "tab.info()"
   ],
   "outputs": [],
   "execution_count": null
  },
  {
   "cell_type": "code",
   "id": "252cc357-d7f4-4002-8c36-a671418413e1",
   "metadata": {},
   "source": [
    "# Calculer le nombre de valeurs uniques pour chaque colonne\n",
    "nb_valeurs_uniques = tab.nunique()\n",
    "\n",
    "# Afficher les résultats\n",
    "print(nb_valeurs_uniques)"
   ],
   "outputs": [],
   "execution_count": null
  },
  {
   "cell_type": "code",
   "id": "f2e9654e-470d-4133-8cd1-718163a353d7",
   "metadata": {
    "scrolled": true
   },
   "source": [
    "tab.head()"
   ],
   "outputs": [],
   "execution_count": null
  },
  {
   "cell_type": "markdown",
   "id": "2b2ef861-78ab-4759-9935-421c2512b2e8",
   "metadata": {},
   "source": [
    "### Transformation des dates"
   ]
  },
  {
   "cell_type": "code",
   "id": "5dba99dc-6463-4d05-b843-f94b01548430",
   "metadata": {},
   "source": [
    "# Convertir toutes les dates de la colonne 'Date et heure(RAW)'\n",
    "tab['Date et heure'] = tab[\"Date et heure\"].str.split(\" - \").str[0]\n",
    "\n",
    "tab=tab.iloc[:-5]\n",
    "# Si vous avez un format comme \"JJ/MM/AAAA HH:MM:SS\", vous pouvez préciser :\n",
    "tab['Date et heure'] = pd.to_datetime(tab['Date et heure'], format=\"%d/%m/%Y %H:%M:%S\")"
   ],
   "outputs": [],
   "execution_count": null
  },
  {
   "cell_type": "code",
   "id": "6527a406-9e8c-4f6d-a91a-2b866a94f536",
   "metadata": {},
   "source": [
    "tab.head()"
   ],
   "outputs": [],
   "execution_count": null
  },
  {
   "cell_type": "code",
   "id": "7e21126e-06d3-4a68-be37-480015ef7054",
   "metadata": {},
   "source": [
    "start_date = '2024-08-24 23:32:03'\n",
    "end_date = '2024-10-15 23:31:49'\n",
    "tab = tab[(tab['Date et heure'] >= start_date) & (tab['Date et heure'] <= end_date)]"
   ],
   "outputs": [],
   "execution_count": null
  },
  {
   "cell_type": "code",
   "id": "d1009a1c-1902-4f2d-be6f-ee4d7e237eae",
   "metadata": {},
   "source": [
    "tab.shape"
   ],
   "outputs": [],
   "execution_count": null
  },
  {
   "cell_type": "markdown",
   "id": "d6f0ff03-098c-44d3-8c6a-376b93f08aea",
   "metadata": {},
   "source": [
    " #### Réagencement et Suppression des colonnes"
   ]
  },
  {
   "cell_type": "code",
   "id": "3b3d467a-5b6a-405d-8845-9b741a3607b9",
   "metadata": {},
   "source": [
    "# déplacement des nouvelles colonnes de date/heure à gauche\n",
    "cols = tab.columns  # Liste des colonnes\n",
    "tab = tab[cols[-3:].tolist() + cols[:-3].tolist()]"
   ],
   "outputs": [],
   "execution_count": null
  },
  {
   "cell_type": "code",
   "id": "82cbd30d-7199-4f55-8cf5-687d59712ec9",
   "metadata": {},
   "source": [
    "# suppression des colonnes inutiles\n",
    "tab = tab.drop(columns=[\"Date et heure(RAW)\"])\n",
    "tab = tab.drop(columns=[\"Nombre de requêtes de lots/s\"])\n",
    "tab = tab.drop(columns=[\"Compilations SQL/s\"])\n",
    "tab = tab.drop(columns=[\"Recompilations SQL/s\"])\n",
    "tab = tab.drop(columns=[\"Temps mort\"])\n",
    "tab = tab.drop(columns=[\"Couverture\"])\n",
    "\n",
    "# renommage des colonnes\n",
    "tab.rename(columns={\"Nombre de requêtes de lots/s(RAW)\": \"Nombre de requêtes de lots/s (sql stat)(#)\"}, inplace=True)\n",
    "tab.rename(columns={\"Compilations SQL/s(RAW)\": \"Compilations SQL/s (sql stat)(#)\"}, inplace=True)\n",
    "tab.rename(columns={\"Recompilations SQL/s(RAW)\": \"Recompilations SQL/s (sql stat)(#)\"}, inplace=True)\n",
    "tab.rename(columns={\"Temps mort(RAW)\": \"Temps mort (sql stat)(%)\"}, inplace=True)\n",
    "tab.rename(columns={\"Couverture(RAW)\": \"Couverture (sql stat)(%)\"}, inplace=True)\n"
   ],
   "outputs": [],
   "execution_count": null
  },
  {
   "cell_type": "code",
   "id": "8ddef7af-9c24-4c9e-b610-383b294f4138",
   "metadata": {},
   "source": [
    "tab.head()"
   ],
   "outputs": [],
   "execution_count": null
  },
  {
   "cell_type": "code",
   "id": "9cd25871-6d10-4350-9d2d-bfb89f404e56",
   "metadata": {},
   "source": [
    "print(type(tab[\"Date et heure\"].iloc[0])) #vérifier le typage de date_full"
   ],
   "outputs": [],
   "execution_count": null
  },
  {
   "cell_type": "markdown",
   "id": "0eabbadc-f3cd-432f-9e38-b28fed55354b",
   "metadata": {},
   "source": [
    "### Analyse temporelle"
   ]
  },
  {
   "cell_type": "code",
   "id": "0af2d9da-3d41-4606-8a5a-5bd727c135cf",
   "metadata": {},
   "source": [
    "import matplotlib.pyplot as plt\n",
    "import itertools\n",
    "import pandas as pd\n",
    "\n",
    "import matplotlib.pyplot as plt\n",
    "\n",
    "# Vérifier que 'date_full' est bien au format datetime\n",
    "tab[\"Date et heure\"] = pd.to_datetime(tab[\"Date et heure\"])\n",
    "\n",
    "# Liste des colonnes à exclure\n",
    "excluded_cols = [\"Date et heure\", \"date\", \"heure\", \"Date et heure(RAW)\"]\n",
    "\n",
    "# Tracer chaque colonne en fonction du temps\n",
    "for col in tab.columns:\n",
    "    if col not in excluded_cols:  # Exclure les colonnes non pertinentes\n",
    "        plt.figure(figsize=(10, 5))\n",
    "\n",
    "        plt.plot(tab[\"Date et heure\"], tab[col], marker='o', linestyle='-')\n",
    "\n",
    "        plt.xlabel(\"Date et heure\")\n",
    "        plt.ylabel(f\"{col}\")  # Correction de la syntaxe\n",
    "        plt.title(f\"Évolution de {col} en fonction du temps\")\n",
    "        plt.legend([col])  # Correction de la légende\n",
    "        plt.xticks(rotation=45)\n",
    "        plt.grid()\n",
    "\n",
    "        plt.show()"
   ],
   "outputs": [],
   "execution_count": null
  },
  {
   "cell_type": "code",
   "id": "aafa9822-fc43-404b-97af-45e36a23fb1c",
   "metadata": {
    "scrolled": true
   },
   "source": [
    "import seaborn as sns\n",
    "\n",
    "# Exclure les colonnes non numériques\n",
    "numerical_cols = tab.select_dtypes(include=['number']).columns\n",
    "\n",
    "# Tracer un boxplot pour chaque colonne\n",
    "for col in numerical_cols:\n",
    "    if col not in excluded_cols:  # Exclure les colonnes non pertinentes\n",
    "        plt.figure(figsize=(8, 5))\n",
    "        sns.boxplot(y=tab[col])\n",
    "        plt.title(f\"Boxplot de {col}\")\n",
    "        plt.grid()\n",
    "        plt.show()"
   ],
   "outputs": [],
   "execution_count": null
  },
  {
   "cell_type": "code",
   "id": "33b50ad7-a495-4edb-8aa0-b765e49b8bc9",
   "metadata": {},
   "source": [
    "# Sélection des colonnes numériques\n",
    "numerical_cols = tab.select_dtypes(include=['number']).columns\n",
    "\n",
    "# Filtre pour exclure les colonnes non pertinentes\n",
    "cols_to_plot = [col for col in numerical_cols if col not in excluded_cols]\n",
    "\n",
    "rows=(math.ceil(len(cols_to_plot)/3))\n",
    "# Créer une figure avec 2 lignes et 3 colonnes de sous-graphiques (axes)\n",
    "fig, axes = plt.subplots(nrows=rows, ncols=3, figsize=(15, rows*5))\n",
    "\n",
    "# Convertir \"axes\" en un tableau 1D pour plus de flexibilité\n",
    "axes = axes.flatten()\n",
    "\n",
    "# Boucler sur les colonnes et tracer un boxplot dans chaque sous-graphique\n",
    "for i, col in enumerate(cols_to_plot):\n",
    "    sns.boxplot(y=tab[col], ax=axes[i])\n",
    "    axes[i].set_title(f\"Boxplot de {col}\")\n",
    "    axes[i].grid()\n",
    "\n",
    "# Ajuster l'espacement entre les sous-graphiques\n",
    "plt.tight_layout()\n",
    "\n",
    "# Afficher la figure\n",
    "plt.show()"
   ],
   "outputs": [],
   "execution_count": null
  },
  {
   "cell_type": "markdown",
   "id": "1ba80dcd-2e3b-47ad-be05-38e10faaa4ea",
   "metadata": {},
   "source": [
    "### drop des colonnes inutiles"
   ]
  },
  {
   "cell_type": "code",
   "id": "729e6325-fa96-4c5e-bd78-b2a483ffb5d5",
   "metadata": {},
   "source": [
    "tab = tab.drop(columns=[\"Temps mort (sql stat)(%)\"])\n",
    "tab = tab.drop(columns=[\"Couverture (sql stat)(%)\"])"
   ],
   "outputs": [],
   "execution_count": null
  },
  {
   "cell_type": "markdown",
   "id": "28cf1e2d-c5bf-41c6-ae38-bc2535e87b48",
   "metadata": {},
   "source": [
    " #### Enregistrement du nouveau dataframe dans un nouveau csv"
   ]
  },
  {
   "cell_type": "code",
   "id": "8f72146f-1ccd-4f5d-b24e-b03a7e9716db",
   "metadata": {},
   "source": [
    "#### ATTENTION au path et nom de fichier\n",
    "tab.to_csv(\"../data/logServer/filtered/myreport_sql_statistic_filtered.csv\", index=False, encoding='utf-8')"
   ],
   "outputs": [],
   "execution_count": null
  },
  {
   "cell_type": "code",
   "id": "4ecbc95c-221a-4204-989e-86955c7dd632",
   "metadata": {},
   "source": [],
   "outputs": [],
   "execution_count": null
  }
 ],
 "metadata": {
  "kernelspec": {
   "display_name": "Python 3 (ipykernel)",
   "language": "python",
   "name": "python3"
  },
  "language_info": {
   "codemirror_mode": {
    "name": "ipython",
    "version": 3
   },
   "file_extension": ".py",
   "mimetype": "text/x-python",
   "name": "python",
   "nbconvert_exporter": "python",
   "pygments_lexer": "ipython3",
   "version": "3.12.2"
  }
 },
 "nbformat": 4,
 "nbformat_minor": 5
}
