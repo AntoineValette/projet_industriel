{
 "cells": [
  {
   "cell_type": "markdown",
   "id": "58705255-372a-4c0d-8725-4e24e97d04df",
   "metadata": {},
   "source": [
    "# Analyse Exploratoire du fichier myreport_sql_general_full.csv"
   ]
  },
  {
   "cell_type": "markdown",
   "id": "e17ab80f-7197-4063-a8b9-1f9e42b9d75c",
   "metadata": {},
   "source": [
    "### Imports (fichier & modules)"
   ]
  },
  {
   "cell_type": "code",
   "id": "3f5d10ae-f8ab-4651-a142-cc6fb2017403",
   "metadata": {},
   "source": [
    "import pandas as pd\n",
    "import matplotlib.pyplot as plt\n",
    "import numpy as np\n",
    "import seaborn as sns\n",
    "import math\n",
    "\n",
    "#import os\n",
    "#print(os.getcwd())\n",
    "#print(os.listdir('241016_LogETL'))"
   ],
   "outputs": [],
   "execution_count": null
  },
  {
   "cell_type": "code",
   "id": "af43f6a9-1456-4b02-bff7-5aaeb5a9efc7",
   "metadata": {},
   "source": "tab = pd.read_csv('../../data/logServer/myreport_sql_general_full.csv', sep=',')",
   "outputs": [],
   "execution_count": null
  },
  {
   "cell_type": "markdown",
   "id": "ea46cfca-50ad-446f-ab1d-9b652c920009",
   "metadata": {},
   "source": [
    "### Le fichier 241016_LogETL.csv : taille, colonnes"
   ]
  },
  {
   "cell_type": "code",
   "id": "0b1590ea-42ef-43e1-b74e-416312a20dcc",
   "metadata": {},
   "source": [
    "tab.shape"
   ],
   "outputs": [],
   "execution_count": null
  },
  {
   "cell_type": "markdown",
   "id": "930854ee-00d2-43f6-8b91-105535497bd1",
   "metadata": {},
   "source": [
    "Il y a 171 489 lignes et 28 colonnes dans le dataframe. "
   ]
  },
  {
   "cell_type": "code",
   "id": "b592af3f-84fe-43ee-be6a-15c7735f1f58",
   "metadata": {},
   "source": [
    "tab.columns"
   ],
   "outputs": [],
   "execution_count": null
  },
  {
   "cell_type": "code",
   "id": "f3d6719b-bdfb-4c39-8791-a2e91bc0859e",
   "metadata": {},
   "source": [
    "tab.info()"
   ],
   "outputs": [],
   "execution_count": null
  },
  {
   "cell_type": "code",
   "id": "bb7809d9-d2fc-4486-a920-128db6e2b15e",
   "metadata": {},
   "source": [
    "# Calculer le nombre de valeurs uniques pour chaque colonne\n",
    "nb_valeurs_uniques = tab.nunique()\n",
    "\n",
    "# Afficher les résultats\n",
    "print(nb_valeurs_uniques)"
   ],
   "outputs": [],
   "execution_count": null
  },
  {
   "cell_type": "code",
   "id": "4b14c57d-f9ee-4fbf-8294-1208620d494d",
   "metadata": {},
   "source": [
    "tab.head()"
   ],
   "outputs": [],
   "execution_count": null
  },
  {
   "cell_type": "code",
   "id": "4b0f6477",
   "metadata": {},
   "source": [
    "tab[\"Date et heure\"] = tab[\"Date et heure\"].str.split(\" - \").str[0]\n",
    "tab = tab.iloc[:-5]\n",
    "tab['Date et heure'] = pd.to_datetime(tab['Date et heure'], format=\"%d/%m/%Y %H:%M:%S\")\n",
    "start_date = '2024-08-24 23:32:03'\n",
    "end_date = '2024-10-15 23:31:49'\n",
    "tab = tab[(tab['Date et heure'] >= start_date) & (tab['Date et heure'] <= end_date)]"
   ],
   "outputs": [],
   "execution_count": null
  },
  {
   "cell_type": "code",
   "id": "2b7816a8",
   "metadata": {},
   "source": [
    "tab.shape"
   ],
   "outputs": [],
   "execution_count": null
  },
  {
   "cell_type": "markdown",
   "id": "1928e2f9-8a2c-492f-bb43-e6f3f4bbe235",
   "metadata": {},
   "source": [
    "### Réagencement et Suppression des colonnes"
   ]
  },
  {
   "cell_type": "code",
   "id": "73c71ce0-eb46-4967-aae8-1d6dcb0353fa",
   "metadata": {},
   "source": [
    "# renommage des colonnes\n",
    "tab.rename(columns={\"Connexions utilisateur(RAW)\": \"Connexions utilisateur(nb)\"}, inplace=True)\n",
    "tab.rename(columns={\"Connexions/s(RAW)\": \"Connexions/s(nb)\"}, inplace=True)\n",
    "tab.rename(columns={\"Déconnexions/s(RAW)\": \"Déconnexions/s(nb)\"}, inplace=True)\n",
    "tab.rename(columns={\"Temps mort(RAW)\": \"Temps mort sql general(%)\"}, inplace=True)\n",
    "tab.rename(columns={\"Couverture(RAW)\": \"Couverture sql general(%)\"}, inplace=True)"
   ],
   "outputs": [],
   "execution_count": null
  },
  {
   "cell_type": "code",
   "id": "f74900ef-5fad-425a-a7b6-97e6af1f1b26",
   "metadata": {},
   "source": [
    "# suppression des colonnes inutiles\n",
    "tab = tab.drop(columns=[\"Date et heure(RAW)\"])\n",
    "tab = tab.drop(columns=[\"Connexions/s\"])\n",
    "tab = tab.drop(columns=[\"Déconnexions/s\"])\n",
    "tab = tab.drop(columns=[\"Connexions utilisateur\"])\n",
    "tab = tab.drop(columns=[\"Temps mort\"])\n",
    "tab = tab.drop(columns=[\"Couverture\"])"
   ],
   "outputs": [],
   "execution_count": null
  },
  {
   "cell_type": "code",
   "id": "c91c0bd9-1e38-441a-b70c-9ec8f317ce65",
   "metadata": {},
   "source": [
    "tab.head()"
   ],
   "outputs": [],
   "execution_count": null
  },
  {
   "cell_type": "markdown",
   "id": "ac3d50a5-02ce-4fb2-a99a-a82edeaf5149",
   "metadata": {},
   "source": [
    "### Analyse temporelle"
   ]
  },
  {
   "cell_type": "code",
   "id": "d8bff418-0be5-4f6d-83b0-671ce745e77a",
   "metadata": {
    "scrolled": true
   },
   "source": [
    "# Vérifier que 'date_full' est bien au format datetime\n",
    "tab[\"Date et heure\"] = pd.to_datetime(tab[\"Date et heure\"])\n",
    "\n",
    "# Liste des colonnes à exclure\n",
    "excluded_cols = [\"Date et heure\"]\n",
    "\n",
    "# Tracer chaque colonne en fonction du temps\n",
    "for col in tab.columns:\n",
    "    if col not in excluded_cols:  # Exclure les colonnes non pertinentes\n",
    "        plt.figure(figsize=(10, 5))\n",
    "\n",
    "        plt.plot(tab[\"Date et heure\"], tab[col], marker='o', linestyle='-')\n",
    "\n",
    "        plt.xlabel(\"Date et heure\")\n",
    "        plt.ylabel(f\"{col}\")  # Correction de la syntaxe\n",
    "        plt.title(f\"Évolution de {col} en fonction du temps\")\n",
    "        plt.legend([col])  # Correction de la légende\n",
    "        plt.xticks(rotation=45)\n",
    "        plt.grid()\n",
    "\n",
    "        plt.show()"
   ],
   "outputs": [],
   "execution_count": null
  },
  {
   "cell_type": "code",
   "id": "06a6268c-4256-4cb4-868c-a64071d872cf",
   "metadata": {
    "scrolled": true
   },
   "source": [
    "# Exclure les colonnes non numériques\n",
    "numerical_cols = tab.select_dtypes(include=['number']).columns\n",
    "\n",
    "# Tracer un boxplot pour chaque colonne\n",
    "for col in numerical_cols:\n",
    "    if col not in excluded_cols:  # Exclure les colonnes non pertinentes\n",
    "        plt.figure(figsize=(8, 5))\n",
    "        sns.boxplot(y=tab[col])\n",
    "        plt.title(f\"Boxplot de {col}\")\n",
    "        plt.grid()\n",
    "        plt.show()"
   ],
   "outputs": [],
   "execution_count": null
  },
  {
   "cell_type": "code",
   "id": "773b5260-4a3c-441d-904d-0581e8917c44",
   "metadata": {},
   "source": [
    "# Sélection des colonnes numériques\n",
    "numerical_cols = tab.select_dtypes(include=['number']).columns\n",
    "\n",
    "# Filtre pour exclure les colonnes non pertinentes\n",
    "cols_to_plot = [col for col in numerical_cols if col not in excluded_cols]\n",
    "\n",
    "rows=(math.ceil(len(cols_to_plot)/3))\n",
    "# Créer une figure avec 2 lignes et 3 colonnes de sous-graphiques (axes)\n",
    "fig, axes = plt.subplots(nrows=rows, ncols=3, figsize=(15, rows*5))\n",
    "\n",
    "# Convertir \"axes\" en un tableau 1D pour plus de flexibilité\n",
    "axes = axes.flatten()\n",
    "\n",
    "# Boucler sur les colonnes et tracer un boxplot dans chaque sous-graphique\n",
    "for i, col in enumerate(cols_to_plot):\n",
    "    sns.boxplot(y=tab[col], ax=axes[i])\n",
    "    axes[i].set_title(f\"Boxplot de {col}\")\n",
    "    axes[i].grid()\n",
    "\n",
    "# Ajuster l'espacement entre les sous-graphiques\n",
    "plt.tight_layout()\n",
    "\n",
    "# Afficher la figure\n",
    "plt.show()"
   ],
   "outputs": [],
   "execution_count": null
  },
  {
   "cell_type": "markdown",
   "id": "4902bfc0-71f7-4638-8dfa-66834dcaf252",
   "metadata": {},
   "source": [
    "### drop des colonnes inutiles"
   ]
  },
  {
   "cell_type": "code",
   "id": "a2d99e03-fb47-4c01-8d3c-c1e11d4fc0c5",
   "metadata": {},
   "source": [
    "tab = tab.drop(columns=[\"Temps mort sql general(%)\"])\n",
    "tab = tab.drop(columns=[\"Couverture sql general(%)\"])"
   ],
   "outputs": [],
   "execution_count": null
  },
  {
   "cell_type": "markdown",
   "id": "5f1b3818-9dfc-4b49-9de6-e2db2d59abe4",
   "metadata": {},
   "source": [
    "### Enregistrement du nouveau dataframe dans un nouveau csv"
   ]
  },
  {
   "cell_type": "code",
   "id": "6ab37903-a06c-48f9-bb32-b7df293083b5",
   "metadata": {},
   "source": [
    "#### ATTENTION au path et nom de fichier\n",
    "tab.to_csv(\"../data/logServer/filtered/myreport_sql_general_filtered.csv\", index=False, encoding='utf-8')"
   ],
   "outputs": [],
   "execution_count": null
  }
 ],
 "metadata": {
  "kernelspec": {
   "display_name": "DORenv",
   "language": "python",
   "name": "python3"
  },
  "language_info": {
   "codemirror_mode": {
    "name": "ipython",
    "version": 3
   },
   "file_extension": ".py",
   "mimetype": "text/x-python",
   "name": "python",
   "nbconvert_exporter": "python",
   "pygments_lexer": "ipython3",
   "version": "3.13.1"
  }
 },
 "nbformat": 4,
 "nbformat_minor": 5
}
