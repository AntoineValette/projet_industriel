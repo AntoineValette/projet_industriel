{
 "cells": [
  {
   "cell_type": "markdown",
   "id": "58705255-372a-4c0d-8725-4e24e97d04df",
   "metadata": {},
   "source": [
    "# Analyse Exploratoire du fichier myreport_sql_gestionairedememoire_full.csv"
   ]
  },
  {
   "cell_type": "markdown",
   "id": "e17ab80f-7197-4063-a8b9-1f9e42b9d75c",
   "metadata": {},
   "source": [
    "### Imports (fichier & modules)"
   ]
  },
  {
   "cell_type": "code",
   "id": "3f5d10ae-f8ab-4651-a142-cc6fb2017403",
   "metadata": {},
   "source": [
    "import pandas as pd\n",
    "import matplotlib.pyplot as plt\n",
    "import numpy as np\n",
    "import seaborn as sns\n",
    "import math\n",
    "#import os\n",
    "#print(os.getcwd())\n",
    "#print(os.listdir('241016_LogETL'))"
   ],
   "outputs": [],
   "execution_count": null
  },
  {
   "cell_type": "code",
   "id": "af43f6a9-1456-4b02-bff7-5aaeb5a9efc7",
   "metadata": {},
   "source": "tab = pd.read_csv('../../data/logServer/myreport_sql_gestionairedememoire_full.csv', sep=',')",
   "outputs": [],
   "execution_count": null
  },
  {
   "cell_type": "markdown",
   "id": "ea46cfca-50ad-446f-ab1d-9b652c920009",
   "metadata": {},
   "source": [
    "### Le fichier myreport_sql_gestionairedememoire_full.csv : taille, colonnes"
   ]
  },
  {
   "cell_type": "code",
   "id": "0b1590ea-42ef-43e1-b74e-416312a20dcc",
   "metadata": {},
   "source": [
    "print(\"il y a \",tab.shape[0],\" lignes et \",tab.shape[1],\" colonnes dans le data frame\")"
   ],
   "outputs": [],
   "execution_count": null
  },
  {
   "cell_type": "code",
   "id": "b592af3f-84fe-43ee-be6a-15c7735f1f58",
   "metadata": {},
   "source": [
    "tab.columns"
   ],
   "outputs": [],
   "execution_count": null
  },
  {
   "cell_type": "code",
   "id": "f3d6719b-bdfb-4c39-8791-a2e91bc0859e",
   "metadata": {},
   "source": [
    "tab.info()"
   ],
   "outputs": [],
   "execution_count": null
  },
  {
   "cell_type": "markdown",
   "id": "53429984-1b06-48bc-9e17-86636b8fc304",
   "metadata": {},
   "source": [
    "On peut déjà voir que :\n",
    "- faudra supprimer les colonnes 8 et 9 car elles sont vides\n",
    "- colonnes 21, 23, 25, 26 contiennent certains élements vides"
   ]
  },
  {
   "cell_type": "code",
   "id": "bb7809d9-d2fc-4486-a920-128db6e2b15e",
   "metadata": {},
   "source": [
    "# Calculer le nombre de valeurs uniques pour chaque colonne\n",
    "nb_valeurs_uniques = tab.nunique()\n",
    "\n",
    "# Afficher les résultats\n",
    "print(nb_valeurs_uniques)"
   ],
   "outputs": [],
   "execution_count": null
  },
  {
   "cell_type": "markdown",
   "id": "d8834160-09d5-4e9d-8c16-59bed1282159",
   "metadata": {},
   "source": [
    "En plus des colonnes 8 et 9, on pourra supprimer les colonnes 15, 16, 17. "
   ]
  },
  {
   "cell_type": "code",
   "id": "4b14c57d-f9ee-4fbf-8294-1208620d494d",
   "metadata": {},
   "source": [
    "tab.head()\n"
   ],
   "outputs": [],
   "execution_count": null
  },
  {
   "cell_type": "markdown",
   "id": "a1eebe3b-e281-4ac5-bd01-502f9745db45",
   "metadata": {},
   "source": [
    "### Transformation des dates"
   ]
  },
  {
   "cell_type": "code",
   "id": "cc475263-27e1-4d3c-ac6e-c7768a965c62",
   "metadata": {},
   "source": [
    "# Convertir toutes les dates de la colonne 'Date et heure(RAW)'\n",
    "tab['Date et heure'] = tab[\"Date et heure\"].str.split(\" - \").str[0]\n",
    "\n",
    "tab=tab.iloc[:-5]\n",
    "# Si vous avez un format comme \"JJ/MM/AAAA HH:MM:SS\", vous pouvez préciser :\n",
    "tab['Date et heure'] = pd.to_datetime(tab['Date et heure'], format=\"%d/%m/%Y %H:%M:%S\")"
   ],
   "outputs": [],
   "execution_count": null
  },
  {
   "cell_type": "code",
   "id": "9ee7902f-a5f3-40d6-bec1-effd756d7727",
   "metadata": {},
   "source": [
    "tab.head()\n"
   ],
   "outputs": [],
   "execution_count": null
  },
  {
   "cell_type": "code",
   "id": "746ae3a8-a291-431c-ac4d-00e95f2c79c1",
   "metadata": {},
   "source": [
    "start_date = '2024-08-24 23:32:03'\n",
    "end_date = '2024-10-15 23:31:49'\n",
    "tab = tab[(tab['Date et heure'] >= start_date) & (tab['Date et heure'] <= end_date)]"
   ],
   "outputs": [],
   "execution_count": null
  },
  {
   "cell_type": "code",
   "id": "9b053064-b71c-4fe8-aa04-c19eae77e7cf",
   "metadata": {},
   "source": [
    "tab.shape"
   ],
   "outputs": [],
   "execution_count": null
  },
  {
   "cell_type": "markdown",
   "id": "39d4cd4a-1d63-4837-9d3f-2024d337461a",
   "metadata": {},
   "source": [
    "### Réagencement et Suppression des colonnes"
   ]
  },
  {
   "cell_type": "code",
   "id": "5ec16979-c6b9-46ee-8e59-6100e67f72b8",
   "metadata": {},
   "source": [
    " # suppression des colonnes inutiles\n",
    "tab = tab.drop(columns=[\"Date et heure(RAW)\"])\n",
    "tab = tab.drop(columns=[\"Mémoire de connexion\"])\n",
    "tab = tab.drop(columns=[\"Mémoire de l'optimiseur\"])\n",
    "tab = tab.drop(columns=[\"Mémoire totale du serveur\"])\n",
    "tab = tab.drop(columns=[\"Mémoire du serveur cible\"])\n",
    "tab = tab.drop(columns=[\"Mémoire du cache SQL\"])\n",
    "\n",
    "tab = tab.drop(columns=[\"Temps mort\"])\n",
    "tab = tab.drop(columns=[\"Couverture\"])\n",
    "\n",
    "# renommage des colonnes\n",
    "tab.rename(columns={\"Mémoire de connexion(RAW)\": \"Mémoire de connexion_sql_gestmemoire(Ko)\"}, inplace=True)\n",
    "tab.rename(columns={\"Mémoire de l'optimiseur(RAW)\": \"Mémoire de l'optimiseur_sql_gestmemoire(Ko)\"}, inplace=True)\n",
    "tab.rename(columns={\"Mémoire totale du serveur(RAW)\": \"Mémoire totale du serveur_sql_gestmemoire(Ko)\"}, inplace=True)\n",
    "tab.rename(columns={\"Mémoire du serveur cible(RAW)\": \"Mémoire du serveur cible_sql_gestmemoire(Ko)\"}, inplace=True)\n",
    "tab.rename(columns={\"Mémoire du cache SQL(RAW)\": \"Mémoire du cache SQL_sql_gestmemoire(Ko)\"}, inplace=True)\n",
    "\n",
    "tab.rename(columns={\"Temps mort(RAW)\": \"Temps mort_sql_gestmemoire(%)\"}, inplace=True)\n",
    "tab.rename(columns={\"Couverture(RAW)\": \"Couverture_sql_gestmemoire(%)\"}, inplace=True)"
   ],
   "outputs": [],
   "execution_count": null
  },
  {
   "cell_type": "markdown",
   "id": "bda5440d-9914-44e8-ab55-a491aa3f9cae",
   "metadata": {},
   "source": [
    "### Analyse temporelle"
   ]
  },
  {
   "cell_type": "code",
   "id": "3f806f9f-3dac-48c8-bbde-cf555d1faf88",
   "metadata": {},
   "source": [
    "import matplotlib.pyplot as plt\n",
    "import itertools\n",
    "import pandas as pd\n",
    "\n",
    "import matplotlib.pyplot as plt\n",
    "\n",
    "# Vérifier que 'date_full' est bien au format datetime\n",
    "tab[\"Date et heure\"] = pd.to_datetime(tab[\"Date et heure\"])\n",
    "\n",
    "# Liste des colonnes à exclure\n",
    "excluded_cols = [\"date_full\", \"date\", \"heure\", \"Date et heure(RAW)\"]\n",
    "\n",
    "# Tracer chaque colonne en fonction du temps\n",
    "for col in tab.columns:\n",
    "    if col not in excluded_cols:  # Exclure les colonnes non pertinentes\n",
    "        plt.figure(figsize=(10, 5))\n",
    "\n",
    "        plt.plot(tab[\"Date et heure\"], tab[col], marker='o', linestyle='-')\n",
    "\n",
    "        plt.xlabel(\"Date et heure\")\n",
    "        plt.ylabel(f\"{col}\")  # Correction de la syntaxe\n",
    "        plt.title(f\"Évolution de {col} en fonction du temps\")\n",
    "        plt.legend([col])  # Correction de la légende\n",
    "        plt.xticks(rotation=45)\n",
    "        plt.grid()\n",
    "\n",
    "        plt.show()"
   ],
   "outputs": [],
   "execution_count": null
  },
  {
   "cell_type": "code",
   "id": "427f92a7-fa6c-43f1-bd13-33b05240745c",
   "metadata": {},
   "source": [
    "import seaborn as sns\n",
    "\n",
    "# Exclure les colonnes non numériques\n",
    "numerical_cols = tab.select_dtypes(include=['number']).columns\n",
    "\n",
    "# Tracer un boxplot pour chaque colonne\n",
    "for col in numerical_cols:\n",
    "    if col not in excluded_cols:  # Exclure les colonnes non pertinentes\n",
    "        plt.figure(figsize=(8, 5))\n",
    "        sns.boxplot(y=tab[col])\n",
    "        plt.title(f\"Boxplot de {col}\")\n",
    "        plt.grid()\n",
    "        plt.show()"
   ],
   "outputs": [],
   "execution_count": null
  },
  {
   "cell_type": "code",
   "id": "5f0c28b7-4f38-45a5-8ee7-6173d9acd37c",
   "metadata": {},
   "source": [
    "# Sélection des colonnes numériques\n",
    "numerical_cols = tab.select_dtypes(include=['number']).columns\n",
    "\n",
    "# Filtre pour exclure les colonnes non pertinentes\n",
    "cols_to_plot = [col for col in numerical_cols if col not in excluded_cols]\n",
    "\n",
    "rows=(math.ceil(len(cols_to_plot)/3))\n",
    "# Créer une figure avec 2 lignes et 3 colonnes de sous-graphiques (axes)\n",
    "fig, axes = plt.subplots(nrows=rows, ncols=3, figsize=(15, rows*5))\n",
    "\n",
    "# Convertir \"axes\" en un tableau 1D pour plus de flexibilité\n",
    "axes = axes.flatten()\n",
    "\n",
    "# Boucler sur les colonnes et tracer un boxplot dans chaque sous-graphique\n",
    "for i, col in enumerate(cols_to_plot):\n",
    "    sns.boxplot(y=tab[col], ax=axes[i])\n",
    "    axes[i].set_title(f\"Boxplot de {col}\")\n",
    "    axes[i].grid()\n",
    "\n",
    "# Ajuster l'espacement entre les sous-graphiques\n",
    "plt.tight_layout()\n",
    "\n",
    "# Afficher la figure\n",
    "plt.show()"
   ],
   "outputs": [],
   "execution_count": null
  },
  {
   "cell_type": "markdown",
   "id": "aa5a3a19-3865-4848-9585-b211b21c5722",
   "metadata": {},
   "source": [
    "### drop des colonnes inutiles"
   ]
  },
  {
   "cell_type": "code",
   "id": "07aaec72-d709-4081-abfd-d14711a96e7c",
   "metadata": {},
   "source": [
    "tab = tab.drop(columns=[\"Temps mort_sql_gestmemoire(%)\"])\n",
    "tab = tab.drop(columns=[\"Couverture_sql_gestmemoire(%)\"])\n",
    "tab = tab.drop(columns=[\"Mémoire du serveur cible_sql_gestmemoire(Ko)\"])"
   ],
   "outputs": [],
   "execution_count": null
  },
  {
   "cell_type": "markdown",
   "id": "c9e10b41-9e4e-4904-96b7-b8e2d678b00c",
   "metadata": {},
   "source": [
    "### Enregistrement du nouveau dataframe dans un nouveau csv"
   ]
  },
  {
   "cell_type": "code",
   "id": "6de5c435-ffec-4439-ba75-86116c54d94d",
   "metadata": {},
   "source": [
    "#### ATTENTION au path et nom de fichier\n",
    "tab.to_csv(\"../data/logServer/filtered/myreport_sql_gestionairedememoire_filtered.csv\", index=False, encoding='utf-8')"
   ],
   "outputs": [],
   "execution_count": null
  },
  {
   "cell_type": "code",
   "id": "ac749a01-562a-4001-8ebd-776eaa6ae4da",
   "metadata": {},
   "source": [],
   "outputs": [],
   "execution_count": null
  }
 ],
 "metadata": {
  "kernelspec": {
   "display_name": "Python 3 (ipykernel)",
   "language": "python",
   "name": "python3"
  },
  "language_info": {
   "codemirror_mode": {
    "name": "ipython",
    "version": 3
   },
   "file_extension": ".py",
   "mimetype": "text/x-python",
   "name": "python",
   "nbconvert_exporter": "python",
   "pygments_lexer": "ipython3",
   "version": "3.12.2"
  }
 },
 "nbformat": 4,
 "nbformat_minor": 5
}
