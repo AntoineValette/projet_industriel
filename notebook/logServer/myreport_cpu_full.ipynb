{
 "cells": [
  {
   "cell_type": "markdown",
   "id": "58705255-372a-4c0d-8725-4e24e97d04df",
   "metadata": {},
   "source": [
    "# Analyse Exploratoire du fichier myreport_cpu_full.csv"
   ]
  },
  {
   "cell_type": "markdown",
   "id": "e17ab80f-7197-4063-a8b9-1f9e42b9d75c",
   "metadata": {},
   "source": [
    "### Imports (fichier & modules)"
   ]
  },
  {
   "cell_type": "code",
   "id": "3f5d10ae-f8ab-4651-a142-cc6fb2017403",
   "metadata": {},
   "source": [
    "import pandas as pd\n",
    "import matplotlib.pyplot as plt\n",
    "import numpy as np\n",
    "import seaborn as sns\n",
    "import math\n",
    "\n",
    "#import os\n",
    "#print(os.getcwd())\n",
    "#print(os.listdir('241016_LogETL'))"
   ],
   "outputs": [],
   "execution_count": null
  },
  {
   "cell_type": "code",
   "id": "af43f6a9-1456-4b02-bff7-5aaeb5a9efc7",
   "metadata": {},
   "source": "tab = pd.read_csv('../../data/logServer/myreport_cpu_full.csv', sep=',')",
   "outputs": [],
   "execution_count": null
  },
  {
   "cell_type": "markdown",
   "id": "ea46cfca-50ad-446f-ab1d-9b652c920009",
   "metadata": {},
   "source": [
    "### Le fichier myreport_cpu_full.csv : taille, colonnes"
   ]
  },
  {
   "cell_type": "code",
   "id": "0b1590ea-42ef-43e1-b74e-416312a20dcc",
   "metadata": {},
   "source": [
    "print(\"il y a \",tab.shape[0],\" lignes et \",tab.shape[1],\" colonnes dans le data frame\")"
   ],
   "outputs": [],
   "execution_count": null
  },
  {
   "cell_type": "code",
   "id": "b592af3f-84fe-43ee-be6a-15c7735f1f58",
   "metadata": {
    "scrolled": true
   },
   "source": [
    "tab.columns"
   ],
   "outputs": [],
   "execution_count": null
  },
  {
   "cell_type": "code",
   "id": "f3d6719b-bdfb-4c39-8791-a2e91bc0859e",
   "metadata": {
    "scrolled": true
   },
   "source": [
    "tab.info()"
   ],
   "outputs": [],
   "execution_count": null
  },
  {
   "cell_type": "code",
   "id": "aecf413c-4659-46be-afa9-4637621c0dcb",
   "metadata": {
    "scrolled": true
   },
   "source": [
    "tab.info()"
   ],
   "outputs": [],
   "execution_count": null
  },
  {
   "cell_type": "markdown",
   "id": "53429984-1b06-48bc-9e17-86636b8fc304",
   "metadata": {},
   "source": []
  },
  {
   "cell_type": "code",
   "id": "bb7809d9-d2fc-4486-a920-128db6e2b15e",
   "metadata": {
    "scrolled": true
   },
   "source": [
    "# Calculer le nombre de valeurs uniques pour chaque colonne\n",
    "nb_valeurs_uniques = tab.nunique()\n",
    "\n",
    "# Afficher les résultats\n",
    "print(nb_valeurs_uniques)"
   ],
   "outputs": [],
   "execution_count": null
  },
  {
   "cell_type": "code",
   "id": "4b14c57d-f9ee-4fbf-8294-1208620d494d",
   "metadata": {},
   "source": [
    "tab.head()\n"
   ],
   "outputs": [],
   "execution_count": null
  },
  {
   "cell_type": "code",
   "id": "c98545a7",
   "metadata": {},
   "source": [
    "tab[\"Date et heure\"] = tab[\"Date et heure\"].str.split(\" - \").str[0]"
   ],
   "outputs": [],
   "execution_count": null
  },
  {
   "cell_type": "code",
   "id": "0b74fdfd",
   "metadata": {},
   "source": [
    "tab = tab.iloc[:-5]\n",
    "tab['Date et heure'] = pd.to_datetime(tab['Date et heure'], format=\"%d/%m/%Y %H:%M:%S\")"
   ],
   "outputs": [],
   "execution_count": null
  },
  {
   "cell_type": "code",
   "id": "28452824",
   "metadata": {},
   "source": [
    "tab.head()"
   ],
   "outputs": [],
   "execution_count": null
  },
  {
   "cell_type": "code",
   "id": "69e66573",
   "metadata": {},
   "source": [
    "start_date = '2024-08-24 23:32:03'\n",
    "end_date = '2024-10-15 23:31:49'\n",
    "\n",
    "tab = tab[(tab['Date et heure'] >= start_date) & (tab['Date et heure'] <= end_date)]"
   ],
   "outputs": [],
   "execution_count": null
  },
  {
   "cell_type": "code",
   "id": "ef51572f",
   "metadata": {},
   "source": [
    "tab.head()"
   ],
   "outputs": [],
   "execution_count": null
  },
  {
   "cell_type": "markdown",
   "id": "0e648dc8-7f07-4a2e-b6e8-07b5aa1348d7",
   "metadata": {},
   "source": [
    "### Réagencement et Suppression des colonnes"
   ]
  },
  {
   "cell_type": "code",
   "id": "04e5eeca-acbd-406b-833f-c27c9156fae9",
   "metadata": {},
   "source": [
    "# suppression des colonnes inutiles\n",
    "tab = tab.drop(columns=[\"Date et heure(RAW)\"])\n",
    "tab = tab.drop(columns=[\"Somme\"])\n",
    "tab = tab.drop(columns=[\"Processeur 1\"])\n",
    "tab = tab.drop(columns=[\"Processeur 2\"])\n",
    "tab = tab.drop(columns=[\"Processeur 3\"])\n",
    "tab = tab.drop(columns=[\"Processeur 4\"])\n",
    "tab = tab.drop(columns=[\"Processeur 5\"])\n",
    "tab = tab.drop(columns=[\"Processeur 6\"])\n",
    "tab = tab.drop(columns=[\"Processeur 7\"])\n",
    "tab = tab.drop(columns=[\"Processeur 8\"])\n",
    "tab = tab.drop(columns=[\"Temps mort\"])\n",
    "tab = tab.drop(columns=[\"Couverture\"])\n",
    "\n",
    "# renommage des colonnes\n",
    "tab.rename(columns={\"Somme(RAW)\": \"Somme(%)\"}, inplace=True)\n",
    "tab.rename(columns={\"Processeur 1(RAW)\": \"Processeur 1(%)\"}, inplace=True)\n",
    "tab.rename(columns={\"Processeur 2(RAW)\": \"Processeur 2(%)\"}, inplace=True)\n",
    "tab.rename(columns={\"Processeur 3(RAW)\": \"Processeur 3(%)\"}, inplace=True)\n",
    "tab.rename(columns={\"Processeur 4(RAW)\": \"Processeur 4(%)\"}, inplace=True)\n",
    "tab.rename(columns={\"Processeur 5(RAW)\": \"Processeur 5(%)\"}, inplace=True)\n",
    "tab.rename(columns={\"Processeur 6(RAW)\": \"Processeur 6(%)\"}, inplace=True)\n",
    "tab.rename(columns={\"Processeur 7(RAW)\": \"Processeur 7(%)\"}, inplace=True)\n",
    "tab.rename(columns={\"Processeur 8(RAW)\": \"Processeur 8(%)\"}, inplace=True)\n",
    "\n",
    "tab.rename(columns={\"Temps mort(RAW)\": \"Temps mort cpu(%)\"}, inplace=True)\n",
    "tab.rename(columns={\"Couverture(RAW)\": \"Couverture cpu(%)\"}, inplace=True)\n"
   ],
   "outputs": [],
   "execution_count": null
  },
  {
   "cell_type": "markdown",
   "id": "bd3025d8-862a-47a8-92a1-c291499620bb",
   "metadata": {},
   "source": [
    "## Analyse temporelle"
   ]
  },
  {
   "cell_type": "code",
   "id": "351e1e5e-7ee1-4931-9734-f0947c25ef12",
   "metadata": {},
   "source": [
    "# Vérifier que 'Date et heure' est bien au format datetime\n",
    "tab[\"Date et heure\"] = pd.to_datetime(tab[\"Date et heure\"])\n",
    "\n",
    "# Liste des colonnes à exclure\n",
    "excluded_cols = [\"Date et heure\"]\n",
    "\n",
    "# Tracer chaque colonne en fonction du temps\n",
    "for col in tab.columns:\n",
    "    if col not in excluded_cols:  # Exclure les colonnes non pertinentes\n",
    "        plt.figure(figsize=(10, 5))\n",
    "\n",
    "        plt.plot(tab[\"Date et heure\"], tab[col], marker='o', linestyle='-')\n",
    "\n",
    "        plt.xlabel(\"Date et heure\")\n",
    "        plt.ylabel(f\"{col}\")  # Correction de la syntaxe\n",
    "        plt.title(f\"Évolution de {col} en fonction du temps\")\n",
    "        plt.legend([col])  # Correction de la légende\n",
    "        plt.xticks(rotation=45)\n",
    "        plt.grid()\n",
    "\n",
    "        plt.show()"
   ],
   "outputs": [],
   "execution_count": null
  },
  {
   "cell_type": "code",
   "id": "e7a76618-21de-44b1-b00c-7f019c271a4c",
   "metadata": {},
   "source": [
    "# Exclure les colonnes non numériques\n",
    "numerical_cols = tab.select_dtypes(include=['number']).columns\n",
    "\n",
    "# Tracer un boxplot pour chaque colonne\n",
    "for col in numerical_cols:\n",
    "    if col not in excluded_cols:  # Exclure les colonnes non pertinentes\n",
    "        plt.figure(figsize=(8, 5))\n",
    "        sns.boxplot(y=tab[col])\n",
    "        plt.title(f\"Boxplot de {col}\")\n",
    "        plt.grid()\n",
    "        plt.show()"
   ],
   "outputs": [],
   "execution_count": null
  },
  {
   "cell_type": "code",
   "id": "fb5190ac-0834-4b13-a6e2-b497de9c6ff1",
   "metadata": {
    "scrolled": true
   },
   "source": [
    "# Sélection des colonnes numériques\n",
    "numerical_cols = tab.select_dtypes(include=['number']).columns\n",
    "\n",
    "# Filtre pour exclure les colonnes non pertinentes\n",
    "cols_to_plot = [col for col in numerical_cols if col not in excluded_cols]\n",
    "\n",
    "rows=(math.ceil(len(cols_to_plot)/3))\n",
    "# Créer une figure avec 2 lignes et 3 colonnes de sous-graphiques (axes)\n",
    "fig, axes = plt.subplots(nrows=rows, ncols=3, figsize=(15, rows*5))\n",
    "\n",
    "# Convertir \"axes\" en un tableau 1D pour plus de flexibilité\n",
    "axes = axes.flatten()\n",
    "\n",
    "# Boucler sur les colonnes et tracer un boxplot dans chaque sous-graphique\n",
    "for i, col in enumerate(cols_to_plot):\n",
    "    sns.boxplot(y=tab[col], ax=axes[i])\n",
    "    axes[i].set_title(f\"Boxplot de {col}\")\n",
    "    axes[i].grid()\n",
    "\n",
    "# Ajuster l'espacement entre les sous-graphiques\n",
    "plt.tight_layout()\n",
    "\n",
    "# Afficher la figure\n",
    "plt.show()"
   ],
   "outputs": [],
   "execution_count": null
  },
  {
   "cell_type": "markdown",
   "id": "fc520f85-1fb0-47bd-86ae-42f710208041",
   "metadata": {},
   "source": [
    "### drop des colonnes inutiles"
   ]
  },
  {
   "cell_type": "code",
   "id": "0c115211-edf9-453c-8e5a-ee93446f58a8",
   "metadata": {},
   "source": [
    "#on garde tout ici"
   ],
   "outputs": [],
   "execution_count": null
  },
  {
   "cell_type": "markdown",
   "id": "06670216-bf2c-4a16-bb94-b88177bded97",
   "metadata": {},
   "source": [
    "### Enregistrement du nouveau dataframe dans un nouveau csv"
   ]
  },
  {
   "cell_type": "code",
   "id": "1460796c-c617-4405-8aaf-bf273bf6b027",
   "metadata": {},
   "source": [
    "#### ATTENTION au path et nom de fichier\n",
    "tab.to_csv(\"../data/logServer/filtered/myreport_cpu_filtered.csv\", index=False, encoding='utf-8')"
   ],
   "outputs": [],
   "execution_count": null
  },
  {
   "cell_type": "code",
   "id": "bfdadf96-2479-44c5-9c98-ceeebf016ace",
   "metadata": {},
   "source": [],
   "outputs": [],
   "execution_count": null
  }
 ],
 "metadata": {
  "kernelspec": {
   "display_name": "DORenv",
   "language": "python",
   "name": "python3"
  },
  "language_info": {
   "codemirror_mode": {
    "name": "ipython",
    "version": 3
   },
   "file_extension": ".py",
   "mimetype": "text/x-python",
   "name": "python",
   "nbconvert_exporter": "python",
   "pygments_lexer": "ipython3",
   "version": "3.13.1"
  }
 },
 "nbformat": 4,
 "nbformat_minor": 5
}
