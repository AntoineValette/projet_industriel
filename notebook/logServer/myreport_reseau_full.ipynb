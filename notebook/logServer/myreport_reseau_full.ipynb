{
 "cells": [
  {
   "cell_type": "markdown",
   "id": "58705255-372a-4c0d-8725-4e24e97d04df",
   "metadata": {},
   "source": [
    "# Analyse Exploratoire du fichier myreport_sql_general_full.csv.csv"
   ]
  },
  {
   "cell_type": "markdown",
   "id": "e17ab80f-7197-4063-a8b9-1f9e42b9d75c",
   "metadata": {},
   "source": [
    "### Imports (fichier & modules)"
   ]
  },
  {
   "cell_type": "code",
   "id": "3f5d10ae-f8ab-4651-a142-cc6fb2017403",
   "metadata": {},
   "source": [
    "import pandas as pd\n",
    "import matplotlib.pyplot as plt\n",
    "import numpy as np\n",
    "import seaborn as sns\n",
    "import math\n",
    "\n",
    "#import os\n",
    "#print(os.getcwd())\n",
    "#print(os.listdir('241016_LogETL'))"
   ],
   "outputs": [],
   "execution_count": null
  },
  {
   "cell_type": "code",
   "id": "af43f6a9-1456-4b02-bff7-5aaeb5a9efc7",
   "metadata": {},
   "source": "tab = pd.read_csv('../../data/logServer/myreport_reseau_full.csv', sep=',')",
   "outputs": [],
   "execution_count": null
  },
  {
   "cell_type": "markdown",
   "id": "ea46cfca-50ad-446f-ab1d-9b652c920009",
   "metadata": {},
   "source": "### Le fichier myreport_reseau_full.csv : taille, colonnes"
  },
  {
   "cell_type": "code",
   "id": "0b1590ea-42ef-43e1-b74e-416312a20dcc",
   "metadata": {},
   "source": [
    "print(\"il y a \",tab.shape[0],\" lignes et \",tab.shape[1],\" colonnes dans le data frame\")"
   ],
   "outputs": [],
   "execution_count": null
  },
  {
   "cell_type": "code",
   "id": "b592af3f-84fe-43ee-be6a-15c7735f1f58",
   "metadata": {
    "scrolled": true
   },
   "source": [
    "tab.columns"
   ],
   "outputs": [],
   "execution_count": null
  },
  {
   "cell_type": "code",
   "id": "f3d6719b-bdfb-4c39-8791-a2e91bc0859e",
   "metadata": {
    "scrolled": true
   },
   "source": [
    "tab.info()"
   ],
   "outputs": [],
   "execution_count": null
  },
  {
   "cell_type": "markdown",
   "id": "53429984-1b06-48bc-9e17-86636b8fc304",
   "metadata": {},
   "source": [
    "On peut déjà voir que :\n",
    "- faudra supprimer les colonnes 8 et 9 car elles sont vides\n",
    "- colonnes 21, 23, 25, 26 contiennent certains élements vides"
   ]
  },
  {
   "cell_type": "code",
   "id": "bb7809d9-d2fc-4486-a920-128db6e2b15e",
   "metadata": {},
   "source": [
    "# Calculer le nombre de valeurs uniques pour chaque colonne\n",
    "nb_valeurs_uniques = tab.nunique()\n",
    "\n",
    "# Afficher les résultats\n",
    "print(nb_valeurs_uniques)"
   ],
   "outputs": [],
   "execution_count": null
  },
  {
   "cell_type": "markdown",
   "id": "d8834160-09d5-4e9d-8c16-59bed1282159",
   "metadata": {},
   "source": [
    "En plus des colonnes 8 et 9, on pourra supprimer les colonnes 15, 16, 17. "
   ]
  },
  {
   "cell_type": "code",
   "id": "4b14c57d-f9ee-4fbf-8294-1208620d494d",
   "metadata": {},
   "source": [
    "tab.head()\n"
   ],
   "outputs": [],
   "execution_count": null
  },
  {
   "cell_type": "markdown",
   "id": "a8365d94-f295-4c36-b2d2-cc4bc414e88f",
   "metadata": {},
   "source": [
    "### Transformation des dates"
   ]
  },
  {
   "cell_type": "code",
   "id": "437b21b9-2d5c-4938-9b7a-78bc778751f7",
   "metadata": {},
   "source": [
    "# Convertir toutes les dates de la colonne 'Date et heure(RAW)'\n",
    "tab['Date et heure'] = tab[\"Date et heure\"].str.split(\" - \").str[0]\n",
    "\n",
    "tab=tab.iloc[:-5]\n",
    "# Si vous avez un format comme \"JJ/MM/AAAA HH:MM\", vous pouvez préciser :\n",
    "tab['Date et heure'] = pd.to_datetime(tab['Date et heure'], format=\"%d/%m/%Y %H:%M:%S\")"
   ],
   "outputs": [],
   "execution_count": null
  },
  {
   "cell_type": "code",
   "id": "e0f7dafe-08e2-4ce9-a2d3-c3cbd099cb2c",
   "metadata": {},
   "source": [
    "tab.head()"
   ],
   "outputs": [],
   "execution_count": null
  },
  {
   "cell_type": "code",
   "id": "7495c798-278c-4468-84d5-c3ba7742bb2d",
   "metadata": {},
   "source": [
    "start_date = '2024-08-24 23:32:03'\n",
    "end_date = '2024-10-15 23:31:49'\n",
    "tab = tab[(tab['Date et heure'] >= start_date) & (tab['Date et heure'] <= end_date)]"
   ],
   "outputs": [],
   "execution_count": null
  },
  {
   "cell_type": "code",
   "id": "6f68e4df-5dcd-4064-abb9-ff963041f106",
   "metadata": {},
   "source": [
    "tab.shape"
   ],
   "outputs": [],
   "execution_count": null
  },
  {
   "cell_type": "markdown",
   "id": "49d46720-3c6b-43ea-b4a9-d2ced4d63105",
   "metadata": {},
   "source": [
    "### Réagencement et Suppression des colonnes"
   ]
  },
  {
   "cell_type": "code",
   "id": "1557b308-8ec7-48b4-bc11-faee402e71e1",
   "metadata": {},
   "source": [
    "# renommage des colonnes\n",
    "tab.rename(columns={\"Somme (Volume)(RAW)\": \"Somme (Volume)(Mo)\"}, inplace=True)\n",
    "tab.rename(columns={\"Somme (Débit)(RAW)\": \"Somme (Débit)(Mbit/s)\"}, inplace=True)\n",
    "\n",
    "tab.rename(columns={\"Trafic entrant (Volume)(RAW)\": \"Trafic entrant (Volume)(o)\"}, inplace=True)\n",
    "tab.rename(columns={\"Trafic entrant (Débit)(RAW)\": \"Trafic entrant (Débit)(o/s)\"}, inplace=True)\n",
    "tab.rename(columns={\"Trafic sortant (Volume)(RAW)\": \"Trafic sortant (Volume)(o)\"}, inplace=True)\n",
    "tab.rename(columns={\"Trafic sortant (Débit)(RAW)\": \"Trafic sortant (Débit)(o/s)\"}, inplace=True)\n",
    "\n",
    "tab.rename(columns={\"Paquets (Volume)(RAW)\": \"Paquets (Volume)(o)\"}, inplace=True)\n",
    "tab.rename(columns={\"Paquets (Débit)(RAW)\": \"Paquets (Débit)(o/s)\"}, inplace=True)\n",
    "\n",
    "tab.rename(columns={\"Paquets reçus (Volume)(RAW)\": \"Paquets reçus (Volume)(o)\"}, inplace=True)\n",
    "tab.rename(columns={\"Paquets reçus (Débit)(RAW)\": \"Paquets reçus (Débit)(o/s)\"}, inplace=True)\n",
    "\n",
    "tab.rename(columns={\"Paquets envoyés (Volume)(RAW)\": \"Paquets envoyés (Volume)(o)\"}, inplace=True)\n",
    "tab.rename(columns={\"Paquets envoyés (Débit)(RAW)\": \"Paquets envoyés (Débit)(o/s)\"}, inplace=True)\n",
    "\n",
    "tab.rename(columns={\"Monodiffusion entrante (Volume)(RAW)\": \"Monodiffusion entrante (Volume)(o)\"}, inplace=True)\n",
    "tab.rename(columns={\"Monodiffusion entrante (Débit)(RAW)\": \"Monodiffusion entrante (Débit)(o/s)\"}, inplace=True)\n",
    "tab.rename(columns={\"Monodiffusion sortante (Volume)(RAW)\": \"Monodiffusion sortante (Volume)(o)\"}, inplace=True)\n",
    "tab.rename(columns={\"Monodiffusion sortante (Débit)(RAW)\": \"Monodiffusion sortante (Débit)(o/s)\"}, inplace=True)\n",
    "\n",
    "tab.rename(columns={\"Paquets non monodiffusion entrants (Volume)(RAW)\": \"Paquets non monodiffusion entrants (Volume)(o)\"}, inplace=True)\n",
    "tab.rename(columns={\"Paquets non monodiffusion entrants (Débit)(RAW)\": \"Paquets non monodiffusion entrants (Débit)(o/s)\"}, inplace=True)\n",
    "tab.rename(columns={\"Paquets non monodiffusion sortants (Volume)(RAW)\": \"Paquets non monodiffusion sortants (Volume)(o)\"}, inplace=True)\n",
    "tab.rename(columns={\"Paquets non monodiffusion sortants (Débit)(RAW)\": \"Paquets non monodiffusion sortants (Débit)(o/s)\"}, inplace=True)\n",
    "\n",
    "tab.rename(columns={\"Erreurs entrantes (Volume)(RAW)\": \"Erreurs entrantes (Volume)(o)\"}, inplace=True)\n",
    "tab.rename(columns={\"Erreurs entrantes (Débit)(RAW)\": \"Erreurs entrantes (Débit)(o/s)\"}, inplace=True)\n",
    "tab.rename(columns={\"Erreurs sortantes (Volume)(RAW)\": \"Erreurs sortantes (Volume)(o)\"}, inplace=True)\n",
    "tab.rename(columns={\"Erreurs sortantes (Débit)(RAW)\": \"Erreurs sortantes (Débit)(o/s)\"}, inplace=True)\n",
    "\n",
    "tab.rename(columns={\"Entrants rejetés (Volume)(RAW)\": \"Entrants rejetés (Volume)(o)\"}, inplace=True)\n",
    "tab.rename(columns={\"Entrants rejetés (Débit)(RAW)\": \"Entrants rejetés (Débit)(o/s)\"}, inplace=True)\n",
    "tab.rename(columns={\"Sortants rejetés (Volume)(RAW)\": \"Sortants rejetés (Volume)(o)\"}, inplace=True)\n",
    "tab.rename(columns={\"Sortants rejetés (Débit)(RAW)\": \"Sortants rejetés (Débit)(o/s)\"}, inplace=True)\n",
    "\n",
    "tab.rename(columns={\"Protocoles inconnus entrants (Volume)(RAW)\": \"Protocoles inconnus entrants (Volume)(o)\"}, inplace=True)\n",
    "tab.rename(columns={\"Protocoles inconnus entrants (Débit)(RAW)\": \"Protocoles inconnus entrants (Débit)(o/s)\"}, inplace=True)\n",
    "\n",
    "tab.rename(columns={\"Temps mort(RAW)\": \"Temps mort reseau(%)\"}, inplace=True)\n",
    "tab.rename(columns={\"Couverture(RAW)\": \"Couverture reseau(%)\"}, inplace=True)"
   ],
   "outputs": [],
   "execution_count": null
  },
  {
   "cell_type": "code",
   "id": "a1e7e78d-54dc-48f2-8279-515d27ad5b43",
   "metadata": {},
   "source": [
    "# suppression des colonnes inutiles\n",
    "tab = tab.drop(columns=[\"Date et heure(RAW)\"])\n",
    "tab = tab.drop(columns=[\"Somme (Volume)\"])\n",
    "\n",
    "tab = tab.drop(columns=[\"Somme (Débit)\"])\n",
    "tab = tab.drop(columns=[\"Trafic entrant (Volume)\"])\n",
    "tab = tab.drop(columns=[\"Trafic entrant (Débit)\"])\n",
    "tab = tab.drop(columns=[\"Trafic sortant (Volume)\"])\n",
    "tab = tab.drop(columns=[\"Trafic sortant (Débit)\"])\n",
    "\n",
    "tab = tab.drop(columns=[\"Paquets (Volume)\"])\n",
    "tab = tab.drop(columns=[\"Paquets (Débit)\"])\n",
    "\n",
    "tab = tab.drop(columns=[\"Paquets reçus (Volume)\"])\n",
    "tab = tab.drop(columns=[\"Paquets reçus (Débit)\"])\n",
    "\n",
    "tab = tab.drop(columns=[\"Paquets envoyés (Volume)\"])\n",
    "tab = tab.drop(columns=[\"Paquets envoyés (Débit)\"])\n",
    "\n",
    "tab = tab.drop(columns=[\"Monodiffusion entrante (Volume)\"])\n",
    "tab = tab.drop(columns=[\"Monodiffusion entrante (Débit)\"])\n",
    "tab = tab.drop(columns=[\"Monodiffusion sortante (Volume)\"])\n",
    "tab = tab.drop(columns=[\"Monodiffusion sortante (Débit)\"])\n",
    "\n",
    "tab = tab.drop(columns=[\"Paquets non monodiffusion entrants (Volume)\"])\n",
    "tab = tab.drop(columns=[\"Paquets non monodiffusion entrants (Débit)\"])\n",
    "tab = tab.drop(columns=[\"Paquets non monodiffusion sortants (Volume)\"])\n",
    "tab = tab.drop(columns=[\"Paquets non monodiffusion sortants (Débit)\"])\n",
    "\n",
    "tab = tab.drop(columns=[\"Erreurs entrantes (Volume)\"])\n",
    "tab = tab.drop(columns=[\"Erreurs entrantes (Débit)\"])\n",
    "tab = tab.drop(columns=[\"Erreurs sortantes (Volume)\"])\n",
    "tab = tab.drop(columns=[\"Erreurs sortantes (Débit)\"])\n",
    "\n",
    "tab = tab.drop(columns=[\"Entrants rejetés (Volume)\"])\n",
    "tab = tab.drop(columns=[\"Entrants rejetés (Débit)\"])\n",
    "tab = tab.drop(columns=[\"Sortants rejetés (Volume)\"])\n",
    "tab = tab.drop(columns=[\"Sortants rejetés (Débit)\"])\n",
    "\n",
    "tab = tab.drop(columns=[\"Protocoles inconnus entrants (Volume)\"])\n",
    "tab = tab.drop(columns=[\"Protocoles inconnus entrants (Débit)\"])\n",
    "\n",
    "tab = tab.drop(columns=[\"Temps mort\"])\n",
    "tab = tab.drop(columns=[\"Couverture\"])"
   ],
   "outputs": [],
   "execution_count": null
  },
  {
   "cell_type": "code",
   "id": "32d356b1-206d-42bb-ab27-b1dcd75b0e62",
   "metadata": {},
   "source": [
    "tab.head()"
   ],
   "outputs": [],
   "execution_count": null
  },
  {
   "cell_type": "code",
   "id": "722e4c7b-f920-4519-a108-c6f7a5777f40",
   "metadata": {},
   "source": [
    "print(type(tab[\"Date et heure\"].iloc[0])) #vérifier le typage de date_full"
   ],
   "outputs": [],
   "execution_count": null
  },
  {
   "cell_type": "markdown",
   "id": "d5983e05-be06-4453-86da-de0bcb2d7bcf",
   "metadata": {},
   "source": [
    "### Analyse temporelle"
   ]
  },
  {
   "cell_type": "code",
   "id": "9811d64b-1736-4f6d-85c2-364edf69c4d5",
   "metadata": {
    "scrolled": true
   },
   "source": [
    "import matplotlib.pyplot as plt\n",
    "import itertools\n",
    "import pandas as pd\n",
    "\n",
    "import matplotlib.pyplot as plt\n",
    "\n",
    "# Vérifier que 'date_full' est bien au format datetime\n",
    "tab[\"Date et heure\"] = pd.to_datetime(tab[\"Date et heure\"])\n",
    "\n",
    "# Liste des colonnes à exclure\n",
    "excluded_cols = [\"date_full\", \"date\", \"heure\", \"Date et heure(RAW)\"]\n",
    "\n",
    "# Tracer chaque colonne en fonction du temps\n",
    "for col in tab.columns:\n",
    "    if col not in excluded_cols:  # Exclure les colonnes non pertinentes\n",
    "        plt.figure(figsize=(10, 5))\n",
    "\n",
    "        plt.plot(tab[\"Date et heure\"], tab[col], marker='o', linestyle='-')\n",
    "\n",
    "        plt.xlabel(\"Date et heure\")\n",
    "        plt.ylabel(f\"{col}\")  # Correction de la syntaxe\n",
    "        plt.title(f\"Évolution de {col} en fonction du temps\")\n",
    "        plt.legend([col])  # Correction de la légende\n",
    "        plt.xticks(rotation=45)\n",
    "        plt.grid()\n",
    "\n",
    "        plt.show()"
   ],
   "outputs": [],
   "execution_count": null
  },
  {
   "cell_type": "code",
   "id": "949cafd1-1f6b-4da9-9951-b21730681be6",
   "metadata": {
    "scrolled": true
   },
   "source": [
    "# Exclure les colonnes non numériques\n",
    "numerical_cols = tab.select_dtypes(include=['number']).columns\n",
    "\n",
    "# Tracer un boxplot pour chaque colonne\n",
    "for col in numerical_cols:\n",
    "    if col not in excluded_cols:  # Exclure les colonnes non pertinentes\n",
    "        plt.figure(figsize=(8, 5))\n",
    "        sns.boxplot(y=tab[col])\n",
    "        plt.title(f\"Boxplot de {col}\")\n",
    "        plt.grid()\n",
    "        plt.show()"
   ],
   "outputs": [],
   "execution_count": null
  },
  {
   "cell_type": "code",
   "id": "7c3c545d-f1f5-4a34-b499-0d7e7c94df0b",
   "metadata": {},
   "source": [
    "# Sélection des colonnes numériques\n",
    "numerical_cols = tab.select_dtypes(include=['number']).columns\n",
    "\n",
    "# Filtre pour exclure les colonnes non pertinentes\n",
    "cols_to_plot = [col for col in numerical_cols if col not in excluded_cols]\n",
    "\n",
    "rows=(math.ceil(len(cols_to_plot)/3))\n",
    "# Créer une figure avec 2 lignes et 3 colonnes de sous-graphiques (axes)\n",
    "fig, axes = plt.subplots(nrows=rows, ncols=3, figsize=(15, rows*5))\n",
    "\n",
    "# Convertir \"axes\" en un tableau 1D pour plus de flexibilité\n",
    "axes = axes.flatten()\n",
    "\n",
    "# Boucler sur les colonnes et tracer un boxplot dans chaque sous-graphique\n",
    "for i, col in enumerate(cols_to_plot):\n",
    "    sns.boxplot(y=tab[col], ax=axes[i])\n",
    "    axes[i].set_title(f\"Boxplot de {col}\")\n",
    "    axes[i].grid()\n",
    "\n",
    "# Ajuster l'espacement entre les sous-graphiques\n",
    "plt.tight_layout()\n",
    "\n",
    "# Afficher la figure\n",
    "plt.show()"
   ],
   "outputs": [],
   "execution_count": null
  },
  {
   "cell_type": "markdown",
   "id": "a60116a7-b7ae-49d8-948c-3a5669ca3b2a",
   "metadata": {},
   "source": [
    "### drop des colonnes inutiles"
   ]
  },
  {
   "cell_type": "code",
   "id": "1f28f09b-549e-43a8-82ad-c41133b17847",
   "metadata": {},
   "source": [
    "tab = tab.drop(columns=[\"Erreurs entrantes (Volume)(o)\"])\n",
    "tab = tab.drop(columns=[\"Erreurs entrantes (Débit)(o/s)\"])\n",
    "\n",
    "tab = tab.drop(columns=[\"Erreurs sortantes (Volume)(o)\"])\n",
    "tab = tab.drop(columns=[\"Erreurs sortantes (Débit)(o/s)\"])\n",
    "\n",
    "tab = tab.drop(columns=[\"Sortants rejetés (Volume)(o)\"])\n",
    "tab = tab.drop(columns=[\"Sortants rejetés (Débit)(o/s)\"])\n",
    "\n",
    "tab = tab.drop(columns=[\"Protocoles inconnus entrants (Volume)(o)\"])\n",
    "tab = tab.drop(columns=[\"Protocoles inconnus entrants (Débit)(o/s)\"])\n",
    "\n",
    "tab = tab.drop(columns=[\"Temps mort reseau(%)\"])"
   ],
   "outputs": [],
   "execution_count": null
  },
  {
   "cell_type": "markdown",
   "id": "cdc51f83-e3f4-469b-8641-15584cb50815",
   "metadata": {},
   "source": [
    "### Enregistrement du nouveau dataframe dans un nouveau csv"
   ]
  },
  {
   "cell_type": "code",
   "id": "ae2bf3b3-52cf-404c-9e7e-11569c2cd218",
   "metadata": {},
   "source": [
    "#### ATTENTION au path et nom de fichier\n",
    "tab.to_csv(\"../data/logServer/filtered/myreprot_reseau_filtered.csv\", index=False, encoding='utf-8')"
   ],
   "outputs": [],
   "execution_count": null
  },
  {
   "cell_type": "code",
   "id": "83caf7e0-25bf-49b9-bdd4-edc8c5103ffd",
   "metadata": {},
   "source": [],
   "outputs": [],
   "execution_count": null
  },
  {
   "cell_type": "code",
   "id": "a686bf6f-4227-4e21-945e-d505b7756475",
   "metadata": {},
   "source": [],
   "outputs": [],
   "execution_count": null
  },
  {
   "cell_type": "code",
   "id": "ae6a5cb0-40bc-48dc-8e48-b708f5c19216",
   "metadata": {},
   "source": [],
   "outputs": [],
   "execution_count": null
  },
  {
   "cell_type": "code",
   "id": "8bbb1922-ce1c-4fa8-85f2-84d4a15f8255",
   "metadata": {},
   "source": [],
   "outputs": [],
   "execution_count": null
  },
  {
   "cell_type": "code",
   "id": "4ee32847-4731-4bf3-85b6-933e50f2179a",
   "metadata": {},
   "source": [],
   "outputs": [],
   "execution_count": null
  },
  {
   "cell_type": "code",
   "id": "deb81453-0ba6-4ad3-b996-11412e3883b9",
   "metadata": {},
   "source": [],
   "outputs": [],
   "execution_count": null
  },
  {
   "cell_type": "code",
   "id": "acd18377-1723-4a11-baf6-8e22d45cae4c",
   "metadata": {},
   "source": [],
   "outputs": [],
   "execution_count": null
  }
 ],
 "metadata": {
  "kernelspec": {
   "display_name": "Python 3 (ipykernel)",
   "language": "python",
   "name": "python3"
  },
  "language_info": {
   "codemirror_mode": {
    "name": "ipython",
    "version": 3
   },
   "file_extension": ".py",
   "mimetype": "text/x-python",
   "name": "python",
   "nbconvert_exporter": "python",
   "pygments_lexer": "ipython3",
   "version": "3.12.2"
  }
 },
 "nbformat": 4,
 "nbformat_minor": 5
}
