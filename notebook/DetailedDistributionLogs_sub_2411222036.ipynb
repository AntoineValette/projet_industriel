{
 "cells": [
  {
   "cell_type": "markdown",
   "metadata": {},
   "source": [
    "# Exploration des données des logs de distribution"
   ]
  },
  {
   "cell_type": "code",
   "execution_count": 1,
   "metadata": {},
   "outputs": [],
   "source": [
    "import matplotlib.pyplot as plt\n",
    "import pandas as pd\n",
    "import seaborn as sns"
   ]
  },
  {
   "cell_type": "code",
   "execution_count": 2,
   "metadata": {},
   "outputs": [
    {
     "name": "stdout",
     "output_type": "stream",
     "text": [
      "       Id                  DatetimeLog          Login          FirstName  \\\n",
      "0  508854  2024-09-10 03:01:59.7179654   Login_sub_75  FirstName_sub_320   \n",
      "1  508855  2024-09-10 04:17:05.8834169  Login_sub_319   FirstName_sub_61   \n",
      "2  508856  2024-09-10 04:17:31.7489801  Login_sub_197   FirstName_sub_91   \n",
      "3  508857  2024-09-10 04:17:31.7489867  Login_sub_319   FirstName_sub_61   \n",
      "4  508858  2024-09-10 04:18:18.9680921  Login_sub_197   FirstName_sub_91   \n",
      "\n",
      "           LastName                                     DistributionId  \\\n",
      "0  LastName_sub_546  Distribution_62504cc0-a240-41f6-92d7-2db5a130032f   \n",
      "1  LastName_sub_163  Distribution_96292402-819b-4849-860e-fa41269655ca   \n",
      "2  LastName_sub_207  Distribution_3a4e69d4-5c17-4c77-af81-96583336b81c   \n",
      "3  LastName_sub_163  Distribution_3a4e69d4-5c17-4c77-af81-96583336b81c   \n",
      "4  LastName_sub_207  Distribution_a43aecb3-0728-48aa-a2a2-b1cc9f4d3c3f   \n",
      "\n",
      "           DistributionName  IsError              ScheduleId  \\\n",
      "0       Tableau des retours        0  ETLPROGRAMMATIONWQ0FX3   \n",
      "1            Info PRIMFORCE        0  ETLPROGRAMMATIONWCLOA6   \n",
      "2     Anomalies MyParc Page        0  ETLPROGRAMMATIONWCLOA6   \n",
      "3     Anomalies MyParc Page        0  ETLPROGRAMMATIONWCLOA6   \n",
      "4  Anomalies v2 MyParc Page        0  ETLPROGRAMMATIONWCLOA6   \n",
      "\n",
      "                                        ScheduleName  \\\n",
      "0                     Messenger Quotidien Lun-Dim 3h   \n",
      "1  ETL + Messenger Quotidien Lun-Dim vers Serveur...   \n",
      "2  ETL + Messenger Quotidien Lun-Dim vers Serveur...   \n",
      "3  ETL + Messenger Quotidien Lun-Dim vers Serveur...   \n",
      "4  ETL + Messenger Quotidien Lun-Dim vers Serveur...   \n",
      "\n",
      "                          ExecutionGuid  \n",
      "0  FC96BBA5-F84E-45FF-BB0F-5285992DCA74  \n",
      "1  68CF8FEB-9393-4116-AD5F-3D39DA4032A6  \n",
      "2  68CF8FEB-9393-4116-AD5F-3D39DA4032A6  \n",
      "3  68CF8FEB-9393-4116-AD5F-3D39DA4032A6  \n",
      "4  68CF8FEB-9393-4116-AD5F-3D39DA4032A6  \n"
     ]
    }
   ],
   "source": [
    "# Lire un fichier Parquet\n",
    "df = pd.read_parquet('../data/logParquet/DetailedDistributionLogs_sub_2411222036.parquet')\n",
    "\n",
    "# Afficher les premières lignes\n",
    "print(df.head())"
   ]
  },
  {
   "cell_type": "code",
   "execution_count": 3,
   "metadata": {},
   "outputs": [
    {
     "name": "stdout",
     "output_type": "stream",
     "text": [
      "Nombre de login différents : 354\n"
     ]
    }
   ],
   "source": [
    "n_unique_login = df['Login'].nunique()\n",
    "print(f\"Nombre de login différents : {n_unique_login}\")"
   ]
  },
  {
   "cell_type": "code",
   "execution_count": null,
   "metadata": {},
   "outputs": [],
   "source": [
    "n_unique_distrib_name = df['DistributionName'].nunique()\n",
    "print(f\"Nombre de login différents : {n_unique_login}\")n_unique_distrib_name"
   ]
  }
 ],
 "metadata": {
  "kernelspec": {
   "display_name": "DORenv",
   "language": "python",
   "name": "python3"
  },
  "language_info": {
   "codemirror_mode": {
    "name": "ipython",
    "version": 3
   },
   "file_extension": ".py",
   "mimetype": "text/x-python",
   "name": "python",
   "nbconvert_exporter": "python",
   "pygments_lexer": "ipython3",
   "version": "3.13.1"
  }
 },
 "nbformat": 4,
 "nbformat_minor": 2
}
