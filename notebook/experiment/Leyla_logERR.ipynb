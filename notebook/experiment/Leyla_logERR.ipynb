{
 "cells": [
  {
   "cell_type": "code",
   "metadata": {
    "id": "Z7fikY3Rvdbn"
   },
   "source": [
    "\n",
    "\n",
    "\n"
   ],
   "outputs": [],
   "execution_count": null
  },
  {
   "cell_type": "code",
   "metadata": {
    "id": "UCte6XEYwOgC"
   },
   "source": [
    "import pandas as pd\n",
    "import plotly.express as px"
   ],
   "outputs": [],
   "execution_count": null
  },
  {
   "cell_type": "code",
   "metadata": {
    "colab": {
     "base_uri": "https://localhost:8080/"
    },
    "id": "Vlt-VdMTwOu1",
    "outputId": "287e798a-fae7-4f39-cdd4-ed1efebb87ba"
   },
   "source": "df_err_data = pd.read_csv('~/home/3.cours/centraleSupelec/code/smartETL-temp/data/core/241016_LogETLError.csv', sep=';',dtype={'Program_Id': str, 'Schedules_Id': str, 'Schedules_Name': str})",
   "outputs": [],
   "execution_count": null
  },
  {
   "cell_type": "code",
   "metadata": {},
   "source": [],
   "outputs": [],
   "execution_count": null
  },
  {
   "cell_type": "code",
   "metadata": {
    "colab": {
     "base_uri": "https://localhost:8080/",
     "height": 389
    },
    "id": "ciEki8WKwyst",
    "outputId": "646d6a9e-061d-4605-96b6-d661f2feaab5"
   },
   "source": [
    "df_err_data.head(3)"
   ],
   "outputs": [],
   "execution_count": null
  },
  {
   "cell_type": "code",
   "metadata": {
    "colab": {
     "base_uri": "https://localhost:8080/"
    },
    "id": "K3S3I6RCyPwQ",
    "outputId": "40b98590-d3b6-47af-f3b6-e2aa0e7fb538"
   },
   "source": [
    " df_err_data.shape"
   ],
   "outputs": [],
   "execution_count": null
  },
  {
   "cell_type": "code",
   "metadata": {
    "id": "6kotVaNSyiMM"
   },
   "source": [
    "#df_err_data.info()"
   ],
   "outputs": [],
   "execution_count": null
  },
  {
   "cell_type": "code",
   "metadata": {
    "colab": {
     "base_uri": "https://localhost:8080/"
    },
    "id": "mGH0k7ZjzMae",
    "outputId": "320b76c7-85f6-486e-e48c-583744e65cb5"
   },
   "source": [
    "print(df_err_data.isnull().sum())"
   ],
   "outputs": [],
   "execution_count": null
  },
  {
   "cell_type": "code",
   "metadata": {
    "colab": {
     "base_uri": "https://localhost:8080/"
    },
    "id": "SpweqsU_zhAm",
    "outputId": "e513d75f-296b-467c-c26f-6881eb828161"
   },
   "source": [
    "modalites = {}\n",
    "\n",
    "for col in df_err_data.columns:\n",
    "    modalites[col] = df_err_data[col].drop_duplicates().tolist()  # ou df[col].unique().tolist()\n",
    "\n",
    "for colonne, valeurs in modalites.items():\n",
    "    print(f\"Modalités de la colonne '{colonne}': {valeurs}\")"
   ],
   "outputs": [],
   "execution_count": null
  },
  {
   "cell_type": "code",
   "metadata": {
    "colab": {
     "base_uri": "https://localhost:8080/",
     "height": 1000
    },
    "id": "u4VCa1YX4iiJ",
    "outputId": "d9796929-855b-4ee1-fe4b-8267d0b1a82c"
   },
   "source": [
    "erreurs_grouped"
   ],
   "outputs": [],
   "execution_count": null
  },
  {
   "cell_type": "code",
   "metadata": {
    "colab": {
     "background_save": true
    },
    "id": "OinKTnXF7GR0"
   },
   "source": [
    "#erreurs_grouped.index"
   ],
   "outputs": [],
   "execution_count": null
  },
  {
   "cell_type": "code",
   "metadata": {
    "id": "zznRElf0_bt0"
   },
   "source": [
    "grouped_df_reset = erreurs_grouped.reset_index()"
   ],
   "outputs": [],
   "execution_count": null
  },
  {
   "cell_type": "code",
   "metadata": {
    "colab": {
     "base_uri": "https://localhost:8080/",
     "height": 1000
    },
    "id": "bxRwmo1q_haz",
    "outputId": "54ecd39b-941a-40e2-879b-24cfc6c4bea6"
   },
   "source": [
    "grouped_df_reset"
   ],
   "outputs": [],
   "execution_count": null
  },
  {
   "cell_type": "code",
   "metadata": {
    "id": "r5bTZnqPAzEJ"
   },
   "source": [
    "df_melted = pd.melt(grouped_df_reset, id_vars=[\"Date\"], value_vars=[\"Erreur\", \"Problème\"],\n",
    "                    var_name=\"Type\", value_name=\"Valeur\")"
   ],
   "outputs": [],
   "execution_count": null
  },
  {
   "cell_type": "code",
   "metadata": {
    "colab": {
     "base_uri": "https://localhost:8080/",
     "height": 424
    },
    "id": "DVUYW6e4BIaX",
    "outputId": "7c15bb59-d636-49fd-d92a-943fd30d5f91"
   },
   "source": [
    "df_melted"
   ],
   "outputs": [],
   "execution_count": null
  },
  {
   "cell_type": "code",
   "metadata": {
    "colab": {
     "base_uri": "https://localhost:8080/",
     "height": 542
    },
    "id": "_k954JEl4i6L",
    "outputId": "50933caf-5dbb-4a59-c005-18e0adae344c"
   },
   "source": [
    "# Convertir les colonnes en types appropriés\n",
    "df_melted[\"Date\"] = pd.to_datetime(df_melted[\"Date\"])\n",
    "\n",
    "# Créer un graphique interactif avec Plotly Express\n",
    "fig = px.line(\n",
    "    df_melted,\n",
    "    x=\"Date\",\n",
    "    y=\"Valeur\",\n",
    "    color=\"Type\",  # Trace une courbe pour chaque modalité\n",
    "    title=\"Évolution des erreurs et des problèmes dans le temps\",\n",
    "    labels={\"Valeur\": \"Nombre\", \"Date\": \"Date\", \"Type\": \"Type d'événement\"},\n",
    ")\n",
    "\n",
    "# Mettre en forme le graphique\n",
    "fig.update_layout(\n",
    "    xaxis_title=\"Date\",\n",
    "    yaxis_title=\"Nombre\",\n",
    "    legend_title=\"Type\",\n",
    "    hovermode=\"x unified\",\n",
    ")\n",
    "\n",
    "# Afficher le graphique\n",
    "fig.show()"
   ],
   "outputs": [],
   "execution_count": null
  },
  {
   "cell_type": "code",
   "metadata": {
    "colab": {
     "base_uri": "https://localhost:8080/",
     "height": 677
    },
    "id": "pK_XhSi6_BXv",
    "outputId": "36feb987-3a87-485d-e350-f94005b0f0f4"
   },
   "source": [
    "df"
   ],
   "outputs": [],
   "execution_count": null
  },
  {
   "cell_type": "code",
   "metadata": {
    "id": "299_oaE86loq"
   },
   "source": [],
   "outputs": [],
   "execution_count": null
  }
 ],
 "metadata": {
  "colab": {
   "provenance": []
  },
  "kernelspec": {
   "display_name": "Python 3 (ipykernel)",
   "language": "python",
   "name": "python3"
  },
  "language_info": {
   "codemirror_mode": {
    "name": "ipython",
    "version": 3
   },
   "file_extension": ".py",
   "mimetype": "text/x-python",
   "name": "python",
   "nbconvert_exporter": "python",
   "pygments_lexer": "ipython3",
   "version": "3.12.2"
  }
 },
 "nbformat": 4,
 "nbformat_minor": 4
}
