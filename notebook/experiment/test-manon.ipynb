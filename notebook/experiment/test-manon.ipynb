{
 "cells": [
  {
   "cell_type": "code",
   "id": "initial_id",
   "metadata": {
    "collapsed": true
   },
   "source": [
    "import pandas as pd\n",
    "from sqlalchemy import create_engine\n",
    "from core.settings import settings\n",
    "\n",
    "# Étape 1 : Extraction des données\n",
    "def extract_data(file_path):\n",
    "    data = pd.read_csv(file_path, sep=',')\n",
    "    return data\n",
    "\n",
    "# Étape 2 : Transformation des données\n",
    "def transform_data(data):\n",
    "    data.columns = (data.columns.str.strip().str.lower().str.replace(' ', '_'))\n",
    "    data.columns = (data.columns.str.replace(':', ''))\n",
    "    data.columns = (data.columns.str.replace('(raw)', '_raw'))\n",
    "\n",
    "    # data = data.dropna()\n",
    "    return data\n",
    "\n",
    "name = \"myreport_espace_disque\"\n",
    "table_name = f\"{name}_raw\"\n",
    "file_path = f'../../data/logServer/{name}_full.csv'\n",
    "db_connection_string = settings.POSTGRES_URL\n",
    "\n",
    "data = extract_data(file_path)\n",
    "transformed_data = transform_data(data)\n",
    "\n",
    "transformed_data.columns\n",
    "\n"
   ],
   "outputs": [],
   "execution_count": null
  },
  {
   "metadata": {},
   "cell_type": "code",
   "source": "data",
   "id": "57b82c6b1a18f3a",
   "outputs": [],
   "execution_count": null
  },
  {
   "metadata": {},
   "cell_type": "code",
   "source": [
    "# Étape 3 : Chargement des données\n",
    "def load_data(data, db_connection_string, table_name):\n",
    "    engine = create_engine(db_connection_string)\n",
    "    data.to_sql(table_name, engine, if_exists='replace', index=False)\n",
    "\n",
    "load_data(transformed_data, db_connection_string, table_name)\n"
   ],
   "id": "26023d57c557505a",
   "outputs": [],
   "execution_count": null
  }
 ],
 "metadata": {
  "kernelspec": {
   "display_name": "Python 3",
   "language": "python",
   "name": "python3"
  },
  "language_info": {
   "codemirror_mode": {
    "name": "ipython",
    "version": 2
   },
   "file_extension": ".py",
   "mimetype": "text/x-python",
   "name": "python",
   "nbconvert_exporter": "python",
   "pygments_lexer": "ipython2",
   "version": "2.7.6"
  }
 },
 "nbformat": 4,
 "nbformat_minor": 5
}
