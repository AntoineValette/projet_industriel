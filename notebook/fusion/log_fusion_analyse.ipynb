{
 "cells": [
  {
   "cell_type": "code",
   "metadata": {},
   "source": [
    "import pandas as pd"
   ],
   "outputs": [],
   "execution_count": null
  },
  {
   "cell_type": "code",
   "metadata": {},
   "source": [
    "df = pd.read_csv('../data/dataset_LogETL_LogServer.csv')"
   ],
   "outputs": [],
   "execution_count": null
  },
  {
   "cell_type": "code",
   "metadata": {},
   "source": [
    "df.info()"
   ],
   "outputs": [],
   "execution_count": null
  },
  {
   "cell_type": "code",
   "metadata": {},
   "source": [
    "df['Date et heure'] = pd.to_datetime(df['Date et heure'])\n",
    "\n",
    "df['Heure'] = df['Date et heure'].dt.hour"
   ],
   "outputs": [],
   "execution_count": null
  },
  {
   "cell_type": "code",
   "metadata": {},
   "source": [
    "df['Jour semaine'] = df['Date et heure'].dt.day_of_week"
   ],
   "outputs": [],
   "execution_count": null
  },
  {
   "cell_type": "code",
   "metadata": {},
   "source": [
    "df[['Date et heure', 'Heure', 'Jour semaine']]"
   ],
   "outputs": [],
   "execution_count": null
  },
  {
   "cell_type": "code",
   "metadata": {},
   "source": [
    "df[df['Total_Errors'] > 5000]"
   ],
   "outputs": [],
   "execution_count": null
  },
  {
   "cell_type": "code",
   "metadata": {},
   "source": [
    "df_filtre = df[(df['Jour semaine'] == 3) & (df['Heure'] == 11) & (df['Date et heure'] != \"2024-08-29 11:00:00\")]"
   ],
   "outputs": [],
   "execution_count": null
  },
  {
   "cell_type": "code",
   "metadata": {},
   "source": [
    "ligne_exclue = df[df['Date et heure'] == \"2024-08-29 11:00:00\"][df.columns[39:97]]"
   ],
   "outputs": [],
   "execution_count": null
  },
  {
   "cell_type": "code",
   "metadata": {},
   "source": [
    "# Calcul de la moyenne par colonne (colonnes 39 à 96)\n",
    "moyenne_par_colonne = df_filtre.iloc[:, 39:97].mean()"
   ],
   "outputs": [],
   "execution_count": null
  },
  {
   "cell_type": "code",
   "metadata": {},
   "source": [
    "ligne_exclue"
   ],
   "outputs": [],
   "execution_count": null
  },
  {
   "cell_type": "code",
   "metadata": {},
   "source": [
    "moyenne_par_colonne"
   ],
   "outputs": [],
   "execution_count": null
  },
  {
   "cell_type": "code",
   "metadata": {},
   "source": [
    "df_resultat = pd.DataFrame({\n",
    "    \"Moyenne\": moyenne_par_colonne,\n",
    "    \"Valeur_Ligne_Exclue\": ligne_exclue.iloc[0] if not ligne_exclue.empty else None\n",
    "})\n"
   ],
   "outputs": [],
   "execution_count": null
  },
  {
   "cell_type": "code",
   "metadata": {},
   "source": [
    "df_resultat['Différence (b - a)'] = df_resultat['Valeur_Ligne_Exclue'] - df_resultat['Moyenne']"
   ],
   "outputs": [],
   "execution_count": null
  },
  {
   "cell_type": "code",
   "metadata": {},
   "source": [
    "df_resultat['Différence %'] = (df_resultat['Valeur_Ligne_Exclue'] - df_resultat['Moyenne']) / df_resultat['Moyenne'] * 100"
   ],
   "outputs": [],
   "execution_count": null
  },
  {
   "cell_type": "code",
   "metadata": {},
   "source": [
    "df_resultat[\"Différence %\"] = df_resultat[\"Différence %\"].apply(lambda x: f\"{x:.2f}%\")"
   ],
   "outputs": [],
   "execution_count": null
  },
  {
   "cell_type": "code",
   "metadata": {},
   "source": [
    "df_resultat"
   ],
   "outputs": [],
   "execution_count": null
  }
 ],
 "metadata": {
  "kernelspec": {
   "display_name": "DORenv",
   "language": "python",
   "name": "python3"
  },
  "language_info": {
   "codemirror_mode": {
    "name": "ipython",
    "version": 3
   },
   "file_extension": ".py",
   "mimetype": "text/x-python",
   "name": "python",
   "nbconvert_exporter": "python",
   "pygments_lexer": "ipython3",
   "version": "3.13.1"
  }
 },
 "nbformat": 4,
 "nbformat_minor": 2
}
