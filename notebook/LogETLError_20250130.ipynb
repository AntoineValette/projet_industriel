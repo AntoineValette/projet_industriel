{
 "cells": [
  {
   "cell_type": "code",
   "metadata": {},
   "source": [
    "import matplotlib.pyplot as plt"
   ],
   "outputs": [],
   "execution_count": null
  },
  {
   "cell_type": "code",
   "metadata": {},
   "source": [
    "import pandas as pd\n",
    "\n",
    "# Lecture par morceaux de 1000 lignes\n",
    "df = pd.read_csv(\"/Users/guillaumeramirez/OneDrive - CentraleSupelec/Smart ETL - DOR/data/core/LogETLError_20250130.csv\", sep=\";\")\n",
    "\n",
    "df.head()"
   ],
   "outputs": [],
   "execution_count": null
  },
  {
   "cell_type": "code",
   "metadata": {},
   "source": [
    "print(df.shape)"
   ],
   "outputs": [],
   "execution_count": null
  },
  {
   "cell_type": "code",
   "metadata": {},
   "source": [
    "print(df.tail(10))"
   ],
   "outputs": [],
   "execution_count": null
  },
  {
   "cell_type": "code",
   "metadata": {},
   "source": [
    "df['Date']=pd.to_datetime(df['Date'])"
   ],
   "outputs": [],
   "execution_count": null
  },
  {
   "cell_type": "code",
   "metadata": {},
   "source": [
    "min_date = df[\"Date\"].min()\n",
    "max_date = df[\"Date\"].max()\n",
    "\n",
    "print(\"Date la plus ancienne :\", min_date)\n",
    "print(\"Date la plus récente :\", max_date)"
   ],
   "outputs": [],
   "execution_count": null
  },
  {
   "cell_type": "code",
   "metadata": {},
   "source": [
    "df['Message'].nunique()"
   ],
   "outputs": [],
   "execution_count": null
  },
  {
   "cell_type": "code",
   "metadata": {},
   "source": [
    "# Compter les occurrences des DashboardId\n",
    "df_message = df['Message'].value_counts()\n",
    "\n",
    "# Sélectionner les 15 plus fréquents\n",
    "df_message = df_message.head(15)\n",
    "\n",
    "plt.figure(figsize=(12, 6))\n",
    "df_message.plot(kind='bar', color='skyblue', edgecolor='black')\n",
    "plt.xticks(rotation=90)\n",
    "plt.xlabel(\"Message\")\n",
    "plt.ylabel(\"Fréquence\")\n",
    "plt.title(\"Top 15 des Messages les plus fréquents\")\n",
    "plt.show()"
   ],
   "outputs": [],
   "execution_count": null
  },
  {
   "cell_type": "code",
   "metadata": {},
   "source": [],
   "outputs": [],
   "execution_count": null
  }
 ],
 "metadata": {
  "kernelspec": {
   "display_name": "DORenv",
   "language": "python",
   "name": "python3"
  },
  "language_info": {
   "codemirror_mode": {
    "name": "ipython",
    "version": 3
   },
   "file_extension": ".py",
   "mimetype": "text/x-python",
   "name": "python",
   "nbconvert_exporter": "python",
   "pygments_lexer": "ipython3",
   "version": "3.13.1"
  }
 },
 "nbformat": 4,
 "nbformat_minor": 2
}
