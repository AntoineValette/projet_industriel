{
 "cells": [
  {
   "cell_type": "code",
   "metadata": {},
   "source": [
    "import pandas as pd"
   ],
   "outputs": [],
   "execution_count": null
  },
  {
   "cell_type": "code",
   "metadata": {},
   "source": [
    "from sklearn.model_selection import train_test_split\n",
    "from sklearn.linear_model import LinearRegression"
   ],
   "outputs": [],
   "execution_count": null
  },
  {
   "cell_type": "code",
   "metadata": {},
   "source": [
    "import numpy as np"
   ],
   "outputs": [],
   "execution_count": null
  },
  {
   "cell_type": "code",
   "metadata": {},
   "source": [
    "df = pd.read_csv('../data/dataset_LogETL_LogServer.csv')"
   ],
   "outputs": [],
   "execution_count": null
  },
  {
   "cell_type": "code",
   "metadata": {},
   "source": [
    "df.head()"
   ],
   "outputs": [],
   "execution_count": null
  },
  {
   "cell_type": "code",
   "metadata": {},
   "source": [
    "df_etl_ope = df[df['nb_operations'] != 0]"
   ],
   "outputs": [],
   "execution_count": null
  },
  {
   "cell_type": "code",
   "metadata": {},
   "source": [
    "X = df_etl_ope.drop(columns=['nb_operations_error'])\n",
    "Y = df_etl_ope['nb_operations_error']"
   ],
   "outputs": [],
   "execution_count": null
  },
  {
   "cell_type": "code",
   "metadata": {},
   "source": [
    "#y_bins = np.digitize(Y, bins=[0, 1])\n",
    "#X_train, X_test, Y_train, Y_test = train_test_split(X, Y, test_size=0.25, stratify=y_bins, random_state=42)\n",
    "X_train_heure, X_test_heure, Y_train, Y_test = train_test_split(X, Y, test_size=0.25, random_state=29)"
   ],
   "outputs": [],
   "execution_count": null
  },
  {
   "cell_type": "code",
   "metadata": {},
   "source": [
    "heure_train = X_train_heure['Date et heure']\n",
    "heure_test = X_test_heure['Date et heure']\n",
    "X_train = X_train_heure.drop(columns='Date et heure')\n",
    "X_test = X_test_heure.drop(columns='Date et heure')"
   ],
   "outputs": [],
   "execution_count": null
  },
  {
   "cell_type": "code",
   "metadata": {},
   "source": [
    "X_train.shape"
   ],
   "outputs": [],
   "execution_count": null
  },
  {
   "cell_type": "code",
   "metadata": {},
   "source": [
    "from sklearn.ensemble import GradientBoostingRegressor\n",
    "\n",
    "model = GradientBoostingRegressor(loss=\"quantile\", alpha=0.95)  # Alpha proche de 1 pour bien prédire les pics\n",
    "model.fit(X_train, Y_train)\n",
    "y_pred = model.predict(X_test)"
   ],
   "outputs": [],
   "execution_count": null
  },
  {
   "cell_type": "code",
   "metadata": {},
   "source": [
    "#model = LinearRegression()\n",
    "\n",
    "#model.fit(X_train, Y_train)"
   ],
   "outputs": [],
   "execution_count": null
  },
  {
   "cell_type": "code",
   "metadata": {},
   "source": [
    "import matplotlib.pyplot as plt\n",
    "\n",
    "# Faire les prédictions\n",
    "y_pred = model.predict(X_train)\n",
    "\n",
    "# Construire un DataFrame avec les résultats\n",
    "df_results = pd.DataFrame({\n",
    "    'heure': heure_train,  # Réintégration des heures\n",
    "    'y_réel': Y_train,\n",
    "    'y_prédit': y_pred\n",
    "})\n",
    "\n",
    "# Trier par heure pour un affichage chronologique\n",
    "df_results = df_results.sort_values(by='heure')\n",
    "\n",
    "plt.figure(figsize=(12, 10))\n",
    "plt.scatter(df_results['heure'], df_results['y_réel'], label=\"Y réel\")\n",
    "plt.scatter(df_results['heure'], df_results['y_prédit'], label=\"Y prédit\")\n",
    "plt.xlabel(\"Heure\")\n",
    "plt.xticks([], [])\n",
    "plt.ylabel(\"Nombre d'erreurs ETL\")\n",
    "plt.legend()\n",
    "plt.xticks(rotation=45)\n",
    "plt.show()"
   ],
   "outputs": [],
   "execution_count": null
  },
  {
   "cell_type": "code",
   "metadata": {},
   "source": [
    "import matplotlib.pyplot as plt\n",
    "\n",
    "# Faire les prédictions\n",
    "y_pred = model.predict(X_test)\n",
    "\n",
    "# Construire un DataFrame avec les résultats\n",
    "df_results = pd.DataFrame({\n",
    "    'heure': heure_test,  # Réintégration des heures\n",
    "    'y_réel': Y_test,\n",
    "    'y_prédit': y_pred\n",
    "})\n",
    "\n",
    "# Trier par heure pour un affichage chronologique\n",
    "df_results = df_results.sort_values(by='heure')\n",
    "\n",
    "plt.figure(figsize=(12, 10))\n",
    "plt.scatter(df_results['heure'], df_results['y_réel'], label=\"Y réel\")\n",
    "plt.scatter(df_results['heure'], df_results['y_prédit'], label=\"Y prédit\")\n",
    "plt.xlabel(\"Heure\")\n",
    "plt.xticks([], [])\n",
    "plt.ylabel(\"Nombre d'erreurs ETL\")\n",
    "plt.legend()\n",
    "plt.xticks(rotation=45)\n",
    "plt.show()"
   ],
   "outputs": [],
   "execution_count": null
  },
  {
   "cell_type": "markdown",
   "metadata": {},
   "source": [
    "### Sans valeurs abérantes"
   ]
  },
  {
   "cell_type": "code",
   "metadata": {},
   "source": [
    "top_2_values = df_etl_ope['nb_operations_error'].nlargest(2).unique()\n",
    "print(top_2_values)"
   ],
   "outputs": [],
   "execution_count": null
  },
  {
   "cell_type": "code",
   "metadata": {},
   "source": [
    "df_etl_ope_filtered = df_etl_ope[df_etl_ope['nb_operations_error'] < 4200]"
   ],
   "outputs": [],
   "execution_count": null
  },
  {
   "cell_type": "code",
   "metadata": {},
   "source": [
    "top_2_values = df_etl_ope_filtered['nb_operations_error'].nlargest(2).unique()\n",
    "print(top_2_values)"
   ],
   "outputs": [],
   "execution_count": null
  },
  {
   "cell_type": "code",
   "metadata": {},
   "source": [
    "X = df_etl_ope_filtered.drop(columns=['nb_operations_error'])\n",
    "Y = df_etl_ope_filtered['nb_operations_error']"
   ],
   "outputs": [],
   "execution_count": null
  },
  {
   "cell_type": "code",
   "metadata": {},
   "source": [
    "X_train_heure, X_test_heure, Y_train, Y_test = train_test_split(X, Y, test_size=0.25, random_state=29)"
   ],
   "outputs": [],
   "execution_count": null
  },
  {
   "cell_type": "code",
   "metadata": {},
   "source": [
    "heure_train = X_train_heure['Date et heure']\n",
    "heure_test = X_test_heure['Date et heure']\n",
    "X_train = X_train_heure.drop(columns='Date et heure')\n",
    "X_test = X_test_heure.drop(columns='Date et heure')"
   ],
   "outputs": [],
   "execution_count": null
  },
  {
   "cell_type": "code",
   "metadata": {},
   "source": [
    "model = GradientBoostingRegressor(loss=\"quantile\", alpha=0.95)  # Alpha proche de 1 pour bien prédire les pics\n",
    "model.fit(X_train, Y_train)\n",
    "y_pred = model.predict(X_test)"
   ],
   "outputs": [],
   "execution_count": null
  },
  {
   "cell_type": "code",
   "metadata": {},
   "source": [
    "# Faire les prédictions\n",
    "y_pred = model.predict(X_train)\n",
    "\n",
    "# Construire un DataFrame avec les résultats\n",
    "df_results = pd.DataFrame({\n",
    "    'heure': heure_train,  # Réintégration des heures\n",
    "    'y_réel': Y_train,\n",
    "    'y_prédit': y_pred\n",
    "})\n",
    "\n",
    "# Trier par heure pour un affichage chronologique\n",
    "df_results = df_results.sort_values(by='heure')\n",
    "\n",
    "plt.figure(figsize=(12, 10))\n",
    "plt.scatter(df_results['heure'], df_results['y_réel'], label=\"Y réel\")\n",
    "plt.scatter(df_results['heure'], df_results['y_prédit'], label=\"Y prédit\")\n",
    "plt.xlabel(\"Heure\")\n",
    "plt.xticks([], [])\n",
    "plt.ylabel(\"Nombre d'erreurs ETL\")\n",
    "plt.legend()\n",
    "plt.xticks(rotation=45)\n",
    "plt.show()"
   ],
   "outputs": [],
   "execution_count": null
  },
  {
   "cell_type": "code",
   "metadata": {},
   "source": [
    "# Faire les prédictions\n",
    "y_pred = model.predict(X_test)\n",
    "\n",
    "# Construire un DataFrame avec les résultats\n",
    "df_results = pd.DataFrame({\n",
    "    'heure': heure_test,  # Réintégration des heures\n",
    "    'y_réel': Y_test,\n",
    "    'y_prédit': y_pred\n",
    "})\n",
    "\n",
    "# Trier par heure pour un affichage chronologique\n",
    "df_results = df_results.sort_values(by='heure')\n",
    "\n",
    "plt.figure(figsize=(12, 10))\n",
    "plt.scatter(df_results['heure'], df_results['y_réel'], label=\"Y réel\")\n",
    "plt.scatter(df_results['heure'], df_results['y_prédit'], label=\"Y prédit\")\n",
    "plt.xlabel(\"Heure\")\n",
    "plt.xticks([], [])\n",
    "plt.ylabel(\"Nombre d'erreurs ETL\")\n",
    "plt.legend()\n",
    "plt.xticks(rotation=45)\n",
    "plt.show()"
   ],
   "outputs": [],
   "execution_count": null
  }
 ],
 "metadata": {
  "kernelspec": {
   "display_name": "DORenv",
   "language": "python",
   "name": "python3"
  },
  "language_info": {
   "codemirror_mode": {
    "name": "ipython",
    "version": 3
   },
   "file_extension": ".py",
   "mimetype": "text/x-python",
   "name": "python",
   "nbconvert_exporter": "python",
   "pygments_lexer": "ipython3",
   "version": "3.13.1"
  }
 },
 "nbformat": 4,
 "nbformat_minor": 2
}
