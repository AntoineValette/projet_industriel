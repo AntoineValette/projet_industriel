{
 "cells": [
  {
   "cell_type": "markdown",
   "id": "113b4e1b-d52e-4045-b1d1-d886118f0a3c",
   "metadata": {},
   "source": [
    "# Imports des librairies et transformation des fichiers csv en dataframes"
   ]
  },
  {
   "cell_type": "code",
   "id": "bfafcddc-43c5-4f41-b141-322509721f19",
   "metadata": {},
   "source": [
    "import matplotlib.pyplot as plt\n",
    "import pandas as pd  \n",
    "import numpy as np"
   ],
   "outputs": [],
   "execution_count": null
  },
  {
   "cell_type": "code",
   "id": "894b38fb-1027-46a4-9455-31f3563231f3",
   "metadata": {},
   "source": [
    "logs_err = pd.read_csv('../Data/241016_LogETLError.csv', sep=';', dtype={'Program_Id': str, 'Schedules_Id': str, 'Schedules_Name': str})\n",
    "logs = pd.read_csv('../Data/241016_LogETL.csv',sep=';')"
   ],
   "outputs": [],
   "execution_count": null
  },
  {
   "cell_type": "markdown",
   "id": "a1742d39-b05b-434c-a20b-bf34070d7371",
   "metadata": {},
   "source": [
    "# Visualisation des logs avec ERREUR"
   ]
  },
  {
   "cell_type": "markdown",
   "id": "f50f9757-b3a3-460a-90c6-fc5372e551e9",
   "metadata": {},
   "source": [
    "### Une première vue avec un scatter graph, pas la visualisation la plus adaptée"
   ]
  },
  {
   "cell_type": "markdown",
   "id": "72f24f6d-23b5-4e60-906c-42e853b63aad",
   "metadata": {},
   "source": [
    "J'ajoute des filtres pour abaisser l'échelle des ordonnées. En effet, le 2020/08/29 il y a eu 197k erreurs. Le 2024/10/03 il y en a 4k. "
   ]
  },
  {
   "cell_type": "code",
   "id": "a285c856-1576-468a-8539-a911b078dac6",
   "metadata": {},
   "source": [
    "# Filtrer pour enlever le point du 2024-08-29 et 2024-10-03 pour Program_Name \"ETL sur ordre\"\n",
    "logs_err = logs_err[~((logs_err['Date'] == '2024-08-29') & (logs_err['Program_Name'] == 'ETL sur ordre'))]\n",
    "logs_err = logs_err[~((logs_err['Date'] == '2024-10-03') & (logs_err['Program_Name'] == 'ETL sur ordre'))]\n",
    "\n",
    "# Compter le nombre d'occurrences de chaque Program_Name par date\n",
    "counts = logs_err.groupby(['Date', 'Program_Name'])['Date'].count().reset_index(name='Count')\n",
    "\n",
    "# Merger avec dfDate\n",
    "\n",
    "\n",
    "# Tracer le nombre de Program_Name en fonction du temps\n",
    "plt.figure(figsize=(12, 6))\n",
    "for program_name in counts['Program_Name'].unique():\n",
    "    subset = counts[counts['Program_Name'] == program_name]\n",
    "    plt.plot(subset['Date'], subset['Count'], marker='o', label=program_name)\n",
    "\n",
    "plt.title(\"Nombre d'erreurs par Program Name en fonction du temps\")\n",
    "plt.xlabel(\"Date\")\n",
    "plt.ylabel(\"Nombre d'occurrences\")\n",
    "plt.xticks(rotation=45)  # Pour que les dates soient lisibles\n",
    "plt.legend(title='Program Name')\n",
    "plt.grid(True)\n",
    "plt.tight_layout()  # Ajuste les marges\n",
    "plt.show()"
   ],
   "outputs": [],
   "execution_count": null
  },
  {
   "cell_type": "markdown",
   "id": "e7bdb57b-9f64-4093-9b5a-3b68721f6042",
   "metadata": {},
   "source": [
    "### Une deuxième vue avec un bar graph, plus appropriée"
   ]
  },
  {
   "cell_type": "code",
   "id": "d454e442-b718-4374-ab7d-7b118c6f965d",
   "metadata": {},
   "source": [
    "# Filtrer pour enlever le point du 2024-08-29 et 2024-10-03 pour Program_Name \"ETL sur ordre\"\n",
    "logs_err = logs_err[~((logs_err['Date'] == '2024-08-29') & (logs_err['Program_Name'] == 'ETL sur ordre'))]\n",
    "logs_err = logs_err[~((logs_err['Date'] == '2024-10-03') & (logs_err['Program_Name'] == 'ETL sur ordre'))]\n",
    "\n",
    "# Compter le nombre d'occurrences de chaque Program_Name par date\n",
    "counts = logs_err.groupby(['Date', 'Program_Name'])['Date'].count().reset_index(name='Count')\n",
    "\n",
    "# Créer un tableau pivot pour faciliter le traçage\n",
    "pivot_counts = counts.pivot(index='Date', columns='Program_Name', values='Count').fillna(0)\n",
    "\n",
    "# Tracer le nombre d'erreurs par Program_Name en fonction du temps avec des barres\n",
    "plt.figure(figsize=(12, 6))\n",
    "pivot_counts.plot(kind='bar', width=2.8, ax=plt.gca())\n",
    "\n",
    "# Réglages des axes\n",
    "plt.title(\"Nombre d'erreurs par Program Name en fonction du temps\")\n",
    "plt.xlabel(\"Date\")\n",
    "plt.ylabel(\"Nombre d'occurrences\")\n",
    "plt.xticks(rotation=45)  # Pour que les dates soient lisibles\n",
    "plt.legend(title='Program Name')\n",
    "plt.grid(axis='y')\n",
    "plt.tight_layout()  # Ajuste les marges\n",
    "plt.show()"
   ],
   "outputs": [],
   "execution_count": null
  },
  {
   "cell_type": "markdown",
   "id": "f00ec13b-c3e1-44de-b2bb-2914358a6341",
   "metadata": {},
   "source": [
    "Remaque : Il manque les dates pour lesquelles il n'y a pas eu d'erreur. Il faudrait merge avec un vecteur de toutes les dates possibles... "
   ]
  },
  {
   "cell_type": "markdown",
   "id": "e5c24af7-11a6-409a-bcf0-e5ca41badcd3",
   "metadata": {},
   "source": [
    "### Dans le détail, il y a seulement 610 logs erreurs si on ignore le 29/08/2024 et le 03/01/2024"
   ]
  },
  {
   "cell_type": "code",
   "id": "6e66dffe-e7d8-488c-afb7-97e65a7bea1c",
   "metadata": {},
   "source": [
    "# pour avoir le détail du nombre de lignes dans les logs erreur qui ne concernent pas le 29/08/2024 ou le \n",
    "print (len(logs_err['Date']))\n",
    "logs_err['Date'].value_counts()"
   ],
   "outputs": [],
   "execution_count": null
  },
  {
   "cell_type": "markdown",
   "id": "c2137717-8e1c-4ec7-ac07-24d079a49d1f",
   "metadata": {},
   "source": [
    "### On regarde le détail pour un ETL"
   ]
  },
  {
   "cell_type": "code",
   "id": "93af0c7a-d934-4a2b-bec5-8bb2d648b717",
   "metadata": {},
   "source": [
    "#Filtrer sur un ETL\n",
    "count_ETL=counts[(counts['Program_Name']=='ETL BEXT')]\n",
    "\n",
    "# Tracer un bar graph\n",
    "plt.figure(figsize=(12, 6))\n",
    "plt.bar(count_ETL['Date'], count_ETL['Count'], color='skyblue')\n",
    "\n",
    "# Ajouter des labels et un titre\n",
    "plt.title(\"Occurrences des logs erreurs du programme 'ETL BEXT' par date\")\n",
    "plt.xlabel(\"Date\")\n",
    "plt.ylabel(\"Nombre d'occurrences\")\n",
    "plt.xticks(rotation=45)  # Pour rendre les dates lisibles\n",
    "\n",
    "plt.tight_layout()  # Ajuste les marges pour une meilleure lisibilité\n",
    "plt.show()"
   ],
   "outputs": [],
   "execution_count": null
  },
  {
   "cell_type": "markdown",
   "id": "3c9ea68a-7972-41e4-9750-27cd3fa3798f",
   "metadata": {},
   "source": [
    "# Visualisation des logs"
   ]
  },
  {
   "cell_type": "markdown",
   "id": "50bd0bcf-7aa1-4534-a870-c7614e2ea821",
   "metadata": {},
   "source": [
    "### Une première vue avec un scatter graph, pas la visualisation la plus adaptée"
   ]
  },
  {
   "cell_type": "code",
   "id": "9a9ad791-92cb-41b1-9cbe-cefe513cbb4f",
   "metadata": {},
   "source": [
    "import matplotlib.pyplot as plt\n",
    "\n",
    "# Enlève les lignes où Date est NaN\n",
    "logs = logs.dropna(subset=['Date']) \n",
    "\n",
    "# Compter le nombre d'occurrences de chaque Program_Name par date\n",
    "counts = logs.groupby(['Date', 'Program_Name'])['Date'].count().reset_index(name='Count')\n",
    "\n",
    "# Tracer le nombre de Program_Name en fonction du temps\n",
    "plt.figure(figsize=(12, 6))\n",
    "for program_name in counts['Program_Name'].unique():\n",
    "    subset = counts[counts['Program_Name'] == program_name]\n",
    "    plt.plot(subset['Date'], subset['Count'], marker='', label=program_name)\n",
    "\n",
    "plt.title(\"Nombre d'execution sans erreur par Program Name en fonction du temps\")\n",
    "plt.xlabel(\"Date\")\n",
    "plt.ylabel(\"Nombre d'occurrences\")\n",
    "plt.xticks(rotation=45)  # Pour que les dates soient lisibles\n",
    "plt.legend(title='Program Name')\n",
    "plt.grid(False)\n",
    "#plt.tight_layout()  # Ajuste les marges\n",
    "plt.show()"
   ],
   "outputs": [],
   "execution_count": null
  },
  {
   "cell_type": "markdown",
   "id": "bdebdd75-67a9-4bc4-b283-51e020188fb9",
   "metadata": {},
   "source": [
    "### On regarde le détail pour un ETL"
   ]
  },
  {
   "cell_type": "code",
   "id": "c82051cc-cb1b-4743-bea2-b7e460f78cab",
   "metadata": {},
   "source": [
    "#Filtrer sur ETL\n",
    "count_ETL=counts[(counts['Program_Name']=='ETL Achats')]\n",
    "\n",
    "# Tracer un bar graph\n",
    "plt.figure(figsize=(12, 6))\n",
    "plt.bar(count_ETL['Date'], count_ETL['Count'], color='skyblue')\n",
    "\n",
    "# Ajouter des labels et un titre\n",
    "plt.title(\"Occurrences des logs du programme 'ETL Achats' par date\")\n",
    "plt.xlabel(\"Date\")\n",
    "plt.ylabel(\"Nombre d'occurrences\")\n",
    "plt.xticks(rotation=45)  # Pour rendre les dates lisibles\n",
    "\n",
    "plt.tight_layout()  # Ajuste les marges pour une meilleure lisibilité\n",
    "plt.show()"
   ],
   "outputs": [],
   "execution_count": null
  },
  {
   "cell_type": "markdown",
   "id": "85a21c2a-103e-408a-b7df-eda546f2489d",
   "metadata": {},
   "source": [
    "# Problème : on voit rien si on regarde tous les ETL ensemble. => On va les catégoriser par fréquence d'utilisation"
   ]
  },
  {
   "cell_type": "markdown",
   "id": "f09df613-364b-4e7f-a992-fcb67dcd62bd",
   "metadata": {},
   "source": [
    "Pour catégoriser, on va classer les Program_Name selon la moyenne quotidienne de leur count => ça revient à calculer la moyenne du nb d'execution quotidienne de chaque Program_Name"
   ]
  },
  {
   "cell_type": "markdown",
   "id": "d6a3760e-36f2-4138-a56f-147312244b86",
   "metadata": {},
   "source": [
    "Pour calculer cette moyenne, il faut refaire une table count qui prend 0 quand il n'y a pas de log pour un jour donné. On va donc faire un merge avec dfDateprog, une table qui prend toutes les combianisons de Date et Program Name possibles. "
   ]
  },
  {
   "cell_type": "code",
   "id": "d77fb36a-9992-441c-af14-8770fb759a95",
   "metadata": {},
   "source": [
    "# Extraire les dates et les program names et les mettre dans des vecteurs (dans des df)\n",
    "dfDate=pd.DataFrame({'Date':logs['Date'].unique()})\n",
    "dfProgramName=pd.DataFrame({'Program_Name':logs['Program_Name'].unique()})\n",
    "\n",
    "# Créer toutes les combinaisons possibles de Date et Program_Name => produit cartésien\n",
    "dfDateProg = dfDate.merge(dfProgramName, how='cross')\n",
    "print(dfDateProg)"
   ],
   "outputs": [],
   "execution_count": null
  },
  {
   "cell_type": "code",
   "id": "b05b894e-d1be-41fe-918b-2149746b896d",
   "metadata": {},
   "source": [
    "print(counts.sort_values(by='Count', ascending=False))"
   ],
   "outputs": [],
   "execution_count": null
  },
  {
   "cell_type": "code",
   "id": "744c9db2-d803-49de-b59a-fcf1a0d66d0c",
   "metadata": {},
   "source": [
    "# Fusion de count et dfDateProg\n",
    "adjustedCount=dfDateProg.merge(counts, on=['Date','Program_Name'], how='left')\n",
    "\n",
    "#remplacer les valeurs NaN par 0\n",
    "adjustedCount = adjustedCount.fillna(0)\n",
    "\n",
    "print(adjustedCount)"
   ],
   "outputs": [],
   "execution_count": null
  },
  {
   "cell_type": "code",
   "id": "c028107d-c013-447a-bbb2-b064ec34a425",
   "metadata": {},
   "source": [
    "# Calculer la moyenne des Count par Program_Name\n",
    "mean_counts = adjustedCount.groupby('Program_Name')['Count'].mean().reset_index(name='Mean_Count')\n",
    "max_counts = adjustedCount.groupby('Program_Name')['Count'].max().reset_index(name='Max_Count')\n",
    "min_counts = adjustedCount.groupby('Program_Name')['Count'].min().reset_index(name='Min_Count')\n",
    "sum_counts = adjustedCount.groupby('Program_Name')['Count'].sum().reset_index(name='Sum_Count')\n",
    "\n",
    "# Fusionner les DataFrames sur 'Program_Name'\n",
    "stats_counts = mean_counts.merge(max_counts, on='Program_Name').merge(min_counts, on='Program_Name').merge(sum_counts, on='Program_Name')\n",
    "\n",
    "# Trier par Mean_Count en ordre décroissant\n",
    "stats_counts = stats_counts.sort_values(by='Mean_Count', ascending=False)\n",
    "\n",
    "# Afficher le DataFrame mis à jour\n",
    "print(stats_counts)"
   ],
   "outputs": [],
   "execution_count": null
  },
  {
   "cell_type": "markdown",
   "id": "eb950841-934c-431f-816b-3d4cdb534ef6",
   "metadata": {},
   "source": [
    "On peut catégoriser par la moyenne. "
   ]
  },
  {
   "cell_type": "code",
   "id": "c486f809-2281-400f-aecb-82f43ac7f974",
   "metadata": {},
   "source": [],
   "outputs": [],
   "execution_count": null
  }
 ],
 "metadata": {
  "kernelspec": {
   "display_name": "Python 3 (ipykernel)",
   "language": "python",
   "name": "python3"
  },
  "language_info": {
   "codemirror_mode": {
    "name": "ipython",
    "version": 3
   },
   "file_extension": ".py",
   "mimetype": "text/x-python",
   "name": "python",
   "nbconvert_exporter": "python",
   "pygments_lexer": "ipython3",
   "version": "3.12.2"
  }
 },
 "nbformat": 4,
 "nbformat_minor": 5
}
