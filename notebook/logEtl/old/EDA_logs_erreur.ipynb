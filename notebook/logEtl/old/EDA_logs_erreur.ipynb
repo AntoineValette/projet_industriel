{
 "cells": [
  {
   "cell_type": "markdown",
   "id": "58705255-372a-4c0d-8725-4e24e97d04df",
   "metadata": {},
   "source": [
    "# Analyse Exploratoire des logs AVEC erreur"
   ]
  },
  {
   "cell_type": "markdown",
   "id": "e17ab80f-7197-4063-a8b9-1f9e42b9d75c",
   "metadata": {},
   "source": [
    "### Imports (fichier & modules)"
   ]
  },
  {
   "cell_type": "code",
   "id": "3f5d10ae-f8ab-4651-a142-cc6fb2017403",
   "metadata": {},
   "source": [
    "import pandas as pda\n",
    "import matplotlib.pyplot as plt\n",
    "import numpy as np\n",
    "#import os\n",
    "#print(os.getcwd())\n",
    "#print(os.listdir('241016_LogETL'))"
   ],
   "outputs": [],
   "execution_count": null
  },
  {
   "cell_type": "code",
   "id": "af43f6a9-1456-4b02-bff7-5aaeb5a9efc7",
   "metadata": {},
   "source": [
    "tab = pda.read_csv('../Data/logEtl/241016_LogETLError.csv', sep=';', dtype={'Program_Id': str, 'Schedules_Id': str, 'Schedules_Name': str})"
   ],
   "outputs": [],
   "execution_count": null
  },
  {
   "cell_type": "markdown",
   "id": "ea46cfca-50ad-446f-ab1d-9b652c920009",
   "metadata": {},
   "source": [
    "### Le fichier 241016_LogETLError.csv"
   ]
  },
  {
   "cell_type": "code",
   "id": "0b1590ea-42ef-43e1-b74e-416312a20dcc",
   "metadata": {},
   "source": [
    "print(\"il y a \",tab.shape[0],\" lignes et \",tab.shape[1],\" colonnes dans le data frame\")"
   ],
   "outputs": [],
   "execution_count": null
  },
  {
   "cell_type": "code",
   "id": "b592af3f-84fe-43ee-be6a-15c7735f1f58",
   "metadata": {},
   "source": [
    "tab.columns"
   ],
   "outputs": [],
   "execution_count": null
  },
  {
   "cell_type": "code",
   "id": "f3d6719b-bdfb-4c39-8791-a2e91bc0859e",
   "metadata": {},
   "source": [
    "tab.info()"
   ],
   "outputs": [],
   "execution_count": null
  },
  {
   "cell_type": "code",
   "id": "bb7809d9-d2fc-4486-a920-128db6e2b15e",
   "metadata": {},
   "source": [
    "# Calculer le nombre de valeurs uniques pour chaque colonne\n",
    "nb_valeurs_uniques = tab.nunique()\n",
    "\n",
    "# Afficher les résultats\n",
    "print(nb_valeurs_uniques)"
   ],
   "outputs": [],
   "execution_count": null
  },
  {
   "cell_type": "markdown",
   "id": "d8834160-09d5-4e9d-8c16-59bed1282159",
   "metadata": {},
   "source": [
    "On pourra supprimer les colonnes 1,2,4."
   ]
  },
  {
   "cell_type": "code",
   "id": "4b14c57d-f9ee-4fbf-8294-1208620d494d",
   "metadata": {},
   "source": [
    "tab.head()\n"
   ],
   "outputs": [],
   "execution_count": null
  },
  {
   "cell_type": "markdown",
   "id": "6665de3d-f731-4da1-ad44-c3c12c5dc988",
   "metadata": {},
   "source": [
    "## Regardons le détail par colonne"
   ]
  },
  {
   "cell_type": "markdown",
   "id": "b6c23d3f-1493-4d7e-b45d-3f628044a847",
   "metadata": {},
   "source": [
    "### Server version"
   ]
  },
  {
   "cell_type": "code",
   "id": "636d2add-6c74-4aba-8ef8-3f5cf7548e02",
   "metadata": {},
   "source": [
    "col= tab.columns[0]\n",
    "g = tab[col].value_counts().plot.bar()\n",
    "g.set_title('Distribution de : '+col)\n",
    "plt.show()"
   ],
   "outputs": [],
   "execution_count": null
  },
  {
   "cell_type": "markdown",
   "id": "4e1d6a02-f140-4d16-bb52-d8aacd173c60",
   "metadata": {},
   "source": [
    "### Client version"
   ]
  },
  {
   "cell_type": "code",
   "id": "fd9eae32-b748-4a7a-9aee-3a6e07b3474a",
   "metadata": {},
   "source": [
    "col= tab.columns[1]\n",
    "g = tab[col].value_counts().plot.bar()\n",
    "g.set_title('Distribution de : '+col)\n",
    "plt.show()"
   ],
   "outputs": [],
   "execution_count": null
  },
  {
   "cell_type": "markdown",
   "id": "7df5b1e0-f983-42ea-b68b-57760f6dc5c0",
   "metadata": {},
   "source": [
    "### Product"
   ]
  },
  {
   "cell_type": "code",
   "id": "38e88a99-94a7-4867-8368-821a59fc74d1",
   "metadata": {},
   "source": [
    "col= tab.columns[2]\n",
    "g = tab[col].value_counts().plot.bar()\n",
    "g.set_title('Distribution de : '+col)\n",
    "plt.show()"
   ],
   "outputs": [],
   "execution_count": null
  },
  {
   "cell_type": "markdown",
   "id": "b71cb43b-ba4d-42dc-82c3-48be95d0fe90",
   "metadata": {},
   "source": [
    "### Project name"
   ]
  },
  {
   "cell_type": "code",
   "id": "96c8289d-2e11-4ed2-9e4f-8eab2297a14b",
   "metadata": {},
   "source": [
    "col= tab.columns[3]\n",
    "g = tab[col].value_counts().plot.bar()\n",
    "g.set_title('Distribution de : '+col)\n",
    "plt.show()"
   ],
   "outputs": [],
   "execution_count": null
  },
  {
   "cell_type": "markdown",
   "id": "91662bf9-b910-43cf-8a95-81f6b700ec0f",
   "metadata": {},
   "source": [
    "### Model"
   ]
  },
  {
   "cell_type": "code",
   "id": "b387e4f0-dde7-4118-9806-355dc1029922",
   "metadata": {},
   "source": [
    "col= tab.columns[4]\n",
    "g = tab[col].value_counts().plot.bar()\n",
    "g.set_title('Distribution de : '+col)\n",
    "plt.show()\n",
    "print('Distribution de : '+col)\n",
    "tab[col].value_counts()"
   ],
   "outputs": [],
   "execution_count": null
  },
  {
   "cell_type": "markdown",
   "id": "9fcf288d-af91-4348-8106-36c7c34d6a76",
   "metadata": {},
   "source": [
    "### Date"
   ]
  },
  {
   "cell_type": "code",
   "id": "2e87fca4-a47b-4646-b47e-948878440157",
   "metadata": {},
   "source": [
    "col= tab.columns[5]\n",
    "print('Distribution de : '+col)\n",
    "tab[col].value_counts()"
   ],
   "outputs": [],
   "execution_count": null
  },
  {
   "cell_type": "markdown",
   "id": "ce16df1c-157e-4684-a110-47c3d670bf2d",
   "metadata": {},
   "source": [
    "### Time"
   ]
  },
  {
   "cell_type": "code",
   "id": "07b13241-64ed-436c-aea3-61c89f944352",
   "metadata": {},
   "source": [
    "col= tab.columns[6]\n",
    "print('Distribution de : '+col)\n",
    "tab[col].value_counts()"
   ],
   "outputs": [],
   "execution_count": null
  },
  {
   "cell_type": "markdown",
   "id": "1fa5e6e4-29d5-4f2e-96d3-902e97f4f7bf",
   "metadata": {},
   "source": [
    "### Row number"
   ]
  },
  {
   "cell_type": "code",
   "id": "51bf5891-1b34-4a7e-b00c-ca6d55abe958",
   "metadata": {},
   "source": [
    "col= tab.columns[7]\n",
    "print('Distribution de : '+col)\n",
    "tab[col].value_counts()"
   ],
   "outputs": [],
   "execution_count": null
  },
  {
   "cell_type": "markdown",
   "id": "3c805631-20c7-4dd8-9683-9a3557c68da6",
   "metadata": {},
   "source": [
    "### Type"
   ]
  },
  {
   "cell_type": "code",
   "id": "4ef0f0f2-76ba-4dfb-bf3f-12617a62d4e2",
   "metadata": {},
   "source": [
    "col= tab.columns[8]\n",
    "g = tab[col].value_counts().plot.bar()\n",
    "g.set_title('Distribution de : '+col)\n",
    "plt.show()"
   ],
   "outputs": [],
   "execution_count": null
  },
  {
   "cell_type": "markdown",
   "id": "2ce4dce9-1ca2-4e57-8b78-5fac436af98d",
   "metadata": {},
   "source": [
    "### Message"
   ]
  },
  {
   "cell_type": "code",
   "id": "2c69c29b-1abf-48c6-b97f-6e627db16e45",
   "metadata": {},
   "source": [
    "col= tab.columns[9]\n",
    "print('Distribution de : '+col)\n",
    "tab[col].value_counts()"
   ],
   "outputs": [],
   "execution_count": null
  },
  {
   "cell_type": "markdown",
   "id": "61baa256-1b01-4293-a959-921ffe4c2994",
   "metadata": {},
   "source": [
    "On doit pouvoir segmenter ces erreurs par type? "
   ]
  },
  {
   "cell_type": "markdown",
   "id": "bf77241a-998c-4919-a17b-78147d508088",
   "metadata": {},
   "source": [
    "### ETL_StartDateTime"
   ]
  },
  {
   "cell_type": "code",
   "id": "1c6f80be-a6fa-4bfd-8551-f064dd060414",
   "metadata": {},
   "source": [
    "col= tab.columns[10]\n",
    "print('Distribution de : '+col)\n",
    "tab[col].value_counts()"
   ],
   "outputs": [],
   "execution_count": null
  },
  {
   "cell_type": "markdown",
   "id": "46fd2e0e-f0c0-42e2-8e52-7c3715983580",
   "metadata": {},
   "source": [
    "### Launcher_Id"
   ]
  },
  {
   "cell_type": "code",
   "id": "4331d230-36ff-4f95-9123-b13ebf313e75",
   "metadata": {},
   "source": [
    "col= tab.columns[11]\n",
    "g = tab[col].value_counts().plot.bar()\n",
    "g.set_title('Distribution de : '+col)\n",
    "plt.show()"
   ],
   "outputs": [],
   "execution_count": null
  },
  {
   "cell_type": "markdown",
   "id": "f5cad788-36ec-4ee3-83fe-4340a8f7c212",
   "metadata": {},
   "source": [
    "### Launcher_Name"
   ]
  },
  {
   "cell_type": "code",
   "id": "85d2b7d0-9d08-42c9-8f40-6404cefbd478",
   "metadata": {},
   "source": [
    "col= tab.columns[12]\n",
    "g = tab[col].value_counts().plot.bar()\n",
    "g.set_title('Distribution de : '+col)\n",
    "plt.show()"
   ],
   "outputs": [],
   "execution_count": null
  },
  {
   "cell_type": "markdown",
   "id": "45687e9a-6c9a-4455-9c43-7c65bc58da12",
   "metadata": {},
   "source": [
    "### Machine"
   ]
  },
  {
   "cell_type": "code",
   "id": "f1d9ac73-fe34-4ac2-b8bd-a8623628b6fe",
   "metadata": {},
   "source": [
    "col= tab.columns[13]\n",
    "g = tab[col].value_counts().plot.bar()\n",
    "g.set_title('Distribution de : '+col)\n",
    "plt.show()"
   ],
   "outputs": [],
   "execution_count": null
  },
  {
   "cell_type": "markdown",
   "id": "be2f2867-0bee-40d7-bfee-8be4e1a97898",
   "metadata": {},
   "source": [
    "### Program_Id"
   ]
  },
  {
   "cell_type": "code",
   "id": "68ac5e58-4d8b-4731-b386-58d8e04fb0e5",
   "metadata": {},
   "source": [
    "col= tab.columns[14]\n",
    "g = tab[col].value_counts().plot.bar()\n",
    "g.set_title('Distribution de : '+col)\n",
    "plt.show()"
   ],
   "outputs": [],
   "execution_count": null
  },
  {
   "cell_type": "markdown",
   "id": "c949e6a1-3987-4749-ae91-4927b0274e32",
   "metadata": {},
   "source": [
    "### Program_Name"
   ]
  },
  {
   "cell_type": "code",
   "id": "ef6ff634-248d-47d6-8f90-c468e0c34391",
   "metadata": {},
   "source": [
    "col= tab.columns[15]\n",
    "print('Distribution de : '+col)\n",
    "tab[col].value_counts()"
   ],
   "outputs": [],
   "execution_count": null
  },
  {
   "cell_type": "markdown",
   "id": "090917dd-ac6e-4546-a581-1181f1558119",
   "metadata": {},
   "source": [
    "### Schedules_ld"
   ]
  },
  {
   "cell_type": "code",
   "id": "ddb40e16-62e7-4964-b6fd-24debc0ae5a9",
   "metadata": {},
   "source": [
    "col= tab.columns[16]\n",
    "g = tab[col].value_counts().plot.bar()\n",
    "g.set_title('Distribution de : '+col)\n",
    "plt.show()"
   ],
   "outputs": [],
   "execution_count": null
  },
  {
   "cell_type": "markdown",
   "id": "23df021e-eeed-4314-b1d2-db6e5d58c6b8",
   "metadata": {},
   "source": [
    "### Schedules Name"
   ]
  },
  {
   "cell_type": "code",
   "id": "5fb62c7c-36be-44a4-b53c-2406a15de4cd",
   "metadata": {},
   "source": [
    "col= tab.columns[17]\n",
    "g = tab[col].value_counts().plot.bar()\n",
    "g.set_title('Distribution de : '+col)\n",
    "plt.show()"
   ],
   "outputs": [],
   "execution_count": null
  },
  {
   "cell_type": "markdown",
   "id": "0a1aea9d-f29f-480d-a8de-41665719535d",
   "metadata": {},
   "source": [
    "### Schedules_StartDateTime"
   ]
  },
  {
   "cell_type": "code",
   "id": "e8a71df0-6267-4015-8a85-48f45801ff60",
   "metadata": {},
   "source": [
    "col= tab.columns[18]\n",
    "print('Distribution de : '+col)\n",
    "tab[col].value_counts()"
   ],
   "outputs": [],
   "execution_count": null
  }
 ],
 "metadata": {
  "kernelspec": {
   "display_name": "Python [conda env:base] *",
   "language": "python",
   "name": "conda-base-py"
  },
  "language_info": {
   "codemirror_mode": {
    "name": "ipython",
    "version": 3
   },
   "file_extension": ".py",
   "mimetype": "text/x-python",
   "name": "python",
   "nbconvert_exporter": "python",
   "pygments_lexer": "ipython3",
   "version": "3.12.7"
  }
 },
 "nbformat": 4,
 "nbformat_minor": 5
}
