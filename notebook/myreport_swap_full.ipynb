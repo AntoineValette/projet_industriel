{
 "cells": [
  {
   "cell_type": "markdown",
   "id": "58705255-372a-4c0d-8725-4e24e97d04df",
   "metadata": {},
   "source": [
    "# Analyse Exploratoire du fichier myreport_swap_full.csv"
   ]
  },
  {
   "cell_type": "markdown",
   "id": "e17ab80f-7197-4063-a8b9-1f9e42b9d75c",
   "metadata": {},
   "source": [
    "### Imports (fichier & modules)"
   ]
  },
  {
   "cell_type": "code",
   "id": "3f5d10ae-f8ab-4651-a142-cc6fb2017403",
   "metadata": {},
   "source": [
    "import pandas as pd\n",
    "import matplotlib.pyplot as plt\n",
    "import numpy as np\n",
    "import seaborn as sns\n",
    "import math\n",
    "\n",
    "#import os\n",
    "#print(os.getcwd())\n",
    "#print(os.listdir('241016_LogETL'))"
   ],
   "outputs": [],
   "execution_count": null
  },
  {
   "cell_type": "code",
   "id": "af43f6a9-1456-4b02-bff7-5aaeb5a9efc7",
   "metadata": {},
   "source": [
    "tab = pd.read_csv('../data/logServer/myreport_swap_full.csv', sep=',', dtype={'Program_Id': str, 'Schedules_Id': str, 'Schedules_Name': str})"
   ],
   "outputs": [],
   "execution_count": null
  },
  {
   "cell_type": "markdown",
   "id": "ea46cfca-50ad-446f-ab1d-9b652c920009",
   "metadata": {},
   "source": [
    "### Le fichier myreport_swap_full.csv"
   ]
  },
  {
   "cell_type": "code",
   "id": "0b1590ea-42ef-43e1-b74e-416312a20dcc",
   "metadata": {},
   "source": [
    "print(\"il y a \",tab.shape[0],\" lignes et \",tab.shape[1],\" colonnes dans le data frame\")"
   ],
   "outputs": [],
   "execution_count": null
  },
  {
   "cell_type": "code",
   "id": "b592af3f-84fe-43ee-be6a-15c7735f1f58",
   "metadata": {},
   "source": [
    "tab.columns"
   ],
   "outputs": [],
   "execution_count": null
  },
  {
   "cell_type": "code",
   "id": "f3d6719b-bdfb-4c39-8791-a2e91bc0859e",
   "metadata": {},
   "source": [
    "tab.info()"
   ],
   "outputs": [],
   "execution_count": null
  },
  {
   "cell_type": "code",
   "id": "bb7809d9-d2fc-4486-a920-128db6e2b15e",
   "metadata": {},
   "source": [
    "# Calculer le nombre de valeurs uniques pour chaque colonne\n",
    "nb_valeurs_uniques = tab.nunique()\n",
    "\n",
    "# Afficher les résultats\n",
    "print(nb_valeurs_uniques)"
   ],
   "outputs": [],
   "execution_count": null
  },
  {
   "cell_type": "code",
   "id": "4b14c57d-f9ee-4fbf-8294-1208620d494d",
   "metadata": {},
   "source": [
    "tab.head()\n"
   ],
   "outputs": [],
   "execution_count": null
  },
  {
   "cell_type": "markdown",
   "id": "55627bcc-8912-4648-94cf-a896b8b0e24d",
   "metadata": {},
   "source": [
    "### Transformation des dates"
   ]
  },
  {
   "cell_type": "code",
   "id": "76c2b37b-2b73-4096-bef9-e700785a4787",
   "metadata": {},
   "source": [
    "# Convertir toutes les dates de la colonne 'Date et heure(RAW)'\n",
    "tab['Date et heure'] = tab[\"Date et heure\"].str.split(\" - \").str[0]\n",
    "\n",
    "tab=tab.iloc[:-5]\n",
    "# Si vous avez un format comme \"JJ/MM/AAAA HH:MM:SS\", vous pouvez préciser :\n",
    "tab['Date et heure'] = pd.to_datetime(tab['Date et heure'], format=\"%d/%m/%Y %H:%M:%S\")"
   ],
   "outputs": [],
   "execution_count": null
  },
  {
   "cell_type": "code",
   "id": "4959567b-55ea-4a91-8a3c-9bd330d53376",
   "metadata": {},
   "source": [
    "tab.head()\n"
   ],
   "outputs": [],
   "execution_count": null
  },
  {
   "cell_type": "code",
   "id": "3a46dfe4-7ecf-402a-ac55-a42c6ae727df",
   "metadata": {},
   "source": [
    "start_date = '2024-08-24 23:32:03'\n",
    "end_date = '2024-10-15 23:31:49'\n",
    "tab = tab[(tab['Date et heure'] >= start_date) & (tab['Date et heure'] <= end_date)]"
   ],
   "outputs": [],
   "execution_count": null
  },
  {
   "cell_type": "code",
   "id": "526b4801-9291-4473-b377-35c1724ccb96",
   "metadata": {},
   "source": [
    "tab.shape"
   ],
   "outputs": [],
   "execution_count": null
  },
  {
   "cell_type": "markdown",
   "id": "57d3ceba-3953-4dd0-8234-55510790d861",
   "metadata": {},
   "source": [
    "### Réagencement et Suppression des colonnes"
   ]
  },
  {
   "cell_type": "code",
   "id": "a6653444-8f6c-4a19-95eb-541be0151373",
   "metadata": {},
   "source": [
    "# suppression des colonnes inutiles\n",
    "tab = tab.drop(columns=[\"Date et heure(RAW)\"])\n",
    "tab = tab.drop(columns=[\"Total\"])\n",
    "tab = tab.drop(columns=[\"Temps mort\"])\n",
    "tab = tab.drop(columns=[\"Couverture\"])\n",
    "\n",
    "# renommage des colonnes\n",
    "\n",
    "tab.rename(columns={\"Temps mort(RAW)\": \"swap Temps mort(%)\"}, inplace=True)\n",
    "tab.rename(columns={\"Couverture(RAW)\": \"swap Couverture(%)\"}, inplace=True)\n",
    "tab.rename(columns={\"Total(RAW)\": \"total swap(%)\"}, inplace=True)\n",
    "\n"
   ],
   "outputs": [],
   "execution_count": null
  },
  {
   "cell_type": "code",
   "id": "af236986-f359-483f-97f6-b71120dfa0b6",
   "metadata": {},
   "source": [
    "tab.head()\n"
   ],
   "outputs": [],
   "execution_count": null
  },
  {
   "cell_type": "code",
   "id": "b8be8ede-99f6-409a-aec7-a272c84b6386",
   "metadata": {},
   "source": [
    "print(type(tab[\"Date et heure\"].iloc[0])) #vérifier le typage de date_full"
   ],
   "outputs": [],
   "execution_count": null
  },
  {
   "cell_type": "markdown",
   "id": "6665de3d-f731-4da1-ad44-c3c12c5dc988",
   "metadata": {},
   "source": [
    "## Analyse temporelle"
   ]
  },
  {
   "cell_type": "code",
   "id": "d231d99f-419f-4c75-8b24-bd29ba546e06",
   "metadata": {
    "scrolled": true
   },
   "source": [
    "import matplotlib.pyplot as plt\n",
    "import itertools\n",
    "import pandas as pd\n",
    "\n",
    "import matplotlib.pyplot as plt\n",
    "\n",
    "# Vérifier que 'date_full' est bien au format datetime\n",
    "tab[\"Date et heure\"] = pd.to_datetime(tab[\"Date et heure\"])\n",
    "\n",
    "# Liste des colonnes à exclure\n",
    "excluded_cols = [\"date_full\", \"date\", \"heure\", \"Date et heure(RAW)\"]\n",
    "\n",
    "# Tracer chaque colonne en fonction du temps\n",
    "for col in tab.columns:\n",
    "    if col not in excluded_cols:  # Exclure les colonnes non pertinentes\n",
    "        plt.figure(figsize=(10, 5))\n",
    "\n",
    "        plt.plot(tab[\"Date et heure\"], tab[col], marker='o', linestyle='-')\n",
    "\n",
    "        plt.xlabel(\"Date et heure\")\n",
    "        plt.ylabel(f\"{col}\")  # Correction de la syntaxe\n",
    "        plt.title(f\"Évolution de {col} en fonction du temps\")\n",
    "        plt.legend([col])  # Correction de la légende\n",
    "        plt.xticks(rotation=45)\n",
    "        plt.grid()\n",
    "\n",
    "        plt.show()"
   ],
   "outputs": [],
   "execution_count": null
  },
  {
   "cell_type": "code",
   "id": "90698ea6-ab25-4a6f-972b-d07107f1d714",
   "metadata": {
    "scrolled": true
   },
   "source": [
    "import seaborn as sns\n",
    "\n",
    "# Exclure les colonnes non numériques\n",
    "numerical_cols = tab.select_dtypes(include=['number']).columns\n",
    "\n",
    "# Tracer un boxplot pour chaque colonne\n",
    "for col in numerical_cols:\n",
    "    if col not in excluded_cols:  # Exclure les colonnes non pertinentes\n",
    "        plt.figure(figsize=(8, 5))\n",
    "        sns.boxplot(y=tab[col])\n",
    "        plt.title(f\"Boxplot de {col}\")\n",
    "        plt.grid()\n",
    "        plt.show()"
   ],
   "outputs": [],
   "execution_count": null
  },
  {
   "cell_type": "code",
   "id": "b3976fd9-2b8f-4d5b-82be-ad666ddd1d84",
   "metadata": {},
   "source": [
    "# Sélection des colonnes numériques\n",
    "numerical_cols = tab.select_dtypes(include=['number']).columns\n",
    "\n",
    "# Filtre pour exclure les colonnes non pertinentes\n",
    "cols_to_plot = [col for col in numerical_cols if col not in excluded_cols]\n",
    "\n",
    "rows=(math.ceil(len(cols_to_plot)/3))\n",
    "# Créer une figure avec 2 lignes et 3 colonnes de sous-graphiques (axes)\n",
    "fig, axes = plt.subplots(nrows=rows, ncols=3, figsize=(15, rows*5))\n",
    "\n",
    "# Convertir \"axes\" en un tableau 1D pour plus de flexibilité\n",
    "axes = axes.flatten()\n",
    "\n",
    "# Boucler sur les colonnes et tracer un boxplot dans chaque sous-graphique\n",
    "for i, col in enumerate(cols_to_plot):\n",
    "    sns.boxplot(y=tab[col], ax=axes[i])\n",
    "    axes[i].set_title(f\"Boxplot de {col}\")\n",
    "    axes[i].grid()\n",
    "\n",
    "# Ajuster l'espacement entre les sous-graphiques\n",
    "plt.tight_layout()\n",
    "\n",
    "# Afficher la figure\n",
    "plt.show()"
   ],
   "outputs": [],
   "execution_count": null
  },
  {
   "cell_type": "markdown",
   "id": "b6057fdb-67e5-4933-8475-c5c94f86180c",
   "metadata": {},
   "source": [
    "### drop des colonnes inutiles"
   ]
  },
  {
   "cell_type": "code",
   "id": "29bba621-4f5c-4b48-8e5b-17e5477cc704",
   "metadata": {},
   "source": [
    "tab = tab.drop(columns=[\"swap Temps mort(%)\"])\n",
    "tab = tab.drop(columns=[\"swap Couverture(%)\"])"
   ],
   "outputs": [],
   "execution_count": null
  },
  {
   "cell_type": "markdown",
   "id": "c399bbd5-10b9-4f5f-a45f-96be36065c60",
   "metadata": {},
   "source": [
    "### Enregistrement du nouveau dataframe dans un nouveau csv"
   ]
  },
  {
   "cell_type": "code",
   "id": "2da3dac9-8a12-472c-b2fb-72e5c911138e",
   "metadata": {},
   "source": [
    "#### ATTENTION au path et nom de fichier\n",
    "tab.to_csv(\"../data/logServer/filtered/myreport_swap_filtered.csv\", index=False, encoding='utf-8')"
   ],
   "outputs": [],
   "execution_count": null
  },
  {
   "cell_type": "code",
   "id": "af90ddab-836d-451e-b60f-af50ad837e84",
   "metadata": {},
   "source": [],
   "outputs": [],
   "execution_count": null
  },
  {
   "cell_type": "code",
   "id": "8fb95c41-5fea-4b69-aacc-6baa19edc1c5",
   "metadata": {},
   "source": [],
   "outputs": [],
   "execution_count": null
  }
 ],
 "metadata": {
  "kernelspec": {
   "display_name": "Python 3 (ipykernel)",
   "language": "python",
   "name": "python3"
  },
  "language_info": {
   "codemirror_mode": {
    "name": "ipython",
    "version": 3
   },
   "file_extension": ".py",
   "mimetype": "text/x-python",
   "name": "python",
   "nbconvert_exporter": "python",
   "pygments_lexer": "ipython3",
   "version": "3.12.2"
  }
 },
 "nbformat": 4,
 "nbformat_minor": 5
}
