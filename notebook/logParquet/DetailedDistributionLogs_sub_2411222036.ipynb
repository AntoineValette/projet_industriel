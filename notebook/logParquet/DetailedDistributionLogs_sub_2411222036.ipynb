{
 "cells": [
  {
   "cell_type": "markdown",
   "metadata": {},
   "source": [
    "# Exploration des données des logs de distribution"
   ]
  },
  {
   "cell_type": "code",
   "metadata": {},
   "source": [
    "import matplotlib.pyplot as plt\n",
    "import pandas as pd\n",
    "import seaborn as sns"
   ],
   "outputs": [],
   "execution_count": null
  },
  {
   "cell_type": "code",
   "metadata": {},
   "source": [
    "# Lire un fichier Parquet\n",
    "df = pd.read_parquet('../../data/logParquet/DetailedDistributionLogs_sub_2411222036.parquet')\n",
    "\n",
    "# Afficher les premières lignes\n",
    "print(df.head())"
   ],
   "outputs": [],
   "execution_count": null
  },
  {
   "cell_type": "code",
   "metadata": {},
   "source": [
    "# Drop colonnes inutiles\n",
    "\n",
    "df = df.drop(columns=['FirstName', 'LastName', 'IsError']) "
   ],
   "outputs": [],
   "execution_count": null
  },
  {
   "cell_type": "code",
   "metadata": {},
   "source": [
    "# Afficher les premières lignes\n",
    "print(df.head())"
   ],
   "outputs": [],
   "execution_count": null
  },
  {
   "cell_type": "code",
   "metadata": {},
   "source": [
    "n_unique_login = df['Login'].nunique()\n",
    "print(f\"Nombre de login différents : {n_unique_login}\")"
   ],
   "outputs": [],
   "execution_count": null
  },
  {
   "cell_type": "code",
   "metadata": {},
   "source": [
    "n_unique_distrib_name = df['DistributionName'].nunique()\n",
    "print(f\"Nombre de login différents : {n_unique_distrib_name}\")"
   ],
   "outputs": [],
   "execution_count": null
  },
  {
   "cell_type": "code",
   "metadata": {},
   "source": [
    "from IPython.display import display\n",
    "\n",
    "display(df.head())  # Permet de voir un tableau interactif"
   ],
   "outputs": [],
   "execution_count": null
  },
  {
   "cell_type": "code",
   "metadata": {},
   "source": [
    "# Compter les occurrences des Login\n",
    "login_counts = df['Login'].value_counts()\n",
    "\n",
    "# Sélectionner les 15 plus fréquents\n",
    "top_login = login_counts.head(15)\n",
    "\n",
    "plt.figure(figsize=(12, 6))\n",
    "top_login.plot(kind='bar', color='skyblue', edgecolor='black')\n",
    "plt.xticks(rotation=90)\n",
    "plt.xlabel(\"Login\")\n",
    "plt.ylabel(\"Fréquence\")\n",
    "plt.title(\"Top 15 des Login les plus fréquents\")\n",
    "plt.show()"
   ],
   "outputs": [],
   "execution_count": null
  },
  {
   "cell_type": "code",
   "metadata": {},
   "source": [
    "# Compter les occurrences des erreur\n",
    "error_counts = df['IsError'].value_counts()\n",
    "\n",
    "plt.figure(figsize=(12, 6))\n",
    "error_counts.plot(kind='bar', color='skyblue', edgecolor='black')\n",
    "plt.xticks(rotation=90)\n",
    "plt.xlabel(\"Login\")\n",
    "plt.ylabel(\"Fréquence\")\n",
    "plt.title(\"Fréquence des erreurs\")\n",
    "plt.show()"
   ],
   "outputs": [],
   "execution_count": null
  },
  {
   "cell_type": "code",
   "metadata": {},
   "source": [
    "# Compter les occurrences des ScheduleName\n",
    "ScheduleName_counts = df['ScheduleName'].value_counts()\n",
    "\n",
    "# Sélectionner les 15 plus fréquents\n",
    "top_ScheduleName = ScheduleName_counts.head(15)\n",
    "\n",
    "plt.figure(figsize=(12, 6))\n",
    "top_ScheduleName.plot(kind='bar', color='skyblue', edgecolor='black')\n",
    "plt.xticks(rotation=90)\n",
    "plt.xlabel(\"Login\")\n",
    "plt.ylabel(\"Fréquence\")\n",
    "plt.title(\"Top 15 des Login les plus fréquents\")\n",
    "plt.show()"
   ],
   "outputs": [],
   "execution_count": null
  },
  {
   "cell_type": "code",
   "metadata": {},
   "source": [
    "# Compter les occurrences des DistributionName\n",
    "DistributionName_counts = df['DistributionName'].value_counts()\n",
    "\n",
    "# Sélectionner les 15 plus fréquents\n",
    "top_DistributionName = DistributionName_counts.head(15)\n",
    "\n",
    "plt.figure(figsize=(12, 6))\n",
    "top_DistributionName.plot(kind='bar', color='skyblue', edgecolor='black')\n",
    "plt.xticks(rotation=90)\n",
    "plt.xlabel(\"Login\")\n",
    "plt.ylabel(\"Fréquence\")\n",
    "plt.title(\"Top 15 des Login les plus fréquents\")\n",
    "plt.show()"
   ],
   "outputs": [],
   "execution_count": null
  },
  {
   "cell_type": "code",
   "metadata": {},
   "source": [
    "# Sélectionner les 15 logins les plus fréquents\n",
    "top_login = df['Login'].value_counts().head(15).index\n",
    "df_top_login = df[df['Login'].isin(top_login)]\n",
    "\n",
    "# Sélectionner les 15 dashboards les plus utilisés par ces logins\n",
    "top_DistributionName = df_top_login['DistributionName'].value_counts().head(15).index\n",
    "df_top = df_top_login[df_top_login['DistributionName'].isin(top_DistributionName)]\n",
    "\n",
    "# Créer la matrice Login x DashboardName\n",
    "login_DistributionName_matrix = df_top.pivot_table(index='Login', columns='DistributionName', aggfunc='size', fill_value=0)\n",
    "\n",
    "# Affichage de la heatmap\n",
    "plt.figure(figsize=(12, 6))\n",
    "sns.heatmap(login_DistributionName_matrix, annot=True, fmt=\"d\", cmap=\"Blues\", linewidths=0.5)\n",
    "plt.xlabel(\"DistributionName\")\n",
    "plt.ylabel(\"Login\")\n",
    "plt.title(\"Connexion des Logins aux Distributions (Top 15 Logins & Distributions)\")\n",
    "plt.xticks(rotation=90)\n",
    "plt.show()"
   ],
   "outputs": [],
   "execution_count": null
  },
  {
   "cell_type": "code",
   "metadata": {},
   "source": [
    "# Convertir en datetime\n",
    "df['DatetimeLog'] = pd.to_datetime(df['DatetimeLog'])"
   ],
   "outputs": [],
   "execution_count": null
  },
  {
   "cell_type": "code",
   "metadata": {},
   "source": [
    "# Extraire le jour de la semaine en texte\n",
    "jours_semaine = [\"lundi\", \"mardi\", \"mercredi\", \"jeudi\", \"vendredi\", \"samedi\", \"dimanche\"]\n",
    "df['jour_semaine'] = df['DatetimeLog'].dt.weekday.map(lambda x: jours_semaine[x])\n",
    "\n",
    "# Extraire l'heure arrondie à la tranche de 30 min\n",
    "df['heure'] = df['DatetimeLog'].dt.hour + (df['DatetimeLog'].dt.minute // 60) * 0.5\n",
    "\n",
    "# Formater l'affichage de l'heure en \"9h00\", \"9h30\", etc.\n",
    "df['horaire'] = df['heure'].apply(lambda x: f\"{int(x)}h{int((x % 1) * 60):02d}\")\n",
    "\n",
    "# Concaténer jour et horaire pour une meilleure lisibilité\n",
    "df['jour_horaire'] = df['jour_semaine'].astype(str) + \" \" + df['horaire']\n",
    "\n",
    "# Séparer jour et heure\n",
    "df[['jour', 'horaire']] = df['jour_horaire'].str.split(' ', expand=True)\n",
    "\n",
    "# Convertir le jour en catégorie ordonnée\n",
    "df['jour'] = pd.Categorical(df['jour'], categories=jours_semaine, ordered=True)\n",
    "\n",
    "# Convertir l'heure en entier pour tri correct\n",
    "df['heure_num'] = df['horaire'].str.replace('h', '').astype(int)\n",
    "\n",
    "# Trier d'abord par jour, puis par heure\n",
    "df = df.sort_values(['jour', 'heure_num']).drop(columns=['jour', 'heure_num'])"
   ],
   "outputs": [],
   "execution_count": null
  },
  {
   "cell_type": "code",
   "metadata": {},
   "source": [
    "# Compter la fréquence des valeurs\n",
    "freq_logs = df['jour_horaire'].value_counts().reset_index()\n",
    "freq_logs.columns = ['jour_horaire', 'count']\n",
    "\n",
    "# Fusionner avec le dataframe trié pour conserver l'ordre correct\n",
    "freq_logs = df[['jour_horaire']].drop_duplicates().merge(freq_logs, on='jour_horaire', how='left')\n",
    "\n",
    "# Taille du graphique\n",
    "plt.figure(figsize=(12, 6))\n",
    "\n",
    "# Tracer l'histogramme\n",
    "plt.bar(freq_logs['jour_horaire'], freq_logs['count'], color='steelblue', edgecolor='black')\n",
    "\n",
    "# Espacer les labels (afficher une étiquette toutes les 5 valeurs)\n",
    "step = 2  # Modifier ce nombre si besoin\n",
    "plt.xticks(range(0, len(freq_logs), step), freq_logs['jour_horaire'][::step], rotation=90, fontsize=10)\n",
    "\n",
    "# Ajouter les labels\n",
    "plt.xlabel(\"Jour et Horaire\")\n",
    "plt.ylabel(\"Nombre de logs\")\n",
    "plt.title(\"Fréquence des logs par jour et tranche horaire (étiquettes réduites)\")\n",
    "\n",
    "# Afficher le graphique\n",
    "plt.show()"
   ],
   "outputs": [],
   "execution_count": null
  },
  {
   "cell_type": "code",
   "metadata": {},
   "source": [
    "# Sélectionner les 15 DistributionName les plus fréquents\n",
    "top_dashboards = df['DistributionName'].value_counts().head(15).index\n",
    "df_top = df[df['DistributionName'].isin(top_dashboards)]\n",
    "\n",
    "# Compter les occurrences par DistributionName et jour_horaire\n",
    "freq_logs = df_top.groupby(['DistributionName', 'jour_horaire']).size().reset_index(name='count')\n",
    "\n",
    "# Trier les jours et horaires\n",
    "freq_logs[['jour', 'horaire']] = freq_logs['jour_horaire'].str.split(' ', expand=True)\n",
    "freq_logs['jour'] = pd.Categorical(freq_logs['jour'], categories=jours_semaine, ordered=True)\n",
    "freq_logs = freq_logs.sort_values(['DistributionName', 'jour', 'horaire'])\n",
    "\n",
    "# Générer un graphique par DistributionName\n",
    "dashboard_list = freq_logs['DistributionName'].unique()\n",
    "fig, axes = plt.subplots(len(dashboard_list), 1, figsize=(12, 5 * len(dashboard_list)))\n",
    "\n",
    "if len(dashboard_list) == 1:\n",
    "    axes = [axes]  # S'assurer que axes est une liste si un seul graphique\n",
    "\n",
    "for ax, dashboard in zip(axes, dashboard_list):\n",
    "    subset = freq_logs[freq_logs['DistributionName'] == dashboard]\n",
    "    ax.bar(subset['jour_horaire'], subset['count'], color='steelblue', edgecolor='black')\n",
    "    ax.set_title(f\"Fréquence des logs pour {dashboard}\")\n",
    "    ax.set_xlabel(\"Jour et Horaire\")\n",
    "    ax.set_ylabel(\"Nombre de logs\")\n",
    "    ax.set_xticks(range(0, len(subset), max(1, len(subset) // 15)))\n",
    "    ax.set_xticklabels(subset['jour_horaire'][::max(1, len(subset) // 15)], rotation=90, fontsize=10)\n",
    "\n",
    "plt.tight_layout()\n",
    "plt.show()"
   ],
   "outputs": [],
   "execution_count": null
  },
  {
   "cell_type": "code",
   "metadata": {},
   "source": [
    "# Sélectionner les 15 Login les plus fréquents\n",
    "top_dashboards = df['Login'].value_counts().head(15).index\n",
    "df_top = df[df['Login'].isin(top_dashboards)]\n",
    "\n",
    "# Compter les occurrences par Login et jour_horaire\n",
    "freq_logs = df_top.groupby(['Login', 'jour_horaire']).size().reset_index(name='count')\n",
    "\n",
    "# Trier les jours et horaires\n",
    "freq_logs[['jour', 'horaire']] = freq_logs['jour_horaire'].str.split(' ', expand=True)\n",
    "freq_logs['jour'] = pd.Categorical(freq_logs['jour'], categories=jours_semaine, ordered=True)\n",
    "freq_logs = freq_logs.sort_values(['Login', 'jour', 'horaire'])\n",
    "\n",
    "# Générer un graphique par Login\n",
    "dashboard_list = freq_logs['Login'].unique()\n",
    "fig, axes = plt.subplots(len(dashboard_list), 1, figsize=(12, 5 * len(dashboard_list)))\n",
    "\n",
    "if len(dashboard_list) == 1:\n",
    "    axes = [axes]  # S'assurer que axes est une liste si un seul graphique\n",
    "\n",
    "for ax, dashboard in zip(axes, dashboard_list):\n",
    "    subset = freq_logs[freq_logs['Login'] == dashboard]\n",
    "    ax.bar(subset['jour_horaire'], subset['count'], color='steelblue', edgecolor='black')\n",
    "    ax.set_title(f\"Fréquence des logs pour {dashboard}\")\n",
    "    ax.set_xlabel(\"Jour et Horaire\")\n",
    "    ax.set_ylabel(\"Nombre de logs\")\n",
    "    ax.set_xticks(range(0, len(subset), max(1, len(subset) // 15)))\n",
    "    ax.set_xticklabels(subset['jour_horaire'][::max(1, len(subset) // 15)], rotation=90, fontsize=10)\n",
    "\n",
    "plt.tight_layout()\n",
    "plt.show()"
   ],
   "outputs": [],
   "execution_count": null
  }
 ],
 "metadata": {
  "kernelspec": {
   "display_name": "DORenv",
   "language": "python",
   "name": "python3"
  },
  "language_info": {
   "codemirror_mode": {
    "name": "ipython",
    "version": 3
   },
   "file_extension": ".py",
   "mimetype": "text/x-python",
   "name": "python",
   "nbconvert_exporter": "python",
   "pygments_lexer": "ipython3",
   "version": "3.13.1"
  }
 },
 "nbformat": 4,
 "nbformat_minor": 2
}
